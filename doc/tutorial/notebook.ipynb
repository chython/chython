{
 "cells": [
  {
   "cell_type": "markdown",
   "metadata": {},
   "source": [
    "# 1. Input-output operations\n",
    "\n",
    "*chython.files* subpackage contains file readers and writers classes.\n",
    "\n",
    "## 1.1. MDL RDF reader\n",
    "\n",
    "**RDFRead** class can be used for RDF files reading.\n",
    "Instance of this class is file-like object which support **iteration**, has a method **read()** for parsing all data and **context manager**.\n",
    "\n",
    "### 1.1.1. Read file from disk"
   ]
  },
  {
   "cell_type": "code",
   "execution_count": 1,
   "metadata": {},
   "outputs": [],
   "source": [
    "from chython.files import * # import all available readers and writers\n",
    "\n",
    "with RDFRead('example.rdf') as f:\n",
    "    first = next(f)  # get first reaction using generator\n",
    "    data = f.read()  # read remaining reactions to list of ReactionContainers\n",
    "\n",
    "data = []\n",
    "with RDFRead('example.rdf') as f:\n",
    "    for r in f:  # looping is supported. Useful for large files.\n",
    "        data.append(r)"
   ]
  },
  {
   "cell_type": "markdown",
   "metadata": {},
   "source": [
    "#### OOP-stype Pathlib supported"
   ]
  },
  {
   "cell_type": "code",
   "execution_count": 2,
   "metadata": {},
   "outputs": [],
   "source": [
    "from pathlib import Path\n",
    "\n",
    "with RDFRead(Path('example.rdf')) as r: # OOP style call\n",
    "    r = next(r)"
   ]
  },
  {
   "cell_type": "markdown",
   "metadata": {},
   "source": [
    "#### opened files supported\n",
    "RDF file should be opened in text mode"
   ]
  },
  {
   "cell_type": "code",
   "execution_count": 3,
   "metadata": {},
   "outputs": [],
   "source": [
    "with open('example.rdf') as f, RDFRead(f) as r:\n",
    "    r = next(r) # OOP style application"
   ]
  },
  {
   "cell_type": "markdown",
   "metadata": {},
   "source": [
    "### 1.1.2. Transparent loading from archives and network\n",
    "Readers designed transparently support any type of data sources. \n",
    "\n",
    "Data sources should be file-like objects."
   ]
  },
  {
   "cell_type": "code",
   "execution_count": 4,
   "metadata": {},
   "outputs": [],
   "source": [
    "from requests import get\n",
    "from io import StringIO\n",
    "\n",
    "# get function return requested URL which has attribute text. \n",
    "# in example this text is whole RDF stored in single string.\n",
    "# RDFread does not support parsing of strings, but one can emulate files with data \n",
    "# instead of strings by using io.StringIO\n",
    "with StringIO(get('https://github.com/chython/chython/raw/master/doc/tutorial/example.rdf').text) as f, RDFRead(f) as r:\n",
    "    r = next(r)\n",
    "\n",
    "# python support gzipped data. This example shows how to work with compressed \n",
    "# data directly without decompressing them to disk.\n",
    "from gzip import open as gzip_open\n",
    "with gzip_open('example.rdf.gz', 'rt') as f, RDFRead(f) as r:\n",
    "    r = next(r)\n",
    "\n",
    "# zip-files also supported out of the box \n",
    "# zipped files can be opened only in binary mode. io.TextIOWrapper can be used for transparent decoding them into text\n",
    "from zipfile import ZipFile\n",
    "from io import TextIOWrapper\n",
    "with ZipFile('example.zip') as z, z.open('example.rdf') as c:\n",
    "    with TextIOWrapper(c) as f, RDFRead(f) as r:\n",
    "        r = next(r)\n",
    "\n",
    "# tar-file reading example\n",
    "from tarfile import open as tar_open\n",
    "from io import TextIOWrapper\n",
    "with tar_open('example.tar.gz') as t:\n",
    "    c = t.extractfile('example.rdf')\n",
    "    with TextIOWrapper(c) as f, RDFRead(f) as r:\n",
    "        r = next(r)"
   ]
  },
  {
   "cell_type": "markdown",
   "metadata": {},
   "source": [
    "## 1.2. Other Readers\n",
    "* SDFRead - MOL, SDF files reader (versions v2000, v3000 are supported)\n",
    "* MRVRead - ChemAxon MRV files reader (lxml parser is used)\n",
    "* SMILESRead - SMILES strings files reader (coho backend used). Every row should start with new SMILES\n",
    "* INCHIRead - INCHI strings files reader (INCHI trust backend used). Every row should start with new InChI\n",
    "* XYZRead - xyz files reader (only structures with explicit hydrogens supported)\n",
    "* PDBRead - PDB files parser (only structures with explicit hydrogens supported)\n",
    "\n",
    "All files except MRV should be opened in **text-mode**  \n",
    "MRV requires binary mode `open('/path/to/data.mrv', 'rb')`"
   ]
  },
  {
   "cell_type": "code",
   "execution_count": 5,
   "metadata": {},
   "outputs": [],
   "source": [
    "with MRVRead(open('example.mrv', 'rb')) as f:\n",
    "    m = next(f)"
   ]
  },
  {
   "cell_type": "markdown",
   "metadata": {},
   "source": [
    "## 1.3. File writers\n",
    "Export in following file formats is supported:\n",
    "\n",
    "* RDFWrite (v2000) - molecules and reactions export in RDF format\n",
    "* SDFWrite (v2000) - molecules export in SDF format\n",
    "* ERDFWrite (v3000) - molecules and reactions export in RDF format\n",
    "* ESDFWrite (v3000) - molecules export in SDF format\n",
    "* MRVWrite - molecules and reactions export in MRV format\n",
    "\n",
    "Writers have the same API as readers. All writers work with text-files\n",
    "Writers have `write` method which accepts as argument single reaction or molecule object"
   ]
  },
  {
   "cell_type": "code",
   "execution_count": 6,
   "metadata": {},
   "outputs": [],
   "source": [
    "with RDFWrite('out.rdf') as f: # context manager supported\n",
    "    for r in data:\n",
    "        f.write(r)\n",
    "# file out.rdf will be overriden"
   ]
  },
  {
   "cell_type": "code",
   "execution_count": 7,
   "metadata": {},
   "outputs": [],
   "source": [
    "f = RDFWrite('out.rdf') # ongoing writing into a single file\n",
    "for r in data:\n",
    "    f.write(r)\n",
    "\n",
    "f.write(r)\n",
    "f.close() # close file. Flushes Python writer buffers."
   ]
  },
  {
   "cell_type": "markdown",
   "metadata": {},
   "source": [
    "## 1.4. Pickle support\n",
    "\n",
    "Chython containers fully support pickle dumping and loading.\n",
    "\n",
    "Pickle dumps are more fast than common files and could be used as temporal storage."
   ]
  },
  {
   "cell_type": "code",
   "execution_count": 8,
   "metadata": {},
   "outputs": [],
   "source": [
    "from pickle import loads, dumps"
   ]
  },
  {
   "cell_type": "code",
   "execution_count": 9,
   "metadata": {},
   "outputs": [
    {
     "data": {
      "image/svg+xml": [
       "<svg width=\"13.58cm\" height=\"1.96cm\" viewBox=\"-0.62 -0.98 13.58 1.96\" xmlns=\"http://www.w3.org/2000/svg\" xmlns:xlink=\"http://www.w3.org/1999/xlink\" version=\"1.1\">\n",
       "  <defs>\n",
       "    <marker id=\"arrow\" markerWidth=\"10\" markerHeight=\"10\" refX=\"0\" refY=\"3\" orient=\"auto\">\n",
       "      <path d=\"M0,0 L0,6 L9,3\"/>\n",
       "    </marker>\n",
       "  </defs>\n",
       "  <line x1=\"5.69\" y1=\"0\" x2=\"7.69\" y2=\"0\" fill=\"none\" stroke=\"black\" stroke-width=\".04\" marker-end=\"url(#arrow)\"/>\n",
       "  <g fill=\"none\" stroke=\"black\" stroke-width=\".04\">\n",
       "    <line x1=\"1.98\" y1=\"0\" x2=\"2.28\" y2=\"0\"/>\n",
       "    <line x1=\"2.13\" y1=\"0.15\" x2=\"2.13\" y2=\"-0.15\"/>\n",
       "  </g>\n",
       "  <g id=\"de3f2e6b-d231-413d-8b21-0f9421df1a50-molecule\">\n",
       "    <defs>\n",
       "      <g id=\"de3f2e6b-d231-413d-8b21-0f9421df1a50-symbols\" font-size=\"0.50\" font-family=\"sans-serif\">\n",
       "        <text id=\"de3f2e6b-d231-413d-8b21-0f9421df1a50-3\" x=\"1.43\" y=\"-0.21\" dx=\"-0.07\" dy=\"0.20\">I</text>\n",
       "      </g>\n",
       "      <g id=\"de3f2e6b-d231-413d-8b21-0f9421df1a50-mapping\" font-size=\"0.25\" font-family=\"monospace\" text-anchor=\"end\">\n",
       "        <text x=\"0.00\" y=\"-0.21\" dx=\"-0.05\" dy=\"0.20\">1</text>\n",
       "        <text x=\"0.71\" y=\"0.21\" dx=\"-0.05\" dy=\"0.20\">2</text>\n",
       "        <text x=\"1.43\" y=\"-0.21\" dx=\"-0.05\" dy=\"0.35\">3</text>\n",
       "      </g>\n",
       "      <mask id=\"de3f2e6b-d231-413d-8b21-0f9421df1a50-mask\">\n",
       "        <rect x=\"-0.62\" y=\"-0.98\" width=\"13.58\" height=\"1.96\" fill=\"white\"/>\n",
       "        <g>\n",
       "          <circle cx=\"1.43\" cy=\"-0.21\" r=\"0.20\"/>\n",
       "        </g>\n",
       "        <g stroke=\"black\">\n",
       "          <use xlink:href=\"#de3f2e6b-d231-413d-8b21-0f9421df1a50-symbols\" stroke-width=\"0.05\"/>\n",
       "          <use xlink:href=\"#de3f2e6b-d231-413d-8b21-0f9421df1a50-mapping\" stroke-width=\"0.03\"/>\n",
       "        </g>\n",
       "      </mask>\n",
       "    </defs>\n",
       "    <g fill=\"none\" stroke=\"black\" stroke-width=\"0.04\" mask=\"url(#de3f2e6b-d231-413d-8b21-0f9421df1a50-mask)\">\n",
       "      <line x1=\"0.00\" y1=\"-0.21\" x2=\"0.71\" y2=\"0.21\"/>\n",
       "      <line x1=\"0.71\" y1=\"0.21\" x2=\"1.43\" y2=\"-0.21\"/>\n",
       "    </g>\n",
       "    <g font-size=\"0.50\" font-family=\"sans-serif\">\n",
       "      <use xlink:href=\"#de3f2e6b-d231-413d-8b21-0f9421df1a50-3\" fill=\"#940094\"/>\n",
       "    </g>\n",
       "    <use xlink:href=\"#de3f2e6b-d231-413d-8b21-0f9421df1a50-mapping\" fill=\"#0305A7\"/>\n",
       "  </g>\n",
       "  <g id=\"0f8c23f9-b9d6-46c4-b0e6-17b86a9f155a-molecule\">\n",
       "    <defs>\n",
       "      <g id=\"0f8c23f9-b9d6-46c4-b0e6-17b86a9f155a-symbols\" font-size=\"0.50\" font-family=\"sans-serif\">\n",
       "        <text id=\"0f8c23f9-b9d6-46c4-b0e6-17b86a9f155a-7\" x=\"4.69\" y=\"0.36\" dx=\"-0.35\" dy=\"0.20\">Na</text>\n",
       "        <text id=\"0f8c23f9-b9d6-46c4-b0e6-17b86a9f155a-4\" x=\"4.28\" y=\"-0.36\" dx=\"-0.20\" dy=\"0.20\">N</text>\n",
       "        <text id=\"0f8c23f9-b9d6-46c4-b0e6-17b86a9f155a-5\" x=\"3.45\" y=\"-0.36\" dx=\"-0.20\" dy=\"0.20\">N</text>\n",
       "        <text id=\"0f8c23f9-b9d6-46c4-b0e6-17b86a9f155a-6\" x=\"2.63\" y=\"-0.36\" dx=\"-0.20\" dy=\"0.20\">N</text>\n",
       "      </g>\n",
       "      <g id=\"0f8c23f9-b9d6-46c4-b0e6-17b86a9f155a-attrs\" font-size=\"0.30\" font-family=\"monospace\">\n",
       "        <text x=\"4.28\" y=\"-0.36\" dx=\"0.05\" dy=\"-0.20\">-</text>\n",
       "        <text x=\"3.45\" y=\"-0.36\" dx=\"0.05\" dy=\"-0.20\">+</text>\n",
       "      </g>\n",
       "      <g id=\"0f8c23f9-b9d6-46c4-b0e6-17b86a9f155a-mapping\" font-size=\"0.25\" font-family=\"monospace\" text-anchor=\"end\">\n",
       "        <text x=\"4.69\" y=\"0.36\" dx=\"-0.30\" dy=\"0.35\">7</text>\n",
       "        <text x=\"4.28\" y=\"-0.36\" dx=\"-0.15\" dy=\"0.35\">4</text>\n",
       "        <text x=\"3.45\" y=\"-0.36\" dx=\"-0.15\" dy=\"0.35\">5</text>\n",
       "        <text x=\"2.63\" y=\"-0.36\" dx=\"-0.15\" dy=\"0.35\">6</text>\n",
       "      </g>\n",
       "      <mask id=\"0f8c23f9-b9d6-46c4-b0e6-17b86a9f155a-mask\">\n",
       "        <rect x=\"-0.62\" y=\"-0.98\" width=\"13.58\" height=\"1.96\" fill=\"white\"/>\n",
       "        <g>\n",
       "          <ellipse cx=\"4.62\" cy=\"0.36\" rx=\"0.35\" ry=\"0.2\"/>\n",
       "          <circle cx=\"4.28\" cy=\"-0.36\" r=\"0.20\"/>\n",
       "          <circle cx=\"3.45\" cy=\"-0.36\" r=\"0.20\"/>\n",
       "          <circle cx=\"2.63\" cy=\"-0.36\" r=\"0.20\"/>\n",
       "        </g>\n",
       "        <g stroke=\"black\">\n",
       "          <use xlink:href=\"#0f8c23f9-b9d6-46c4-b0e6-17b86a9f155a-symbols\" stroke-width=\"0.05\"/>\n",
       "          <use xlink:href=\"#0f8c23f9-b9d6-46c4-b0e6-17b86a9f155a-attrs\" stroke-width=\"0.03\"/>\n",
       "          <use xlink:href=\"#0f8c23f9-b9d6-46c4-b0e6-17b86a9f155a-mapping\" stroke-width=\"0.03\"/>\n",
       "        </g>\n",
       "      </mask>\n",
       "    </defs>\n",
       "    <g fill=\"none\" stroke=\"black\" stroke-width=\"0.04\" mask=\"url(#0f8c23f9-b9d6-46c4-b0e6-17b86a9f155a-mask)\">\n",
       "      <line x1=\"4.69\" y1=\"0.36\" x2=\"4.28\" y2=\"-0.36\"/>\n",
       "      <line x1=\"4.28\" y1=\"-0.36\" x2=\"3.45\" y2=\"-0.36\"/>\n",
       "      <line x1=\"3.45\" y1=\"-0.23\" x2=\"2.63\" y2=\"-0.23\"/>\n",
       "      <line x1=\"3.45\" y1=\"-0.36\" x2=\"2.63\" y2=\"-0.36\"/>\n",
       "      <line x1=\"3.45\" y1=\"-0.49\" x2=\"2.63\" y2=\"-0.49\"/>\n",
       "    </g>\n",
       "    <g font-size=\"0.50\" font-family=\"sans-serif\">\n",
       "      <use xlink:href=\"#0f8c23f9-b9d6-46c4-b0e6-17b86a9f155a-7\" fill=\"#AB5CF2\"/>\n",
       "      <use xlink:href=\"#0f8c23f9-b9d6-46c4-b0e6-17b86a9f155a-4\" fill=\"#3050F8\"/>\n",
       "      <use xlink:href=\"#0f8c23f9-b9d6-46c4-b0e6-17b86a9f155a-5\" fill=\"#3050F8\"/>\n",
       "      <use xlink:href=\"#0f8c23f9-b9d6-46c4-b0e6-17b86a9f155a-6\" fill=\"#3050F8\"/>\n",
       "    </g>\n",
       "    <use xlink:href=\"#0f8c23f9-b9d6-46c4-b0e6-17b86a9f155a-attrs\" fill=\"black\"/>\n",
       "    <use xlink:href=\"#0f8c23f9-b9d6-46c4-b0e6-17b86a9f155a-mapping\" fill=\"#0305A7\"/>\n",
       "  </g>\n",
       "  <g id=\"a392aaac-41c8-405e-9f2a-0ab888ec934a-molecule\">\n",
       "    <defs>\n",
       "      <g id=\"a392aaac-41c8-405e-9f2a-0ab888ec934a-symbols\" font-size=\"0.50\" font-family=\"sans-serif\">\n",
       "        <text id=\"a392aaac-41c8-405e-9f2a-0ab888ec934a-6\" x=\"11.58\" y=\"-0.36\" dx=\"-0.20\" dy=\"0.20\">N</text>\n",
       "        <text id=\"a392aaac-41c8-405e-9f2a-0ab888ec934a-5\" x=\"10.75\" y=\"-0.36\" dx=\"-0.20\" dy=\"0.20\">N</text>\n",
       "        <text id=\"a392aaac-41c8-405e-9f2a-0ab888ec934a-4\" x=\"9.93\" y=\"-0.36\" dx=\"-0.20\" dy=\"0.20\">N</text>\n",
       "      </g>\n",
       "      <g id=\"a392aaac-41c8-405e-9f2a-0ab888ec934a-attrs\" font-size=\"0.30\" font-family=\"monospace\">\n",
       "        <text x=\"11.58\" y=\"-0.36\" dx=\"0.05\" dy=\"-0.20\">-</text>\n",
       "        <text x=\"9.93\" y=\"-0.36\" dx=\"0.05\" dy=\"-0.20\">+</text>\n",
       "      </g>\n",
       "      <g id=\"a392aaac-41c8-405e-9f2a-0ab888ec934a-mapping\" font-size=\"0.25\" font-family=\"monospace\" text-anchor=\"end\">\n",
       "        <text x=\"11.58\" y=\"-0.36\" dx=\"-0.15\" dy=\"0.35\">6</text>\n",
       "        <text x=\"10.75\" y=\"-0.36\" dx=\"-0.15\" dy=\"0.35\">5</text>\n",
       "        <text x=\"9.93\" y=\"-0.36\" dx=\"-0.15\" dy=\"0.35\">4</text>\n",
       "        <text x=\"9.10\" y=\"-0.36\" dx=\"-0.05\" dy=\"0.20\">2</text>\n",
       "        <text x=\"8.69\" y=\"0.36\" dx=\"-0.05\" dy=\"0.20\">1</text>\n",
       "      </g>\n",
       "      <mask id=\"a392aaac-41c8-405e-9f2a-0ab888ec934a-mask\">\n",
       "        <rect x=\"-0.62\" y=\"-0.98\" width=\"13.58\" height=\"1.96\" fill=\"white\"/>\n",
       "        <g>\n",
       "          <circle cx=\"11.58\" cy=\"-0.36\" r=\"0.20\"/>\n",
       "          <circle cx=\"10.75\" cy=\"-0.36\" r=\"0.20\"/>\n",
       "          <circle cx=\"9.93\" cy=\"-0.36\" r=\"0.20\"/>\n",
       "        </g>\n",
       "        <g stroke=\"black\">\n",
       "          <use xlink:href=\"#a392aaac-41c8-405e-9f2a-0ab888ec934a-symbols\" stroke-width=\"0.05\"/>\n",
       "          <use xlink:href=\"#a392aaac-41c8-405e-9f2a-0ab888ec934a-attrs\" stroke-width=\"0.03\"/>\n",
       "          <use xlink:href=\"#a392aaac-41c8-405e-9f2a-0ab888ec934a-mapping\" stroke-width=\"0.03\"/>\n",
       "        </g>\n",
       "      </mask>\n",
       "    </defs>\n",
       "    <g fill=\"none\" stroke=\"black\" stroke-width=\"0.04\" mask=\"url(#a392aaac-41c8-405e-9f2a-0ab888ec934a-mask)\">\n",
       "      <line x1=\"11.58\" y1=\"-0.30\" x2=\"10.75\" y2=\"-0.30\"/>\n",
       "      <line x1=\"11.58\" y1=\"-0.42\" x2=\"10.75\" y2=\"-0.42\"/>\n",
       "      <line x1=\"10.75\" y1=\"-0.23\" x2=\"9.93\" y2=\"-0.23\"/>\n",
       "      <line x1=\"10.75\" y1=\"-0.36\" x2=\"9.93\" y2=\"-0.36\"/>\n",
       "      <line x1=\"10.75\" y1=\"-0.49\" x2=\"9.93\" y2=\"-0.49\"/>\n",
       "      <line x1=\"9.93\" y1=\"-0.36\" x2=\"9.10\" y2=\"-0.36\"/>\n",
       "      <line x1=\"9.10\" y1=\"-0.36\" x2=\"8.69\" y2=\"0.36\"/>\n",
       "    </g>\n",
       "    <g font-size=\"0.50\" font-family=\"sans-serif\">\n",
       "      <use xlink:href=\"#a392aaac-41c8-405e-9f2a-0ab888ec934a-6\" fill=\"#3050F8\"/>\n",
       "      <use xlink:href=\"#a392aaac-41c8-405e-9f2a-0ab888ec934a-5\" fill=\"#3050F8\"/>\n",
       "      <use xlink:href=\"#a392aaac-41c8-405e-9f2a-0ab888ec934a-4\" fill=\"#3050F8\"/>\n",
       "    </g>\n",
       "    <use xlink:href=\"#a392aaac-41c8-405e-9f2a-0ab888ec934a-attrs\" fill=\"black\"/>\n",
       "    <use xlink:href=\"#a392aaac-41c8-405e-9f2a-0ab888ec934a-mapping\" fill=\"#0305A7\"/>\n",
       "  </g>\n",
       "</svg>"
      ],
      "text/plain": [
       "<chython.containers.reaction.ReactionContainer at 0x28e7d192e20>"
      ]
     },
     "execution_count": 9,
     "metadata": {},
     "output_type": "execute_result"
    }
   ],
   "source": [
    "loads(dumps(r)) # load reaction from Pickle dump"
   ]
  },
  {
   "cell_type": "markdown",
   "metadata": {
    "pycharm": {
     "name": "#%% md\n"
    }
   },
   "source": [
    "## 1.5. Chython binary format (chython pack)\n",
    "\n",
    "Chython introduce new effective format for molecules and reactions, which combine benefits from MDL and SMILES formats.\n",
    "Molecules store 2d-coordinates; tetrahedron, allene and cis-trans stereo; explicit bonds, implicit hydrogen count, atom numbers, radical mark, charge, isotope.\n",
    "\n",
    "Size only 1.5-2 times larger than SMILES. Parsing speed is faster than pickle.\n",
    "Full specification described in source code."
   ]
  },
  {
   "cell_type": "code",
   "execution_count": 10,
   "metadata": {
    "pycharm": {
     "name": "#%%\n"
    }
   },
   "outputs": [],
   "source": [
    "from chython import MoleculeContainer, ReactionContainer\n",
    "\n",
    "b = r.pack()\n",
    "r = ReactionContainer.unpack(b)\n",
    "\n",
    "# same for molecules\n",
    "# MoleculeContainer.unpack(m.pack())"
   ]
  },
  {
   "cell_type": "markdown",
   "metadata": {},
   "source": [
    "## 1.6. Metadata access\n",
    "\n",
    "RDF, SDF, etc - files have metadata which stored in molecules and reactions objects"
   ]
  },
  {
   "cell_type": "code",
   "execution_count": 11,
   "metadata": {},
   "outputs": [
    {
     "data": {
      "text/plain": [
       "{'CdId': '1872',\n",
       " 'solvent': '3',\n",
       " 'temperature': '129.5',\n",
       " 'tabulated_constant': '-6.87'}"
      ]
     },
     "execution_count": 11,
     "metadata": {},
     "output_type": "execute_result"
    }
   ],
   "source": [
    "r = next(RDFRead('example.rdf'))\n",
    "r.meta # dictionary for molecule/reaction properties storage. For example, DTYPE/DATUM fields of RDF file are read into this dictionary"
   ]
  },
  {
   "cell_type": "code",
   "execution_count": 12,
   "metadata": {},
   "outputs": [
    {
     "data": {
      "text/plain": [
       "'reaction title'"
      ]
     },
     "execution_count": 12,
     "metadata": {},
     "output_type": "execute_result"
    }
   ],
   "source": [
    "r.name  # string with reaction title from RDF"
   ]
  },
  {
   "cell_type": "code",
   "execution_count": 13,
   "metadata": {},
   "outputs": [
    {
     "data": {
      "text/plain": [
       "'molecule title'"
      ]
     },
     "execution_count": 13,
     "metadata": {},
     "output_type": "execute_result"
    }
   ],
   "source": [
    "r.reactants[0].name # string with reactant molecule title from MOL"
   ]
  },
  {
   "cell_type": "markdown",
   "metadata": {},
   "source": [
    "## 1.7. Depiction into SVG"
   ]
  },
  {
   "cell_type": "code",
   "execution_count": 14,
   "metadata": {
    "scrolled": true
   },
   "outputs": [
    {
     "data": {
      "text/plain": [
       "'<svg width=\"18.32cm\" height=\"3.39cm\" viewBox=\"-0.62 -1.70 18.32 3.39\" xmlns=\"http://www.w3.org/2000/'"
      ]
     },
     "execution_count": 14,
     "metadata": {},
     "output_type": "execute_result"
    }
   ],
   "source": [
    "r.depict()[:100] # show only part of string"
   ]
  },
  {
   "cell_type": "code",
   "execution_count": 15,
   "metadata": {},
   "outputs": [
    {
     "data": {
      "image/svg+xml": [
       "<svg width=\"18.32cm\" height=\"3.39cm\" viewBox=\"-0.62 -1.70 18.32 3.39\" xmlns=\"http://www.w3.org/2000/svg\" xmlns:xlink=\"http://www.w3.org/1999/xlink\" version=\"1.1\">\n",
       "  <defs>\n",
       "    <marker id=\"arrow\" markerWidth=\"10\" markerHeight=\"10\" refX=\"0\" refY=\"3\" orient=\"auto\">\n",
       "      <path d=\"M0,0 L0,6 L9,3\"/>\n",
       "    </marker>\n",
       "  </defs>\n",
       "  <line x1=\"8.32\" y1=\"0\" x2=\"10.32\" y2=\"0\" fill=\"none\" stroke=\"black\" stroke-width=\".04\" marker-end=\"url(#arrow)\"/>\n",
       "  <g fill=\"none\" stroke=\"black\" stroke-width=\".04\">\n",
       "    <line x1=\"1.98\" y1=\"0\" x2=\"2.28\" y2=\"0\"/>\n",
       "    <line x1=\"2.13\" y1=\"0.15\" x2=\"2.13\" y2=\"-0.15\"/>\n",
       "    <line x1=\"5.24\" y1=\"0\" x2=\"5.54\" y2=\"0\"/>\n",
       "    <line x1=\"5.39\" y1=\"0.15\" x2=\"5.39\" y2=\"-0.15\"/>\n",
       "  </g>\n",
       "  <g id=\"d531851a-4c36-48ea-90d8-0e3cec6f78c7-molecule\">\n",
       "    <defs>\n",
       "      <g id=\"d531851a-4c36-48ea-90d8-0e3cec6f78c7-symbols\" font-size=\"0.50\" font-family=\"sans-serif\">\n",
       "        <text id=\"d531851a-4c36-48ea-90d8-0e3cec6f78c7-1\" x=\"1.43\" y=\"-0.21\" dx=\"-0.20\" dy=\"0.20\">OH</text>\n",
       "      </g>\n",
       "      <g id=\"d531851a-4c36-48ea-90d8-0e3cec6f78c7-mapping\" font-size=\"0.25\" font-family=\"monospace\" text-anchor=\"end\">\n",
       "        <text x=\"0.00\" y=\"-0.21\" dx=\"-0.05\" dy=\"0.20\">3</text>\n",
       "        <text x=\"0.71\" y=\"0.21\" dx=\"-0.05\" dy=\"0.20\">4</text>\n",
       "        <text x=\"1.43\" y=\"-0.21\" dx=\"-0.15\" dy=\"0.35\">1</text>\n",
       "      </g>\n",
       "      <mask id=\"d531851a-4c36-48ea-90d8-0e3cec6f78c7-mask\">\n",
       "        <rect x=\"-0.62\" y=\"-1.70\" width=\"18.32\" height=\"3.39\" fill=\"white\"/>\n",
       "        <g>\n",
       "          <circle cx=\"1.43\" cy=\"-0.21\" r=\"0.20\"/>\n",
       "        </g>\n",
       "        <g stroke=\"black\">\n",
       "          <use xlink:href=\"#d531851a-4c36-48ea-90d8-0e3cec6f78c7-symbols\" stroke-width=\"0.05\"/>\n",
       "          <use xlink:href=\"#d531851a-4c36-48ea-90d8-0e3cec6f78c7-mapping\" stroke-width=\"0.03\"/>\n",
       "        </g>\n",
       "      </mask>\n",
       "    </defs>\n",
       "    <g fill=\"none\" stroke=\"black\" stroke-width=\"0.04\" mask=\"url(#d531851a-4c36-48ea-90d8-0e3cec6f78c7-mask)\">\n",
       "      <line x1=\"0.00\" y1=\"-0.21\" x2=\"0.71\" y2=\"0.21\"/>\n",
       "      <line x1=\"0.71\" y1=\"0.21\" x2=\"1.43\" y2=\"-0.21\"/>\n",
       "    </g>\n",
       "    <g font-size=\"0.50\" font-family=\"sans-serif\">\n",
       "      <use xlink:href=\"#d531851a-4c36-48ea-90d8-0e3cec6f78c7-1\" fill=\"#FF0D0D\"/>\n",
       "    </g>\n",
       "    <use xlink:href=\"#d531851a-4c36-48ea-90d8-0e3cec6f78c7-mapping\" fill=\"#0305A7\"/>\n",
       "  </g>\n",
       "  <g id=\"80b0d943-64e9-4879-b1db-3be99cfb20a6-molecule\">\n",
       "    <defs>\n",
       "      <g id=\"80b0d943-64e9-4879-b1db-3be99cfb20a6-symbols\" font-size=\"0.50\" font-family=\"sans-serif\">\n",
       "        <text id=\"80b0d943-64e9-4879-b1db-3be99cfb20a6-7\" x=\"3.45\" y=\"-1.07\" dx=\"-0.20\" dy=\"0.20\">O</text>\n",
       "        <text id=\"80b0d943-64e9-4879-b1db-3be99cfb20a6-8\" x=\"4.69\" y=\"-0.36\" dx=\"-0.20\" dy=\"0.20\">OH</text>\n",
       "        <text id=\"80b0d943-64e9-4879-b1db-3be99cfb20a6-9\" x=\"3.87\" y=\"1.07\" dx=\"-0.20\" dy=\"0.20\">O</text>\n",
       "        <text id=\"80b0d943-64e9-4879-b1db-3be99cfb20a6-10\" x=\"2.63\" y=\"0.36\" dx=\"-0.20\" dy=\"0.20\">OH</text>\n",
       "      </g>\n",
       "      <g id=\"80b0d943-64e9-4879-b1db-3be99cfb20a6-mapping\" font-size=\"0.25\" font-family=\"monospace\" text-anchor=\"end\">\n",
       "        <text x=\"3.87\" y=\"-0.36\" dx=\"-0.05\" dy=\"0.20\">5</text>\n",
       "        <text x=\"3.45\" y=\"0.36\" dx=\"-0.05\" dy=\"0.20\">6</text>\n",
       "        <text x=\"3.45\" y=\"-1.07\" dx=\"-0.15\" dy=\"0.35\">7</text>\n",
       "        <text x=\"4.69\" y=\"-0.36\" dx=\"-0.15\" dy=\"0.35\">8</text>\n",
       "        <text x=\"3.87\" y=\"1.07\" dx=\"-0.15\" dy=\"0.35\">9</text>\n",
       "        <text x=\"2.63\" y=\"0.36\" dx=\"-0.15\" dy=\"0.35\">10</text>\n",
       "      </g>\n",
       "      <mask id=\"80b0d943-64e9-4879-b1db-3be99cfb20a6-mask\">\n",
       "        <rect x=\"-0.62\" y=\"-1.70\" width=\"18.32\" height=\"3.39\" fill=\"white\"/>\n",
       "        <g>\n",
       "          <circle cx=\"3.45\" cy=\"-1.07\" r=\"0.20\"/>\n",
       "          <circle cx=\"4.69\" cy=\"-0.36\" r=\"0.20\"/>\n",
       "          <circle cx=\"3.87\" cy=\"1.07\" r=\"0.20\"/>\n",
       "          <circle cx=\"2.63\" cy=\"0.36\" r=\"0.20\"/>\n",
       "        </g>\n",
       "        <g stroke=\"black\">\n",
       "          <use xlink:href=\"#80b0d943-64e9-4879-b1db-3be99cfb20a6-symbols\" stroke-width=\"0.05\"/>\n",
       "          <use xlink:href=\"#80b0d943-64e9-4879-b1db-3be99cfb20a6-mapping\" stroke-width=\"0.03\"/>\n",
       "        </g>\n",
       "      </mask>\n",
       "    </defs>\n",
       "    <g fill=\"none\" stroke=\"black\" stroke-width=\"0.04\" mask=\"url(#80b0d943-64e9-4879-b1db-3be99cfb20a6-mask)\">\n",
       "      <line x1=\"3.87\" y1=\"-0.36\" x2=\"3.45\" y2=\"0.36\"/>\n",
       "      <line x1=\"3.81\" y1=\"-0.33\" x2=\"3.40\" y2=\"-1.04\"/>\n",
       "      <line x1=\"3.92\" y1=\"-0.39\" x2=\"3.51\" y2=\"-1.10\"/>\n",
       "      <line x1=\"3.87\" y1=\"-0.36\" x2=\"4.69\" y2=\"-0.36\"/>\n",
       "      <line x1=\"3.51\" y1=\"0.33\" x2=\"3.92\" y2=\"1.04\"/>\n",
       "      <line x1=\"3.40\" y1=\"0.39\" x2=\"3.81\" y2=\"1.10\"/>\n",
       "      <line x1=\"3.45\" y1=\"0.36\" x2=\"2.63\" y2=\"0.36\"/>\n",
       "    </g>\n",
       "    <g font-size=\"0.50\" font-family=\"sans-serif\">\n",
       "      <use xlink:href=\"#80b0d943-64e9-4879-b1db-3be99cfb20a6-7\" fill=\"#FF0D0D\"/>\n",
       "      <use xlink:href=\"#80b0d943-64e9-4879-b1db-3be99cfb20a6-8\" fill=\"#FF0D0D\"/>\n",
       "      <use xlink:href=\"#80b0d943-64e9-4879-b1db-3be99cfb20a6-9\" fill=\"#FF0D0D\"/>\n",
       "      <use xlink:href=\"#80b0d943-64e9-4879-b1db-3be99cfb20a6-10\" fill=\"#FF0D0D\"/>\n",
       "    </g>\n",
       "    <use xlink:href=\"#80b0d943-64e9-4879-b1db-3be99cfb20a6-mapping\" fill=\"#0305A7\"/>\n",
       "  </g>\n",
       "  <g id=\"e808f9d4-9ad3-4817-90c7-0b4e0c74b59a-molecule\">\n",
       "    <defs>\n",
       "      <g id=\"e808f9d4-9ad3-4817-90c7-0b4e0c74b59a-symbols\" font-size=\"0.50\" font-family=\"sans-serif\">\n",
       "        <text id=\"e808f9d4-9ad3-4817-90c7-0b4e0c74b59a-2\" x=\"7.32\" y=\"-0.21\" dx=\"-0.20\" dy=\"0.20\">OH</text>\n",
       "      </g>\n",
       "      <g id=\"e808f9d4-9ad3-4817-90c7-0b4e0c74b59a-mapping\" font-size=\"0.25\" font-family=\"monospace\" text-anchor=\"end\">\n",
       "        <text x=\"6.61\" y=\"0.21\" dx=\"-0.05\" dy=\"0.20\">11</text>\n",
       "        <text x=\"5.89\" y=\"-0.21\" dx=\"-0.05\" dy=\"0.20\">12</text>\n",
       "        <text x=\"7.32\" y=\"-0.21\" dx=\"-0.15\" dy=\"0.35\">2</text>\n",
       "      </g>\n",
       "      <mask id=\"e808f9d4-9ad3-4817-90c7-0b4e0c74b59a-mask\">\n",
       "        <rect x=\"-0.62\" y=\"-1.70\" width=\"18.32\" height=\"3.39\" fill=\"white\"/>\n",
       "        <g>\n",
       "          <circle cx=\"7.32\" cy=\"-0.21\" r=\"0.20\"/>\n",
       "        </g>\n",
       "        <g stroke=\"black\">\n",
       "          <use xlink:href=\"#e808f9d4-9ad3-4817-90c7-0b4e0c74b59a-symbols\" stroke-width=\"0.05\"/>\n",
       "          <use xlink:href=\"#e808f9d4-9ad3-4817-90c7-0b4e0c74b59a-mapping\" stroke-width=\"0.03\"/>\n",
       "        </g>\n",
       "      </mask>\n",
       "    </defs>\n",
       "    <g fill=\"none\" stroke=\"black\" stroke-width=\"0.04\" mask=\"url(#e808f9d4-9ad3-4817-90c7-0b4e0c74b59a-mask)\">\n",
       "      <line x1=\"6.61\" y1=\"0.21\" x2=\"5.89\" y2=\"-0.21\"/>\n",
       "      <line x1=\"6.61\" y1=\"0.21\" x2=\"7.32\" y2=\"-0.21\"/>\n",
       "    </g>\n",
       "    <g font-size=\"0.50\" font-family=\"sans-serif\">\n",
       "      <use xlink:href=\"#e808f9d4-9ad3-4817-90c7-0b4e0c74b59a-2\" fill=\"#FF0D0D\"/>\n",
       "    </g>\n",
       "    <use xlink:href=\"#e808f9d4-9ad3-4817-90c7-0b4e0c74b59a-mapping\" fill=\"#0305A7\"/>\n",
       "  </g>\n",
       "  <g id=\"19c852ac-49cc-42bf-973c-ae7acf4b1319-molecule\">\n",
       "    <defs>\n",
       "      <g id=\"19c852ac-49cc-42bf-973c-ae7acf4b1319-symbols\" font-size=\"0.50\" font-family=\"sans-serif\">\n",
       "        <text id=\"19c852ac-49cc-42bf-973c-ae7acf4b1319-2\" x=\"14.89\" y=\"-0.21\" dx=\"-0.20\" dy=\"0.20\">O</text>\n",
       "        <text id=\"19c852ac-49cc-42bf-973c-ae7acf4b1319-1\" x=\"12.75\" y=\"0.21\" dx=\"-0.20\" dy=\"0.20\">O</text>\n",
       "        <text id=\"19c852ac-49cc-42bf-973c-ae7acf4b1319-9\" x=\"13.46\" y=\"-1.03\" dx=\"-0.20\" dy=\"0.20\">O</text>\n",
       "        <text id=\"19c852ac-49cc-42bf-973c-ae7acf4b1319-7\" x=\"14.18\" y=\"1.03\" dx=\"-0.20\" dy=\"0.20\">O</text>\n",
       "      </g>\n",
       "      <g id=\"19c852ac-49cc-42bf-973c-ae7acf4b1319-mapping\" font-size=\"0.25\" font-family=\"monospace\" text-anchor=\"end\">\n",
       "        <text x=\"14.18\" y=\"0.21\" dx=\"-0.05\" dy=\"0.20\">5</text>\n",
       "        <text x=\"13.46\" y=\"-0.21\" dx=\"-0.05\" dy=\"0.20\">6</text>\n",
       "        <text x=\"14.89\" y=\"-0.21\" dx=\"-0.15\" dy=\"0.35\">2</text>\n",
       "        <text x=\"12.75\" y=\"0.21\" dx=\"-0.15\" dy=\"0.35\">1</text>\n",
       "        <text x=\"13.46\" y=\"-1.03\" dx=\"-0.15\" dy=\"0.35\">9</text>\n",
       "        <text x=\"14.18\" y=\"1.03\" dx=\"-0.15\" dy=\"0.35\">7</text>\n",
       "        <text x=\"15.61\" y=\"0.21\" dx=\"-0.05\" dy=\"0.20\">11</text>\n",
       "        <text x=\"16.32\" y=\"-0.21\" dx=\"-0.05\" dy=\"0.20\">12</text>\n",
       "        <text x=\"12.03\" y=\"-0.21\" dx=\"-0.05\" dy=\"0.20\">4</text>\n",
       "        <text x=\"11.32\" y=\"0.21\" dx=\"-0.05\" dy=\"0.20\">3</text>\n",
       "      </g>\n",
       "      <mask id=\"19c852ac-49cc-42bf-973c-ae7acf4b1319-mask\">\n",
       "        <rect x=\"-0.62\" y=\"-1.70\" width=\"18.32\" height=\"3.39\" fill=\"white\"/>\n",
       "        <g>\n",
       "          <circle cx=\"14.89\" cy=\"-0.21\" r=\"0.20\"/>\n",
       "          <circle cx=\"12.75\" cy=\"0.21\" r=\"0.20\"/>\n",
       "          <circle cx=\"13.46\" cy=\"-1.03\" r=\"0.20\"/>\n",
       "          <circle cx=\"14.18\" cy=\"1.03\" r=\"0.20\"/>\n",
       "        </g>\n",
       "        <g stroke=\"black\">\n",
       "          <use xlink:href=\"#19c852ac-49cc-42bf-973c-ae7acf4b1319-symbols\" stroke-width=\"0.05\"/>\n",
       "          <use xlink:href=\"#19c852ac-49cc-42bf-973c-ae7acf4b1319-mapping\" stroke-width=\"0.03\"/>\n",
       "        </g>\n",
       "      </mask>\n",
       "    </defs>\n",
       "    <g fill=\"none\" stroke=\"black\" stroke-width=\"0.04\" mask=\"url(#19c852ac-49cc-42bf-973c-ae7acf4b1319-mask)\">\n",
       "      <line x1=\"14.18\" y1=\"0.21\" x2=\"13.46\" y2=\"-0.21\"/>\n",
       "      <line x1=\"14.18\" y1=\"0.21\" x2=\"14.89\" y2=\"-0.21\"/>\n",
       "      <line x1=\"14.24\" y1=\"0.21\" x2=\"14.24\" y2=\"1.03\"/>\n",
       "      <line x1=\"14.12\" y1=\"0.21\" x2=\"14.12\" y2=\"1.03\"/>\n",
       "      <line x1=\"13.46\" y1=\"-0.21\" x2=\"12.75\" y2=\"0.21\"/>\n",
       "      <line x1=\"13.40\" y1=\"-0.21\" x2=\"13.40\" y2=\"-1.03\"/>\n",
       "      <line x1=\"13.52\" y1=\"-0.21\" x2=\"13.52\" y2=\"-1.03\"/>\n",
       "      <line x1=\"14.89\" y1=\"-0.21\" x2=\"15.61\" y2=\"0.21\"/>\n",
       "      <line x1=\"12.75\" y1=\"0.21\" x2=\"12.03\" y2=\"-0.21\"/>\n",
       "      <line x1=\"15.61\" y1=\"0.21\" x2=\"16.32\" y2=\"-0.21\"/>\n",
       "      <line x1=\"12.03\" y1=\"-0.21\" x2=\"11.32\" y2=\"0.21\"/>\n",
       "    </g>\n",
       "    <g font-size=\"0.50\" font-family=\"sans-serif\">\n",
       "      <use xlink:href=\"#19c852ac-49cc-42bf-973c-ae7acf4b1319-2\" fill=\"#FF0D0D\"/>\n",
       "      <use xlink:href=\"#19c852ac-49cc-42bf-973c-ae7acf4b1319-1\" fill=\"#FF0D0D\"/>\n",
       "      <use xlink:href=\"#19c852ac-49cc-42bf-973c-ae7acf4b1319-9\" fill=\"#FF0D0D\"/>\n",
       "      <use xlink:href=\"#19c852ac-49cc-42bf-973c-ae7acf4b1319-7\" fill=\"#FF0D0D\"/>\n",
       "    </g>\n",
       "    <use xlink:href=\"#19c852ac-49cc-42bf-973c-ae7acf4b1319-mapping\" fill=\"#0305A7\"/>\n",
       "  </g>\n",
       "</svg>"
      ],
      "text/plain": [
       "<chython.containers.reaction.ReactionContainer at 0x28e7d192ee0>"
      ]
     },
     "execution_count": 15,
     "metadata": {},
     "output_type": "execute_result"
    }
   ],
   "source": [
    "r # Notebooks supported!"
   ]
  },
  {
   "cell_type": "markdown",
   "metadata": {
    "pycharm": {
     "name": "#%% md\n"
    }
   },
   "source": [
    "# 2. Signatures and duplicates selection\n",
    "\n",
    "## 2.1. Molecule Signatures\n",
    "*MoleculeContainer* has methods for unique molecule signature generation.\n",
    "Signature is SMILES string with canonical atoms ordering. Order of atoms calculated by Morgan-like algorithm.\n",
    "\n",
    "For signature generation one need to call `str` function on MoleculeContainer object.\n",
    "Fixed length hash of signature could be retrieved by calling `bytes` function on molecule (correspond to SHA 512 bitstring).\n",
    "\n",
    "Next string formatting keys supported:\n",
    "\n",
    "a - Generate asymmetric closures.\n",
    "!s - Disable stereo marks.\n",
    "A - Use aromatic bonds instead aromatic atoms.\n",
    "m - Set atom mapping.\n",
    "r - Generate random-ordered smiles.\n",
    "h - Show implicit hydrogens.\n",
    "!b - Disable bonds tokens."
   ]
  },
  {
   "cell_type": "code",
   "execution_count": 16,
   "metadata": {
    "pycharm": {
     "name": "#%%\n"
    }
   },
   "outputs": [
    {
     "name": "stdout",
     "output_type": "stream",
     "text": [
      "c1ccccc1C=2C=CC=CC=2[C@H](O)C\n",
      "f string c1ccccc1C=2C=CC=CC=2[C@H](O)C\n",
      "C-style string c1ccccc1C=2C=CC=CC=2[C@H](O)C\n",
      "format method c1ccccc1C=2C=CC=CC=2[C@H](O)C\n",
      "C:1:C:C:C:C:C:1C=2C=CC=CC=2[C@H](O)C\n",
      "[c]1[c][c][c][c][c]1[C]2[CH][CH][CH][CH][C]2[C@H]([OH])[CH3]\n"
     ]
    }
   ],
   "source": [
    "from chython import smiles  # smiles string parser\n",
    "\n",
    "m = smiles('c1ccccc1C=2C=CC=CC=2[C@H](O)C')\n",
    "str(m) # signature\n",
    "bytes(m) # cryptographic signature hash\n",
    "hash(m) # runtime-dependent signature hash. See Python str hash behavior\n",
    "\n",
    "print(m)\n",
    "print(f'f string {m}')  # use signature in string formatting\n",
    "print('C-style string %s' % m)\n",
    "print('format method {}'.format(m))\n",
    "print(f'{m:A}')\n",
    "print(f'{m:h!b}') # combination supported"
   ]
  },
  {
   "cell_type": "markdown",
   "metadata": {
    "pycharm": {
     "name": "#%% md\n"
    }
   },
   "source": [
    "Molecules comparable and hashable\n",
    "\n",
    "Comparison of MoleculeContainer is based on its signatures. Moreover, since strings in Python are hashable, MoleculeContaier also hashable.\n",
    "\n",
    "NOTE: MoleculeContainer can be changed. This can lead to unobvious behavior of the sets and dictionaries in which these molecules were placed before the change. Avoid changing molecules (standardize, aromatize, hydrogens and atoms/bonds changes) placed inside sets and dictionaries."
   ]
  },
  {
   "cell_type": "code",
   "execution_count": 17,
   "metadata": {
    "pycharm": {
     "name": "#%%\n"
    }
   },
   "outputs": [
    {
     "data": {
      "text/plain": [
       "True"
      ]
     },
     "execution_count": 17,
     "metadata": {},
     "output_type": "execute_result"
    }
   ],
   "source": [
    "m != smiles('c1ccccc1')"
   ]
  },
  {
   "cell_type": "code",
   "execution_count": 18,
   "metadata": {
    "pycharm": {
     "name": "#%%\n"
    }
   },
   "outputs": [
    {
     "data": {
      "text/plain": [
       "True"
      ]
     },
     "execution_count": 18,
     "metadata": {},
     "output_type": "execute_result"
    }
   ],
   "source": [
    "# Simplest way to exclude duplicated structures\n",
    "len({m, m, smiles('c1ccccc1')}) == 2 # create set of unique molecules. Only 2 of them were different."
   ]
  },
  {
   "cell_type": "markdown",
   "metadata": {
    "pycharm": {
     "name": "#%% md\n"
    }
   },
   "source": [
    "## 2.2. Reaction signatures\n",
    "ReactionContainer have its signature. Signature is SMIRKS string in which molecules of reactants, reagents, products presented in canonical order.\n",
    "\n",
    "API is the same as for molecules\n",
    "\n",
    "Next extra formatting keys supported:\n",
    "\n",
    "!c - Keep nested containers order\n",
    "!C - skip cxsmiles fragments contract"
   ]
  },
  {
   "cell_type": "code",
   "execution_count": 19,
   "metadata": {
    "pycharm": {
     "name": "#%%\n"
    }
   },
   "outputs": [
    {
     "name": "stdout",
     "output_type": "stream",
     "text": [
      "C(C(=O)O)(=O)O.C(C)O.C(C)O>>CCOC(=O)C(OCC)=O\n"
     ]
    }
   ],
   "source": [
    "print(r)"
   ]
  },
  {
   "cell_type": "code",
   "execution_count": 20,
   "metadata": {
    "pycharm": {
     "name": "#%%\n"
    }
   },
   "outputs": [
    {
     "data": {
      "text/plain": [
       "'C(C)O.C(C(=O)O)(=O)O.C(C)O>>CCOC(=O)C(OCC)=O'"
      ]
     },
     "execution_count": 20,
     "metadata": {},
     "output_type": "execute_result"
    }
   ],
   "source": [
    "format(r, '!c')"
   ]
  },
  {
   "cell_type": "markdown",
   "metadata": {
    "pycharm": {
     "name": "#%% md\n"
    }
   },
   "source": [
    "# 3. Structure standardization\n",
    "\n",
    "## 3.1. Molecules\n",
    "\n",
    "MoleculeContainer has `standardize`, `kekule`, `thiele`, `neutralize`, `implicify_hydrogens`, `explicify_hidrogens` and `canonicalize` methods.\n",
    "\n",
    "Method `thiele` transforms Kekule representation of rings into aromatized.\n",
    "Method `standardize` applies functional group standardization rules to molecules (more than 80 rules).\n",
    "\n",
    "Method `canonicalize` apply set of methods: `neutralize`, `standardize`, `kekule`, `implicify_hydrogens`, `thiele`"
   ]
  },
  {
   "cell_type": "code",
   "execution_count": 21,
   "metadata": {
    "pycharm": {
     "name": "#%%\n"
    }
   },
   "outputs": [
    {
     "data": {
      "image/svg+xml": [
       "<svg width=\"4.89cm\" height=\"2.68cm\" viewBox=\"-2.27 -0.63 4.89 2.68\" xmlns=\"http://www.w3.org/2000/svg\" xmlns:xlink=\"http://www.w3.org/1999/xlink\" version=\"1.1\">\n",
       "  <g id=\"507706f1-953c-4c5d-9195-f96288c118b0-molecule\">\n",
       "    <defs>\n",
       "      <g id=\"507706f1-953c-4c5d-9195-f96288c118b0-symbols\" font-size=\"0.50\" font-family=\"sans-serif\">\n",
       "        <text id=\"507706f1-953c-4c5d-9195-f96288c118b0-7\" x=\"-1.24\" y=\"0.71\" dx=\"-0.20\" dy=\"0.20\">N</text>\n",
       "        <text id=\"507706f1-953c-4c5d-9195-f96288c118b0-8\" x=\"-1.65\" y=\"-0.00\" dx=\"-0.20\" dy=\"0.20\">O</text>\n",
       "        <text id=\"507706f1-953c-4c5d-9195-f96288c118b0-9\" x=\"-1.65\" y=\"1.43\" dx=\"-0.20\" dy=\"0.20\">O</text>\n",
       "      </g>\n",
       "      <g id=\"507706f1-953c-4c5d-9195-f96288c118b0-mapping\" font-size=\"0.25\" font-family=\"monospace\" text-anchor=\"end\">\n",
       "        <text x=\"0.00\" y=\"1.43\" dx=\"-0.05\" dy=\"0.20\">1</text>\n",
       "        <text x=\"0.83\" y=\"1.43\" dx=\"-0.05\" dy=\"0.20\">2</text>\n",
       "        <text x=\"1.24\" y=\"0.71\" dx=\"-0.05\" dy=\"0.20\">3</text>\n",
       "        <text x=\"0.83\" y=\"-0.00\" dx=\"-0.05\" dy=\"0.20\">4</text>\n",
       "        <text x=\"0.00\" y=\"-0.00\" dx=\"-0.05\" dy=\"0.20\">5</text>\n",
       "        <text x=\"-0.41\" y=\"0.71\" dx=\"-0.05\" dy=\"0.20\">6</text>\n",
       "        <text x=\"-1.24\" y=\"0.71\" dx=\"-0.15\" dy=\"0.35\">7</text>\n",
       "        <text x=\"-1.65\" y=\"-0.00\" dx=\"-0.15\" dy=\"0.35\">8</text>\n",
       "        <text x=\"-1.65\" y=\"1.43\" dx=\"-0.15\" dy=\"0.35\">9</text>\n",
       "      </g>\n",
       "      <mask id=\"507706f1-953c-4c5d-9195-f96288c118b0-mask\">\n",
       "        <rect x=\"-2.27\" y=\"-0.63\" width=\"4.89\" height=\"2.68\" fill=\"white\"/>\n",
       "        <g>\n",
       "          <circle cx=\"-1.24\" cy=\"0.71\" r=\"0.20\"/>\n",
       "          <circle cx=\"-1.65\" cy=\"-0.00\" r=\"0.20\"/>\n",
       "          <circle cx=\"-1.65\" cy=\"1.43\" r=\"0.20\"/>\n",
       "        </g>\n",
       "        <g stroke=\"black\">\n",
       "          <use xlink:href=\"#507706f1-953c-4c5d-9195-f96288c118b0-symbols\" stroke-width=\"0.05\"/>\n",
       "          <use xlink:href=\"#507706f1-953c-4c5d-9195-f96288c118b0-mapping\" stroke-width=\"0.03\"/>\n",
       "        </g>\n",
       "      </mask>\n",
       "    </defs>\n",
       "    <g fill=\"none\" stroke=\"black\" stroke-width=\"0.04\" mask=\"url(#507706f1-953c-4c5d-9195-f96288c118b0-mask)\">\n",
       "      <line x1=\"0.00\" y1=\"1.43\" x2=\"0.83\" y2=\"1.43\"/>\n",
       "      <line x1=\"0.00\" y1=\"1.43\" x2=\"-0.41\" y2=\"0.71\"/>\n",
       "      <line x1=\"0.83\" y1=\"1.43\" x2=\"1.24\" y2=\"0.71\"/>\n",
       "      <line x1=\"1.24\" y1=\"0.71\" x2=\"0.83\" y2=\"-0.00\"/>\n",
       "      <line x1=\"0.83\" y1=\"-0.00\" x2=\"0.00\" y2=\"-0.00\"/>\n",
       "      <line x1=\"0.00\" y1=\"-0.00\" x2=\"-0.41\" y2=\"0.71\"/>\n",
       "      <line x1=\"-0.41\" y1=\"0.71\" x2=\"-1.24\" y2=\"0.71\"/>\n",
       "      <line x1=\"-1.29\" y1=\"0.74\" x2=\"-1.70\" y2=\"0.03\"/>\n",
       "      <line x1=\"-1.19\" y1=\"0.68\" x2=\"-1.60\" y2=\"-0.03\"/>\n",
       "      <line x1=\"-1.19\" y1=\"0.74\" x2=\"-1.60\" y2=\"1.46\"/>\n",
       "      <line x1=\"-1.29\" y1=\"0.68\" x2=\"-1.70\" y2=\"1.40\"/>\n",
       "      <line x1=\"0.08\" y1=\"1.29\" x2=\"0.74\" y2=\"1.29\" stroke-dasharray=\"0.15 0.05\"/>\n",
       "      <line x1=\"0.74\" y1=\"1.29\" x2=\"1.08\" y2=\"0.71\" stroke-dasharray=\"0.15 0.05\"/>\n",
       "      <line x1=\"1.08\" y1=\"0.71\" x2=\"0.74\" y2=\"0.14\" stroke-dasharray=\"0.15 0.05\"/>\n",
       "      <line x1=\"0.74\" y1=\"0.14\" x2=\"0.08\" y2=\"0.14\" stroke-dasharray=\"0.15 0.05\"/>\n",
       "      <line x1=\"0.08\" y1=\"0.14\" x2=\"-0.25\" y2=\"0.71\" stroke-dasharray=\"0.15 0.05\"/>\n",
       "      <line x1=\"-0.25\" y1=\"0.71\" x2=\"0.08\" y2=\"1.29\" stroke-dasharray=\"0.15 0.05\"/>\n",
       "    </g>\n",
       "    <g font-size=\"0.50\" font-family=\"sans-serif\">\n",
       "      <use xlink:href=\"#507706f1-953c-4c5d-9195-f96288c118b0-7\" fill=\"#3050F8\"/>\n",
       "      <use xlink:href=\"#507706f1-953c-4c5d-9195-f96288c118b0-8\" fill=\"#FF0D0D\"/>\n",
       "      <use xlink:href=\"#507706f1-953c-4c5d-9195-f96288c118b0-9\" fill=\"#FF0D0D\"/>\n",
       "    </g>\n",
       "    <use xlink:href=\"#507706f1-953c-4c5d-9195-f96288c118b0-mapping\" fill=\"#0305A7\"/>\n",
       "  </g>\n",
       "</svg>"
      ],
      "text/plain": [
       "<chython.containers.molecule.MoleculeContainer at 0x28e7cfa8b80>"
      ]
     },
     "execution_count": 21,
     "metadata": {},
     "output_type": "execute_result"
    }
   ],
   "source": [
    "m = smiles('c1ccccc1N(=O)=O')\n",
    "m.clean2d()  # calculate 2d layout\n",
    "m #  depict"
   ]
  },
  {
   "cell_type": "code",
   "execution_count": 22,
   "metadata": {
    "pycharm": {
     "name": "#%%\n"
    }
   },
   "outputs": [
    {
     "data": {
      "image/svg+xml": [
       "<svg width=\"4.89cm\" height=\"2.68cm\" viewBox=\"-2.27 -0.63 4.89 2.68\" xmlns=\"http://www.w3.org/2000/svg\" xmlns:xlink=\"http://www.w3.org/1999/xlink\" version=\"1.1\">\n",
       "  <g id=\"c0707fb1-5d0e-47b1-b5f7-a2a473cdcfda-molecule\">\n",
       "    <defs>\n",
       "      <g id=\"c0707fb1-5d0e-47b1-b5f7-a2a473cdcfda-symbols\" font-size=\"0.50\" font-family=\"sans-serif\">\n",
       "        <text id=\"c0707fb1-5d0e-47b1-b5f7-a2a473cdcfda-7\" x=\"-1.24\" y=\"0.71\" dx=\"-0.20\" dy=\"0.20\">N</text>\n",
       "        <text id=\"c0707fb1-5d0e-47b1-b5f7-a2a473cdcfda-8\" x=\"-1.65\" y=\"-0.00\" dx=\"-0.20\" dy=\"0.20\">O</text>\n",
       "        <text id=\"c0707fb1-5d0e-47b1-b5f7-a2a473cdcfda-9\" x=\"-1.65\" y=\"1.43\" dx=\"-0.20\" dy=\"0.20\">O</text>\n",
       "      </g>\n",
       "      <g id=\"c0707fb1-5d0e-47b1-b5f7-a2a473cdcfda-mapping\" font-size=\"0.25\" font-family=\"monospace\" text-anchor=\"end\">\n",
       "        <text x=\"0.00\" y=\"1.43\" dx=\"-0.05\" dy=\"0.20\">1</text>\n",
       "        <text x=\"0.83\" y=\"1.43\" dx=\"-0.05\" dy=\"0.20\">2</text>\n",
       "        <text x=\"1.24\" y=\"0.71\" dx=\"-0.05\" dy=\"0.20\">3</text>\n",
       "        <text x=\"0.83\" y=\"-0.00\" dx=\"-0.05\" dy=\"0.20\">4</text>\n",
       "        <text x=\"0.00\" y=\"-0.00\" dx=\"-0.05\" dy=\"0.20\">5</text>\n",
       "        <text x=\"-0.41\" y=\"0.71\" dx=\"-0.05\" dy=\"0.20\">6</text>\n",
       "        <text x=\"-1.24\" y=\"0.71\" dx=\"-0.15\" dy=\"0.35\">7</text>\n",
       "        <text x=\"-1.65\" y=\"-0.00\" dx=\"-0.15\" dy=\"0.35\">8</text>\n",
       "        <text x=\"-1.65\" y=\"1.43\" dx=\"-0.15\" dy=\"0.35\">9</text>\n",
       "      </g>\n",
       "      <mask id=\"c0707fb1-5d0e-47b1-b5f7-a2a473cdcfda-mask\">\n",
       "        <rect x=\"-2.27\" y=\"-0.63\" width=\"4.89\" height=\"2.68\" fill=\"white\"/>\n",
       "        <g>\n",
       "          <circle cx=\"-1.24\" cy=\"0.71\" r=\"0.20\"/>\n",
       "          <circle cx=\"-1.65\" cy=\"-0.00\" r=\"0.20\"/>\n",
       "          <circle cx=\"-1.65\" cy=\"1.43\" r=\"0.20\"/>\n",
       "        </g>\n",
       "        <g stroke=\"black\">\n",
       "          <use xlink:href=\"#c0707fb1-5d0e-47b1-b5f7-a2a473cdcfda-symbols\" stroke-width=\"0.05\"/>\n",
       "          <use xlink:href=\"#c0707fb1-5d0e-47b1-b5f7-a2a473cdcfda-mapping\" stroke-width=\"0.03\"/>\n",
       "        </g>\n",
       "      </mask>\n",
       "    </defs>\n",
       "    <g fill=\"none\" stroke=\"black\" stroke-width=\"0.04\" mask=\"url(#c0707fb1-5d0e-47b1-b5f7-a2a473cdcfda-mask)\">\n",
       "      <line x1=\"0.00\" y1=\"1.37\" x2=\"0.83\" y2=\"1.37\"/>\n",
       "      <line x1=\"0.00\" y1=\"1.49\" x2=\"0.83\" y2=\"1.49\"/>\n",
       "      <line x1=\"0.00\" y1=\"1.43\" x2=\"-0.41\" y2=\"0.71\"/>\n",
       "      <line x1=\"0.83\" y1=\"1.43\" x2=\"1.24\" y2=\"0.71\"/>\n",
       "      <line x1=\"1.19\" y1=\"0.74\" x2=\"0.77\" y2=\"0.03\"/>\n",
       "      <line x1=\"1.29\" y1=\"0.68\" x2=\"0.88\" y2=\"-0.03\"/>\n",
       "      <line x1=\"0.83\" y1=\"-0.00\" x2=\"0.00\" y2=\"-0.00\"/>\n",
       "      <line x1=\"0.05\" y1=\"0.03\" x2=\"-0.36\" y2=\"0.74\"/>\n",
       "      <line x1=\"-0.05\" y1=\"-0.03\" x2=\"-0.46\" y2=\"0.68\"/>\n",
       "      <line x1=\"-0.41\" y1=\"0.71\" x2=\"-1.24\" y2=\"0.71\"/>\n",
       "      <line x1=\"-1.29\" y1=\"0.74\" x2=\"-1.70\" y2=\"0.03\"/>\n",
       "      <line x1=\"-1.19\" y1=\"0.68\" x2=\"-1.60\" y2=\"-0.03\"/>\n",
       "      <line x1=\"-1.19\" y1=\"0.74\" x2=\"-1.60\" y2=\"1.46\"/>\n",
       "      <line x1=\"-1.29\" y1=\"0.68\" x2=\"-1.70\" y2=\"1.40\"/>\n",
       "    </g>\n",
       "    <g font-size=\"0.50\" font-family=\"sans-serif\">\n",
       "      <use xlink:href=\"#c0707fb1-5d0e-47b1-b5f7-a2a473cdcfda-7\" fill=\"#3050F8\"/>\n",
       "      <use xlink:href=\"#c0707fb1-5d0e-47b1-b5f7-a2a473cdcfda-8\" fill=\"#FF0D0D\"/>\n",
       "      <use xlink:href=\"#c0707fb1-5d0e-47b1-b5f7-a2a473cdcfda-9\" fill=\"#FF0D0D\"/>\n",
       "    </g>\n",
       "    <use xlink:href=\"#c0707fb1-5d0e-47b1-b5f7-a2a473cdcfda-mapping\" fill=\"#0305A7\"/>\n",
       "  </g>\n",
       "</svg>"
      ],
      "text/plain": [
       "<chython.containers.molecule.MoleculeContainer at 0x28e7cfa8b80>"
      ]
     },
     "execution_count": 22,
     "metadata": {},
     "output_type": "execute_result"
    }
   ],
   "source": [
    "m.kekule()  # transform to kekule form\n",
    "m"
   ]
  },
  {
   "cell_type": "code",
   "execution_count": 23,
   "metadata": {
    "pycharm": {
     "name": "#%%\n"
    }
   },
   "outputs": [
    {
     "data": {
      "image/svg+xml": [
       "<svg width=\"4.89cm\" height=\"2.68cm\" viewBox=\"-2.27 -0.63 4.89 2.68\" xmlns=\"http://www.w3.org/2000/svg\" xmlns:xlink=\"http://www.w3.org/1999/xlink\" version=\"1.1\">\n",
       "  <g id=\"d6f500ad-591b-4f5a-af7e-da60a11c76ca-molecule\">\n",
       "    <defs>\n",
       "      <g id=\"d6f500ad-591b-4f5a-af7e-da60a11c76ca-symbols\" font-size=\"0.50\" font-family=\"sans-serif\">\n",
       "        <text id=\"d6f500ad-591b-4f5a-af7e-da60a11c76ca-7\" x=\"-1.24\" y=\"0.71\" dx=\"-0.20\" dy=\"0.20\">N</text>\n",
       "        <text id=\"d6f500ad-591b-4f5a-af7e-da60a11c76ca-8\" x=\"-1.65\" y=\"-0.00\" dx=\"-0.20\" dy=\"0.20\">O</text>\n",
       "        <text id=\"d6f500ad-591b-4f5a-af7e-da60a11c76ca-9\" x=\"-1.65\" y=\"1.43\" dx=\"-0.20\" dy=\"0.20\">O</text>\n",
       "      </g>\n",
       "      <g id=\"d6f500ad-591b-4f5a-af7e-da60a11c76ca-attrs\" font-size=\"0.30\" font-family=\"monospace\">\n",
       "        <text x=\"-1.24\" y=\"0.71\" dx=\"0.05\" dy=\"-0.20\">+</text>\n",
       "        <text x=\"-1.65\" y=\"-0.00\" dx=\"0.05\" dy=\"-0.20\">-</text>\n",
       "      </g>\n",
       "      <g id=\"d6f500ad-591b-4f5a-af7e-da60a11c76ca-mapping\" font-size=\"0.25\" font-family=\"monospace\" text-anchor=\"end\">\n",
       "        <text x=\"0.00\" y=\"1.43\" dx=\"-0.05\" dy=\"0.20\">1</text>\n",
       "        <text x=\"0.83\" y=\"1.43\" dx=\"-0.05\" dy=\"0.20\">2</text>\n",
       "        <text x=\"1.24\" y=\"0.71\" dx=\"-0.05\" dy=\"0.20\">3</text>\n",
       "        <text x=\"0.83\" y=\"-0.00\" dx=\"-0.05\" dy=\"0.20\">4</text>\n",
       "        <text x=\"0.00\" y=\"-0.00\" dx=\"-0.05\" dy=\"0.20\">5</text>\n",
       "        <text x=\"-0.41\" y=\"0.71\" dx=\"-0.05\" dy=\"0.20\">6</text>\n",
       "        <text x=\"-1.24\" y=\"0.71\" dx=\"-0.15\" dy=\"0.35\">7</text>\n",
       "        <text x=\"-1.65\" y=\"-0.00\" dx=\"-0.15\" dy=\"0.35\">8</text>\n",
       "        <text x=\"-1.65\" y=\"1.43\" dx=\"-0.15\" dy=\"0.35\">9</text>\n",
       "      </g>\n",
       "      <mask id=\"d6f500ad-591b-4f5a-af7e-da60a11c76ca-mask\">\n",
       "        <rect x=\"-2.27\" y=\"-0.63\" width=\"4.89\" height=\"2.68\" fill=\"white\"/>\n",
       "        <g>\n",
       "          <circle cx=\"-1.24\" cy=\"0.71\" r=\"0.20\"/>\n",
       "          <circle cx=\"-1.65\" cy=\"-0.00\" r=\"0.20\"/>\n",
       "          <circle cx=\"-1.65\" cy=\"1.43\" r=\"0.20\"/>\n",
       "        </g>\n",
       "        <g stroke=\"black\">\n",
       "          <use xlink:href=\"#d6f500ad-591b-4f5a-af7e-da60a11c76ca-symbols\" stroke-width=\"0.05\"/>\n",
       "          <use xlink:href=\"#d6f500ad-591b-4f5a-af7e-da60a11c76ca-attrs\" stroke-width=\"0.03\"/>\n",
       "          <use xlink:href=\"#d6f500ad-591b-4f5a-af7e-da60a11c76ca-mapping\" stroke-width=\"0.03\"/>\n",
       "        </g>\n",
       "      </mask>\n",
       "    </defs>\n",
       "    <g fill=\"none\" stroke=\"black\" stroke-width=\"0.04\" mask=\"url(#d6f500ad-591b-4f5a-af7e-da60a11c76ca-mask)\">\n",
       "      <line x1=\"0.00\" y1=\"1.37\" x2=\"0.83\" y2=\"1.37\"/>\n",
       "      <line x1=\"0.00\" y1=\"1.49\" x2=\"0.83\" y2=\"1.49\"/>\n",
       "      <line x1=\"0.00\" y1=\"1.43\" x2=\"-0.41\" y2=\"0.71\"/>\n",
       "      <line x1=\"0.83\" y1=\"1.43\" x2=\"1.24\" y2=\"0.71\"/>\n",
       "      <line x1=\"1.19\" y1=\"0.74\" x2=\"0.77\" y2=\"0.03\"/>\n",
       "      <line x1=\"1.29\" y1=\"0.68\" x2=\"0.88\" y2=\"-0.03\"/>\n",
       "      <line x1=\"0.83\" y1=\"-0.00\" x2=\"0.00\" y2=\"-0.00\"/>\n",
       "      <line x1=\"0.05\" y1=\"0.03\" x2=\"-0.36\" y2=\"0.74\"/>\n",
       "      <line x1=\"-0.05\" y1=\"-0.03\" x2=\"-0.46\" y2=\"0.68\"/>\n",
       "      <line x1=\"-0.41\" y1=\"0.71\" x2=\"-1.24\" y2=\"0.71\"/>\n",
       "      <line x1=\"-1.24\" y1=\"0.71\" x2=\"-1.65\" y2=\"-0.00\"/>\n",
       "      <line x1=\"-1.19\" y1=\"0.74\" x2=\"-1.60\" y2=\"1.46\"/>\n",
       "      <line x1=\"-1.29\" y1=\"0.68\" x2=\"-1.70\" y2=\"1.40\"/>\n",
       "    </g>\n",
       "    <g font-size=\"0.50\" font-family=\"sans-serif\">\n",
       "      <use xlink:href=\"#d6f500ad-591b-4f5a-af7e-da60a11c76ca-7\" fill=\"#3050F8\"/>\n",
       "      <use xlink:href=\"#d6f500ad-591b-4f5a-af7e-da60a11c76ca-8\" fill=\"#FF0D0D\"/>\n",
       "      <use xlink:href=\"#d6f500ad-591b-4f5a-af7e-da60a11c76ca-9\" fill=\"#FF0D0D\"/>\n",
       "    </g>\n",
       "    <use xlink:href=\"#d6f500ad-591b-4f5a-af7e-da60a11c76ca-attrs\" fill=\"black\"/>\n",
       "    <use xlink:href=\"#d6f500ad-591b-4f5a-af7e-da60a11c76ca-mapping\" fill=\"#0305A7\"/>\n",
       "  </g>\n",
       "</svg>"
      ],
      "text/plain": [
       "<chython.containers.molecule.MoleculeContainer at 0x28e7cfa8b80>"
      ]
     },
     "execution_count": 23,
     "metadata": {},
     "output_type": "execute_result"
    }
   ],
   "source": [
    "m.standardize() # fix groups\n",
    "m"
   ]
  },
  {
   "cell_type": "code",
   "execution_count": 24,
   "metadata": {
    "pycharm": {
     "name": "#%%\n"
    }
   },
   "outputs": [
    {
     "data": {
      "image/svg+xml": [
       "<svg width=\"4.89cm\" height=\"2.68cm\" viewBox=\"-2.27 -0.63 4.89 2.68\" xmlns=\"http://www.w3.org/2000/svg\" xmlns:xlink=\"http://www.w3.org/1999/xlink\" version=\"1.1\">\n",
       "  <g id=\"9b653d8a-34aa-4c3d-86fa-396d0f16650c-molecule\">\n",
       "    <defs>\n",
       "      <g id=\"9b653d8a-34aa-4c3d-86fa-396d0f16650c-symbols\" font-size=\"0.50\" font-family=\"sans-serif\">\n",
       "        <text id=\"9b653d8a-34aa-4c3d-86fa-396d0f16650c-7\" x=\"-1.24\" y=\"0.71\" dx=\"-0.20\" dy=\"0.20\">N</text>\n",
       "        <text id=\"9b653d8a-34aa-4c3d-86fa-396d0f16650c-8\" x=\"-1.65\" y=\"-0.00\" dx=\"-0.20\" dy=\"0.20\">O</text>\n",
       "        <text id=\"9b653d8a-34aa-4c3d-86fa-396d0f16650c-9\" x=\"-1.65\" y=\"1.43\" dx=\"-0.20\" dy=\"0.20\">O</text>\n",
       "      </g>\n",
       "      <g id=\"9b653d8a-34aa-4c3d-86fa-396d0f16650c-attrs\" font-size=\"0.30\" font-family=\"monospace\">\n",
       "        <text x=\"-1.24\" y=\"0.71\" dx=\"0.05\" dy=\"-0.20\">+</text>\n",
       "        <text x=\"-1.65\" y=\"-0.00\" dx=\"0.05\" dy=\"-0.20\">-</text>\n",
       "      </g>\n",
       "      <g id=\"9b653d8a-34aa-4c3d-86fa-396d0f16650c-mapping\" font-size=\"0.25\" font-family=\"monospace\" text-anchor=\"end\">\n",
       "        <text x=\"0.00\" y=\"1.43\" dx=\"-0.05\" dy=\"0.20\">1</text>\n",
       "        <text x=\"0.83\" y=\"1.43\" dx=\"-0.05\" dy=\"0.20\">2</text>\n",
       "        <text x=\"1.24\" y=\"0.71\" dx=\"-0.05\" dy=\"0.20\">3</text>\n",
       "        <text x=\"0.83\" y=\"-0.00\" dx=\"-0.05\" dy=\"0.20\">4</text>\n",
       "        <text x=\"0.00\" y=\"-0.00\" dx=\"-0.05\" dy=\"0.20\">5</text>\n",
       "        <text x=\"-0.41\" y=\"0.71\" dx=\"-0.05\" dy=\"0.20\">6</text>\n",
       "        <text x=\"-1.24\" y=\"0.71\" dx=\"-0.15\" dy=\"0.35\">7</text>\n",
       "        <text x=\"-1.65\" y=\"-0.00\" dx=\"-0.15\" dy=\"0.35\">8</text>\n",
       "        <text x=\"-1.65\" y=\"1.43\" dx=\"-0.15\" dy=\"0.35\">9</text>\n",
       "      </g>\n",
       "      <mask id=\"9b653d8a-34aa-4c3d-86fa-396d0f16650c-mask\">\n",
       "        <rect x=\"-2.27\" y=\"-0.63\" width=\"4.89\" height=\"2.68\" fill=\"white\"/>\n",
       "        <g>\n",
       "          <circle cx=\"-1.24\" cy=\"0.71\" r=\"0.20\"/>\n",
       "          <circle cx=\"-1.65\" cy=\"-0.00\" r=\"0.20\"/>\n",
       "          <circle cx=\"-1.65\" cy=\"1.43\" r=\"0.20\"/>\n",
       "        </g>\n",
       "        <g stroke=\"black\">\n",
       "          <use xlink:href=\"#9b653d8a-34aa-4c3d-86fa-396d0f16650c-symbols\" stroke-width=\"0.05\"/>\n",
       "          <use xlink:href=\"#9b653d8a-34aa-4c3d-86fa-396d0f16650c-attrs\" stroke-width=\"0.03\"/>\n",
       "          <use xlink:href=\"#9b653d8a-34aa-4c3d-86fa-396d0f16650c-mapping\" stroke-width=\"0.03\"/>\n",
       "        </g>\n",
       "      </mask>\n",
       "    </defs>\n",
       "    <g fill=\"none\" stroke=\"black\" stroke-width=\"0.04\" mask=\"url(#9b653d8a-34aa-4c3d-86fa-396d0f16650c-mask)\">\n",
       "      <line x1=\"0.00\" y1=\"1.43\" x2=\"0.83\" y2=\"1.43\"/>\n",
       "      <line x1=\"0.00\" y1=\"1.43\" x2=\"-0.41\" y2=\"0.71\"/>\n",
       "      <line x1=\"0.83\" y1=\"1.43\" x2=\"1.24\" y2=\"0.71\"/>\n",
       "      <line x1=\"1.24\" y1=\"0.71\" x2=\"0.83\" y2=\"-0.00\"/>\n",
       "      <line x1=\"0.83\" y1=\"-0.00\" x2=\"0.00\" y2=\"-0.00\"/>\n",
       "      <line x1=\"0.00\" y1=\"-0.00\" x2=\"-0.41\" y2=\"0.71\"/>\n",
       "      <line x1=\"-0.41\" y1=\"0.71\" x2=\"-1.24\" y2=\"0.71\"/>\n",
       "      <line x1=\"-1.24\" y1=\"0.71\" x2=\"-1.65\" y2=\"-0.00\"/>\n",
       "      <line x1=\"-1.19\" y1=\"0.74\" x2=\"-1.60\" y2=\"1.46\"/>\n",
       "      <line x1=\"-1.29\" y1=\"0.68\" x2=\"-1.70\" y2=\"1.40\"/>\n",
       "      <line x1=\"0.08\" y1=\"1.29\" x2=\"0.74\" y2=\"1.29\" stroke-dasharray=\"0.15 0.05\"/>\n",
       "      <line x1=\"0.74\" y1=\"1.29\" x2=\"1.08\" y2=\"0.71\" stroke-dasharray=\"0.15 0.05\"/>\n",
       "      <line x1=\"1.08\" y1=\"0.71\" x2=\"0.74\" y2=\"0.14\" stroke-dasharray=\"0.15 0.05\"/>\n",
       "      <line x1=\"0.74\" y1=\"0.14\" x2=\"0.08\" y2=\"0.14\" stroke-dasharray=\"0.15 0.05\"/>\n",
       "      <line x1=\"0.08\" y1=\"0.14\" x2=\"-0.25\" y2=\"0.71\" stroke-dasharray=\"0.15 0.05\"/>\n",
       "      <line x1=\"-0.25\" y1=\"0.71\" x2=\"0.08\" y2=\"1.29\" stroke-dasharray=\"0.15 0.05\"/>\n",
       "    </g>\n",
       "    <g font-size=\"0.50\" font-family=\"sans-serif\">\n",
       "      <use xlink:href=\"#9b653d8a-34aa-4c3d-86fa-396d0f16650c-7\" fill=\"#3050F8\"/>\n",
       "      <use xlink:href=\"#9b653d8a-34aa-4c3d-86fa-396d0f16650c-8\" fill=\"#FF0D0D\"/>\n",
       "      <use xlink:href=\"#9b653d8a-34aa-4c3d-86fa-396d0f16650c-9\" fill=\"#FF0D0D\"/>\n",
       "    </g>\n",
       "    <use xlink:href=\"#9b653d8a-34aa-4c3d-86fa-396d0f16650c-attrs\" fill=\"black\"/>\n",
       "    <use xlink:href=\"#9b653d8a-34aa-4c3d-86fa-396d0f16650c-mapping\" fill=\"#0305A7\"/>\n",
       "  </g>\n",
       "</svg>"
      ],
      "text/plain": [
       "<chython.containers.molecule.MoleculeContainer at 0x28e7cfa8b80>"
      ]
     },
     "execution_count": 24,
     "metadata": {},
     "output_type": "execute_result"
    }
   ],
   "source": [
    "m.thiele() # transform to aromatized form\n",
    "m"
   ]
  },
  {
   "cell_type": "code",
   "execution_count": 25,
   "metadata": {
    "pycharm": {
     "name": "#%%\n"
    }
   },
   "outputs": [
    {
     "data": {
      "image/svg+xml": [
       "<svg width=\"3.84cm\" height=\"2.68cm\" viewBox=\"-2.05 -1.34 3.84 2.68\" xmlns=\"http://www.w3.org/2000/svg\" xmlns:xlink=\"http://www.w3.org/1999/xlink\" version=\"1.1\">\n",
       "  <g id=\"1df863fd-0952-4aff-b31a-3ee9b8af2a1c-molecule\">\n",
       "    <defs>\n",
       "      <g id=\"1df863fd-0952-4aff-b31a-3ee9b8af2a1c-symbols\" font-size=\"0.50\" font-family=\"sans-serif\">\n",
       "        <text id=\"1df863fd-0952-4aff-b31a-3ee9b8af2a1c-1\" x=\"-1.43\" y=\"0.00\" dx=\"-0.20\" dy=\"0.20\">NH<tspan  dy=\"0.15\" font-size=\"0.35\">2</tspan></text>\n",
       "        <text id=\"1df863fd-0952-4aff-b31a-3ee9b8af2a1c-4\" x=\"-0.41\" y=\"0.71\" dx=\"-0.20\" dy=\"0.20\">O</text>\n",
       "        <text id=\"1df863fd-0952-4aff-b31a-3ee9b8af2a1c-5\" x=\"0.41\" y=\"-0.71\" dx=\"-0.20\" dy=\"0.20\">OH</text>\n",
       "      </g>\n",
       "      <g id=\"1df863fd-0952-4aff-b31a-3ee9b8af2a1c-mapping\" font-size=\"0.25\" font-family=\"monospace\" text-anchor=\"end\">\n",
       "        <text x=\"-1.43\" y=\"0.00\" dx=\"-0.15\" dy=\"0.35\">1</text>\n",
       "        <text x=\"-0.71\" y=\"-0.41\" dx=\"-0.05\" dy=\"0.20\">2</text>\n",
       "        <text x=\"0.00\" y=\"-0.00\" dx=\"-0.05\" dy=\"0.20\">3</text>\n",
       "        <text x=\"-0.41\" y=\"0.71\" dx=\"-0.15\" dy=\"0.35\">4</text>\n",
       "        <text x=\"0.41\" y=\"-0.71\" dx=\"-0.15\" dy=\"0.35\">5</text>\n",
       "      </g>\n",
       "      <mask id=\"1df863fd-0952-4aff-b31a-3ee9b8af2a1c-mask\">\n",
       "        <rect x=\"-2.05\" y=\"-1.34\" width=\"3.84\" height=\"2.68\" fill=\"white\"/>\n",
       "        <g>\n",
       "          <circle cx=\"-1.43\" cy=\"0.00\" r=\"0.20\"/>\n",
       "          <circle cx=\"-0.41\" cy=\"0.71\" r=\"0.20\"/>\n",
       "          <circle cx=\"0.41\" cy=\"-0.71\" r=\"0.20\"/>\n",
       "        </g>\n",
       "        <g stroke=\"black\">\n",
       "          <use xlink:href=\"#1df863fd-0952-4aff-b31a-3ee9b8af2a1c-symbols\" stroke-width=\"0.05\"/>\n",
       "          <use xlink:href=\"#1df863fd-0952-4aff-b31a-3ee9b8af2a1c-mapping\" stroke-width=\"0.03\"/>\n",
       "        </g>\n",
       "      </mask>\n",
       "    </defs>\n",
       "    <g fill=\"none\" stroke=\"black\" stroke-width=\"0.04\" mask=\"url(#1df863fd-0952-4aff-b31a-3ee9b8af2a1c-mask)\">\n",
       "      <line x1=\"-1.43\" y1=\"0.00\" x2=\"-0.71\" y2=\"-0.41\"/>\n",
       "      <line x1=\"-0.71\" y1=\"-0.41\" x2=\"0.00\" y2=\"-0.00\"/>\n",
       "      <line x1=\"0.05\" y1=\"0.03\" x2=\"-0.36\" y2=\"0.74\"/>\n",
       "      <line x1=\"-0.05\" y1=\"-0.03\" x2=\"-0.46\" y2=\"0.68\"/>\n",
       "      <line x1=\"0.00\" y1=\"-0.00\" x2=\"0.41\" y2=\"-0.71\"/>\n",
       "    </g>\n",
       "    <g font-size=\"0.50\" font-family=\"sans-serif\">\n",
       "      <use xlink:href=\"#1df863fd-0952-4aff-b31a-3ee9b8af2a1c-1\" fill=\"#3050F8\"/>\n",
       "      <use xlink:href=\"#1df863fd-0952-4aff-b31a-3ee9b8af2a1c-4\" fill=\"#FF0D0D\"/>\n",
       "      <use xlink:href=\"#1df863fd-0952-4aff-b31a-3ee9b8af2a1c-5\" fill=\"#FF0D0D\"/>\n",
       "    </g>\n",
       "    <use xlink:href=\"#1df863fd-0952-4aff-b31a-3ee9b8af2a1c-mapping\" fill=\"#0305A7\"/>\n",
       "  </g>\n",
       "</svg>"
      ],
      "text/plain": [
       "<chython.containers.molecule.MoleculeContainer at 0x28e7d18a900>"
      ]
     },
     "execution_count": 25,
     "metadata": {},
     "output_type": "execute_result"
    }
   ],
   "source": [
    "m = smiles('[NH3+]CC(=O)[O-]')\n",
    "m.clean2d()\n",
    "m.neutralize() # fix zwitter-ions\n",
    "m"
   ]
  },
  {
   "cell_type": "markdown",
   "metadata": {
    "pycharm": {
     "name": "#%% md\n"
    }
   },
   "source": [
    "Molecules has `explicify_hydrogens` and `implicify_hydrogens` methods to handle hydrogens.\n",
    "\n",
    "This methods is used to add or remove hydrogens in molecule.\n",
    "\n",
    "Note `implicify_hydrogens` working for aromatic rings only in `kekule` form. `explicify_hydrogens` for `aromatized` forms required `kekule` and optionally `thiele` procedures applied before."
   ]
  },
  {
   "cell_type": "code",
   "execution_count": 26,
   "metadata": {
    "pycharm": {
     "name": "#%%\n"
    }
   },
   "outputs": [
    {
     "name": "stdout",
     "output_type": "stream",
     "text": [
      "5\n"
     ]
    },
    {
     "data": {
      "image/svg+xml": [
       "<svg width=\"4.89cm\" height=\"3.50cm\" viewBox=\"-3.10 -1.34 4.89 3.50\" xmlns=\"http://www.w3.org/2000/svg\" xmlns:xlink=\"http://www.w3.org/1999/xlink\" version=\"1.1\">\n",
       "  <g id=\"3a430f6a-c77e-493d-9157-ebd288337c97-molecule\">\n",
       "    <defs>\n",
       "      <g id=\"3a430f6a-c77e-493d-9157-ebd288337c97-symbols\" font-size=\"0.50\" font-family=\"sans-serif\">\n",
       "        <text id=\"3a430f6a-c77e-493d-9157-ebd288337c97-1\" x=\"-2.06\" y=\"0.71\" dx=\"-0.20\" dy=\"0.20\">N</text>\n",
       "        <text id=\"3a430f6a-c77e-493d-9157-ebd288337c97-4\" x=\"-1.24\" y=\"-0.71\" dx=\"-0.20\" dy=\"0.20\">O</text>\n",
       "        <text id=\"3a430f6a-c77e-493d-9157-ebd288337c97-5\" x=\"0.00\" y=\"-0.00\" dx=\"-0.20\" dy=\"0.20\">O</text>\n",
       "        <text id=\"3a430f6a-c77e-493d-9157-ebd288337c97-6\" x=\"-2.47\" y=\"-0.00\" dx=\"-0.20\" dy=\"0.20\">H</text>\n",
       "        <text id=\"3a430f6a-c77e-493d-9157-ebd288337c97-7\" x=\"-2.48\" y=\"1.43\" dx=\"-0.20\" dy=\"0.20\">H</text>\n",
       "        <text id=\"3a430f6a-c77e-493d-9157-ebd288337c97-8\" x=\"-0.52\" y=\"1.13\" dx=\"-0.20\" dy=\"0.20\">H</text>\n",
       "        <text id=\"3a430f6a-c77e-493d-9157-ebd288337c97-9\" x=\"-1.24\" y=\"1.54\" dx=\"-0.20\" dy=\"0.20\">H</text>\n",
       "        <text id=\"3a430f6a-c77e-493d-9157-ebd288337c97-10\" x=\"0.41\" y=\"0.71\" dx=\"-0.20\" dy=\"0.20\">H</text>\n",
       "      </g>\n",
       "      <g id=\"3a430f6a-c77e-493d-9157-ebd288337c97-mapping\" font-size=\"0.25\" font-family=\"monospace\" text-anchor=\"end\">\n",
       "        <text x=\"-2.06\" y=\"0.71\" dx=\"-0.15\" dy=\"0.35\">1</text>\n",
       "        <text x=\"-1.24\" y=\"0.71\" dx=\"-0.05\" dy=\"0.20\">2</text>\n",
       "        <text x=\"-0.82\" y=\"-0.00\" dx=\"-0.05\" dy=\"0.20\">3</text>\n",
       "        <text x=\"-1.24\" y=\"-0.71\" dx=\"-0.15\" dy=\"0.35\">4</text>\n",
       "        <text x=\"0.00\" y=\"-0.00\" dx=\"-0.15\" dy=\"0.35\">5</text>\n",
       "        <text x=\"-2.47\" y=\"-0.00\" dx=\"-0.15\" dy=\"0.35\">6</text>\n",
       "        <text x=\"-2.48\" y=\"1.43\" dx=\"-0.15\" dy=\"0.35\">7</text>\n",
       "        <text x=\"-0.52\" y=\"1.13\" dx=\"-0.15\" dy=\"0.35\">8</text>\n",
       "        <text x=\"-1.24\" y=\"1.54\" dx=\"-0.15\" dy=\"0.35\">9</text>\n",
       "        <text x=\"0.41\" y=\"0.71\" dx=\"-0.15\" dy=\"0.35\">10</text>\n",
       "      </g>\n",
       "      <mask id=\"3a430f6a-c77e-493d-9157-ebd288337c97-mask\">\n",
       "        <rect x=\"-3.10\" y=\"-1.34\" width=\"4.89\" height=\"3.50\" fill=\"white\"/>\n",
       "        <g>\n",
       "          <circle cx=\"-2.06\" cy=\"0.71\" r=\"0.20\"/>\n",
       "          <circle cx=\"-1.24\" cy=\"-0.71\" r=\"0.20\"/>\n",
       "          <circle cx=\"0.00\" cy=\"-0.00\" r=\"0.20\"/>\n",
       "          <circle cx=\"-2.47\" cy=\"-0.00\" r=\"0.20\"/>\n",
       "          <circle cx=\"-2.48\" cy=\"1.43\" r=\"0.20\"/>\n",
       "          <circle cx=\"-0.52\" cy=\"1.13\" r=\"0.20\"/>\n",
       "          <circle cx=\"-1.24\" cy=\"1.54\" r=\"0.20\"/>\n",
       "          <circle cx=\"0.41\" cy=\"0.71\" r=\"0.20\"/>\n",
       "        </g>\n",
       "        <g stroke=\"black\">\n",
       "          <use xlink:href=\"#3a430f6a-c77e-493d-9157-ebd288337c97-symbols\" stroke-width=\"0.05\"/>\n",
       "          <use xlink:href=\"#3a430f6a-c77e-493d-9157-ebd288337c97-mapping\" stroke-width=\"0.03\"/>\n",
       "        </g>\n",
       "      </mask>\n",
       "    </defs>\n",
       "    <g fill=\"none\" stroke=\"black\" stroke-width=\"0.04\" mask=\"url(#3a430f6a-c77e-493d-9157-ebd288337c97-mask)\">\n",
       "      <line x1=\"-2.06\" y1=\"0.71\" x2=\"-1.24\" y2=\"0.71\"/>\n",
       "      <line x1=\"-2.06\" y1=\"0.71\" x2=\"-2.47\" y2=\"-0.00\"/>\n",
       "      <line x1=\"-2.06\" y1=\"0.71\" x2=\"-2.48\" y2=\"1.43\"/>\n",
       "      <line x1=\"-1.24\" y1=\"0.71\" x2=\"-0.82\" y2=\"-0.00\"/>\n",
       "      <line x1=\"-1.24\" y1=\"0.71\" x2=\"-0.52\" y2=\"1.13\"/>\n",
       "      <line x1=\"-1.24\" y1=\"0.71\" x2=\"-1.24\" y2=\"1.54\"/>\n",
       "      <line x1=\"-0.88\" y1=\"0.03\" x2=\"-1.29\" y2=\"-0.68\"/>\n",
       "      <line x1=\"-0.77\" y1=\"-0.03\" x2=\"-1.19\" y2=\"-0.74\"/>\n",
       "      <line x1=\"-0.82\" y1=\"-0.00\" x2=\"0.00\" y2=\"-0.00\"/>\n",
       "      <line x1=\"0.00\" y1=\"-0.00\" x2=\"0.41\" y2=\"0.71\"/>\n",
       "    </g>\n",
       "    <g font-size=\"0.50\" font-family=\"sans-serif\">\n",
       "      <use xlink:href=\"#3a430f6a-c77e-493d-9157-ebd288337c97-1\" fill=\"#3050F8\"/>\n",
       "      <use xlink:href=\"#3a430f6a-c77e-493d-9157-ebd288337c97-4\" fill=\"#FF0D0D\"/>\n",
       "      <use xlink:href=\"#3a430f6a-c77e-493d-9157-ebd288337c97-5\" fill=\"#FF0D0D\"/>\n",
       "      <use xlink:href=\"#3a430f6a-c77e-493d-9157-ebd288337c97-6\" fill=\"#909090\"/>\n",
       "      <use xlink:href=\"#3a430f6a-c77e-493d-9157-ebd288337c97-7\" fill=\"#909090\"/>\n",
       "      <use xlink:href=\"#3a430f6a-c77e-493d-9157-ebd288337c97-8\" fill=\"#909090\"/>\n",
       "      <use xlink:href=\"#3a430f6a-c77e-493d-9157-ebd288337c97-9\" fill=\"#909090\"/>\n",
       "      <use xlink:href=\"#3a430f6a-c77e-493d-9157-ebd288337c97-10\" fill=\"#909090\"/>\n",
       "    </g>\n",
       "    <use xlink:href=\"#3a430f6a-c77e-493d-9157-ebd288337c97-mapping\" fill=\"#0305A7\"/>\n",
       "  </g>\n",
       "</svg>"
      ],
      "text/plain": [
       "<chython.containers.molecule.MoleculeContainer at 0x28e7d18a900>"
      ]
     },
     "execution_count": 26,
     "metadata": {},
     "output_type": "execute_result"
    }
   ],
   "source": [
    "print(m.explicify_hydrogens()) # return number of added hydrogens\n",
    "m.clean2d()\n",
    "m"
   ]
  },
  {
   "cell_type": "code",
   "execution_count": 27,
   "metadata": {
    "pycharm": {
     "name": "#%%\n"
    }
   },
   "outputs": [
    {
     "data": {
      "image/svg+xml": [
       "<svg width=\"4.06cm\" height=\"2.68cm\" viewBox=\"-2.69 -1.34 4.06 2.68\" xmlns=\"http://www.w3.org/2000/svg\" xmlns:xlink=\"http://www.w3.org/1999/xlink\" version=\"1.1\">\n",
       "  <g id=\"157ce647-b05c-40b1-9346-1ed16803a73b-molecule\">\n",
       "    <defs>\n",
       "      <g id=\"157ce647-b05c-40b1-9346-1ed16803a73b-symbols\" font-size=\"0.50\" font-family=\"sans-serif\">\n",
       "        <text id=\"157ce647-b05c-40b1-9346-1ed16803a73b-1\" x=\"-2.06\" y=\"0.71\" dx=\"-0.20\" dy=\"0.20\">NH<tspan  dy=\"0.15\" font-size=\"0.35\">2</tspan></text>\n",
       "        <text id=\"157ce647-b05c-40b1-9346-1ed16803a73b-4\" x=\"-1.24\" y=\"-0.71\" dx=\"-0.20\" dy=\"0.20\">O</text>\n",
       "        <text id=\"157ce647-b05c-40b1-9346-1ed16803a73b-5\" x=\"0.00\" y=\"-0.00\" dx=\"-0.20\" dy=\"0.20\">OH</text>\n",
       "      </g>\n",
       "      <g id=\"157ce647-b05c-40b1-9346-1ed16803a73b-mapping\" font-size=\"0.25\" font-family=\"monospace\" text-anchor=\"end\">\n",
       "        <text x=\"-2.06\" y=\"0.71\" dx=\"-0.15\" dy=\"0.35\">1</text>\n",
       "        <text x=\"-1.24\" y=\"0.71\" dx=\"-0.05\" dy=\"0.20\">2</text>\n",
       "        <text x=\"-0.82\" y=\"-0.00\" dx=\"-0.05\" dy=\"0.20\">3</text>\n",
       "        <text x=\"-1.24\" y=\"-0.71\" dx=\"-0.15\" dy=\"0.35\">4</text>\n",
       "        <text x=\"0.00\" y=\"-0.00\" dx=\"-0.15\" dy=\"0.35\">5</text>\n",
       "      </g>\n",
       "      <mask id=\"157ce647-b05c-40b1-9346-1ed16803a73b-mask\">\n",
       "        <rect x=\"-2.69\" y=\"-1.34\" width=\"4.06\" height=\"2.68\" fill=\"white\"/>\n",
       "        <g>\n",
       "          <circle cx=\"-2.06\" cy=\"0.71\" r=\"0.20\"/>\n",
       "          <circle cx=\"-1.24\" cy=\"-0.71\" r=\"0.20\"/>\n",
       "          <circle cx=\"0.00\" cy=\"-0.00\" r=\"0.20\"/>\n",
       "        </g>\n",
       "        <g stroke=\"black\">\n",
       "          <use xlink:href=\"#157ce647-b05c-40b1-9346-1ed16803a73b-symbols\" stroke-width=\"0.05\"/>\n",
       "          <use xlink:href=\"#157ce647-b05c-40b1-9346-1ed16803a73b-mapping\" stroke-width=\"0.03\"/>\n",
       "        </g>\n",
       "      </mask>\n",
       "    </defs>\n",
       "    <g fill=\"none\" stroke=\"black\" stroke-width=\"0.04\" mask=\"url(#157ce647-b05c-40b1-9346-1ed16803a73b-mask)\">\n",
       "      <line x1=\"-2.06\" y1=\"0.71\" x2=\"-1.24\" y2=\"0.71\"/>\n",
       "      <line x1=\"-1.24\" y1=\"0.71\" x2=\"-0.82\" y2=\"-0.00\"/>\n",
       "      <line x1=\"-0.88\" y1=\"0.03\" x2=\"-1.29\" y2=\"-0.68\"/>\n",
       "      <line x1=\"-0.77\" y1=\"-0.03\" x2=\"-1.19\" y2=\"-0.74\"/>\n",
       "      <line x1=\"-0.82\" y1=\"-0.00\" x2=\"0.00\" y2=\"-0.00\"/>\n",
       "    </g>\n",
       "    <g font-size=\"0.50\" font-family=\"sans-serif\">\n",
       "      <use xlink:href=\"#157ce647-b05c-40b1-9346-1ed16803a73b-1\" fill=\"#3050F8\"/>\n",
       "      <use xlink:href=\"#157ce647-b05c-40b1-9346-1ed16803a73b-4\" fill=\"#FF0D0D\"/>\n",
       "      <use xlink:href=\"#157ce647-b05c-40b1-9346-1ed16803a73b-5\" fill=\"#FF0D0D\"/>\n",
       "    </g>\n",
       "    <use xlink:href=\"#157ce647-b05c-40b1-9346-1ed16803a73b-mapping\" fill=\"#0305A7\"/>\n",
       "  </g>\n",
       "</svg>"
      ],
      "text/plain": [
       "<chython.containers.molecule.MoleculeContainer at 0x28e7d18a900>"
      ]
     },
     "execution_count": 27,
     "metadata": {},
     "output_type": "execute_result"
    }
   ],
   "source": [
    "m.implicify_hydrogens()\n",
    "m"
   ]
  },
  {
   "cell_type": "code",
   "execution_count": 28,
   "metadata": {},
   "outputs": [
    {
     "name": "stdout",
     "output_type": "stream",
     "text": [
      "errors: [2, 4, 5, 6, 7, 8, 9]\n",
      "errors: [2]\n"
     ]
    },
    {
     "data": {
      "image/svg+xml": [
       "<svg width=\"5.30cm\" height=\"3.39cm\" viewBox=\"-2.69 -2.77 5.30 3.39\" xmlns=\"http://www.w3.org/2000/svg\" xmlns:xlink=\"http://www.w3.org/1999/xlink\" version=\"1.1\">\n",
       "  <g id=\"dc292501-429a-4083-a8fe-ddbdf59644f9-molecule\">\n",
       "    <defs>\n",
       "      <g id=\"dc292501-429a-4083-a8fe-ddbdf59644f9-symbols\" font-size=\"0.50\" font-family=\"sans-serif\">\n",
       "        <text id=\"dc292501-429a-4083-a8fe-ddbdf59644f9-2\" x=\"-1.24\" y=\"-2.14\" dx=\"-0.20\" dy=\"0.20\">N</text>\n",
       "      </g>\n",
       "      <g id=\"dc292501-429a-4083-a8fe-ddbdf59644f9-mapping\" font-size=\"0.25\" font-family=\"monospace\" text-anchor=\"end\">\n",
       "        <text x=\"-2.06\" y=\"-2.14\" dx=\"-0.05\" dy=\"0.20\">1</text>\n",
       "        <text x=\"-1.24\" y=\"-2.14\" dx=\"-0.15\" dy=\"0.35\">2</text>\n",
       "        <text x=\"-0.41\" y=\"-2.14\" dx=\"-0.05\" dy=\"0.20\">3</text>\n",
       "        <text x=\"-0.00\" y=\"-1.43\" dx=\"-0.05\" dy=\"0.20\">4</text>\n",
       "        <text x=\"-0.41\" y=\"-0.71\" dx=\"-0.05\" dy=\"0.20\">5</text>\n",
       "        <text x=\"0.00\" y=\"-0.00\" dx=\"-0.05\" dy=\"0.20\">6</text>\n",
       "        <text x=\"0.82\" y=\"-0.00\" dx=\"-0.05\" dy=\"0.20\">7</text>\n",
       "        <text x=\"1.24\" y=\"-0.71\" dx=\"-0.05\" dy=\"0.20\">8</text>\n",
       "        <text x=\"0.82\" y=\"-1.43\" dx=\"-0.05\" dy=\"0.20\">9</text>\n",
       "      </g>\n",
       "      <mask id=\"dc292501-429a-4083-a8fe-ddbdf59644f9-mask\">\n",
       "        <rect x=\"-2.69\" y=\"-2.77\" width=\"5.30\" height=\"3.39\" fill=\"white\"/>\n",
       "        <g>\n",
       "          <circle cx=\"-1.24\" cy=\"-2.14\" r=\"0.20\"/>\n",
       "        </g>\n",
       "        <g stroke=\"black\">\n",
       "          <use xlink:href=\"#dc292501-429a-4083-a8fe-ddbdf59644f9-symbols\" stroke-width=\"0.05\"/>\n",
       "          <use xlink:href=\"#dc292501-429a-4083-a8fe-ddbdf59644f9-mapping\" stroke-width=\"0.03\"/>\n",
       "        </g>\n",
       "      </mask>\n",
       "    </defs>\n",
       "    <g fill=\"none\" stroke=\"black\" stroke-width=\"0.04\" mask=\"url(#dc292501-429a-4083-a8fe-ddbdf59644f9-mask)\">\n",
       "      <line x1=\"-2.06\" y1=\"-2.20\" x2=\"-1.24\" y2=\"-2.20\"/>\n",
       "      <line x1=\"-2.06\" y1=\"-2.08\" x2=\"-1.24\" y2=\"-2.08\"/>\n",
       "      <line x1=\"-1.24\" y1=\"-2.20\" x2=\"-0.41\" y2=\"-2.20\"/>\n",
       "      <line x1=\"-1.24\" y1=\"-2.08\" x2=\"-0.41\" y2=\"-2.08\"/>\n",
       "      <line x1=\"-0.41\" y1=\"-2.14\" x2=\"-0.00\" y2=\"-1.43\"/>\n",
       "      <line x1=\"-0.00\" y1=\"-1.43\" x2=\"-0.41\" y2=\"-0.71\"/>\n",
       "      <line x1=\"-0.00\" y1=\"-1.43\" x2=\"0.82\" y2=\"-1.43\"/>\n",
       "      <line x1=\"-0.41\" y1=\"-0.71\" x2=\"0.00\" y2=\"-0.00\"/>\n",
       "      <line x1=\"0.00\" y1=\"-0.00\" x2=\"0.82\" y2=\"-0.00\"/>\n",
       "      <line x1=\"0.82\" y1=\"-0.00\" x2=\"1.24\" y2=\"-0.71\"/>\n",
       "      <line x1=\"1.24\" y1=\"-0.71\" x2=\"0.82\" y2=\"-1.43\"/>\n",
       "      <line x1=\"0.08\" y1=\"-1.29\" x2=\"-0.25\" y2=\"-0.71\" stroke-dasharray=\"0.15 0.05\"/>\n",
       "      <line x1=\"-0.25\" y1=\"-0.71\" x2=\"0.08\" y2=\"-0.14\" stroke-dasharray=\"0.15 0.05\"/>\n",
       "      <line x1=\"0.08\" y1=\"-0.14\" x2=\"0.74\" y2=\"-0.14\" stroke-dasharray=\"0.15 0.05\"/>\n",
       "      <line x1=\"0.74\" y1=\"-0.14\" x2=\"1.08\" y2=\"-0.71\" stroke-dasharray=\"0.15 0.05\"/>\n",
       "      <line x1=\"1.08\" y1=\"-0.71\" x2=\"0.74\" y2=\"-1.29\" stroke-dasharray=\"0.15 0.05\"/>\n",
       "      <line x1=\"0.74\" y1=\"-1.29\" x2=\"0.08\" y2=\"-1.29\" stroke-dasharray=\"0.15 0.05\"/>\n",
       "    </g>\n",
       "    <g font-size=\"0.50\" font-family=\"sans-serif\">\n",
       "      <use xlink:href=\"#dc292501-429a-4083-a8fe-ddbdf59644f9-2\" fill=\"#3050F8\"/>\n",
       "    </g>\n",
       "    <use xlink:href=\"#dc292501-429a-4083-a8fe-ddbdf59644f9-mapping\" fill=\"#0305A7\"/>\n",
       "  </g>\n",
       "</svg>"
      ],
      "text/plain": [
       "<chython.containers.molecule.MoleculeContainer at 0x28e7d18a680>"
      ]
     },
     "execution_count": 28,
     "metadata": {},
     "output_type": "execute_result"
    }
   ],
   "source": [
    "m = smiles('C=N=Cc1ccccc1')\n",
    "print('errors:', m.check_valence()) # atoms with valence problems. aromatic rings should be kekulized (canonicaqlized) to check problems\n",
    "m.canonicalize()\n",
    "print('errors:', m.check_valence())\n",
    "m.clean2d()\n",
    "m"
   ]
  },
  {
   "cell_type": "markdown",
   "metadata": {
    "pycharm": {
     "name": "#%% md\n"
    }
   },
   "source": [
    "## 3.2. Reactions\n",
    "ReactionContainer has same methods as molecules. In this case they are applied to all molecules in reaction.\n",
    "\n",
    "`explicify_hydrogen` method try to keep atom-to-atom mapping.\n",
    "\n",
    "Reaction specific methods:\n",
    "\n",
    "`remove_reagents` - move reactants to reagents. based on atom-to-atom mapping.\n",
    "`contract_ions` - merge ions in single multicomponent molecule."
   ]
  },
  {
   "cell_type": "code",
   "execution_count": 29,
   "metadata": {},
   "outputs": [
    {
     "data": {
      "image/svg+xml": [
       "<svg width=\"12.32cm\" height=\"2.49cm\" viewBox=\"-0.62 -1.24 12.32 2.49\" xmlns=\"http://www.w3.org/2000/svg\" xmlns:xlink=\"http://www.w3.org/1999/xlink\" version=\"1.1\">\n",
       "  <defs>\n",
       "    <marker id=\"arrow\" markerWidth=\"10\" markerHeight=\"10\" refX=\"0\" refY=\"3\" orient=\"auto\">\n",
       "      <path d=\"M0,0 L0,6 L9,3\"/>\n",
       "    </marker>\n",
       "  </defs>\n",
       "  <line x1=\"5.89\" y1=\"0\" x2=\"7.89\" y2=\"0\" fill=\"none\" stroke=\"black\" stroke-width=\".04\" marker-end=\"url(#arrow)\"/>\n",
       "  <g fill=\"none\" stroke=\"black\" stroke-width=\".04\">\n",
       "    <line x1=\"0.75\" y1=\"0\" x2=\"1.05\" y2=\"0\"/>\n",
       "    <line x1=\"0.90\" y1=\"0.15\" x2=\"0.90\" y2=\"-0.15\"/>\n",
       "    <line x1=\"2.10\" y1=\"0\" x2=\"2.40\" y2=\"0\"/>\n",
       "    <line x1=\"2.25\" y1=\"0.15\" x2=\"2.25\" y2=\"-0.15\"/>\n",
       "  </g>\n",
       "  <g id=\"3a64119f-fefd-420a-b8bc-dd37021f17e7-molecule\">\n",
       "    <defs>\n",
       "      <g id=\"3a64119f-fefd-420a-b8bc-dd37021f17e7-symbols\" font-size=\"0.50\" font-family=\"sans-serif\">\n",
       "        <text id=\"3a64119f-fefd-420a-b8bc-dd37021f17e7-1\" x=\"0.20\" y=\"-0.00\" dx=\"-0.35\" dy=\"0.20\">Na</text>\n",
       "      </g>\n",
       "      <g id=\"3a64119f-fefd-420a-b8bc-dd37021f17e7-attrs\" font-size=\"0.30\" font-family=\"monospace\">\n",
       "        <text x=\"0.20\" y=\"-0.00\" dx=\"0.05\" dy=\"-0.20\">+</text>\n",
       "      </g>\n",
       "      <g id=\"3a64119f-fefd-420a-b8bc-dd37021f17e7-mapping\" font-size=\"0.25\" font-family=\"monospace\" text-anchor=\"end\">\n",
       "        <text x=\"0.20\" y=\"-0.00\" dx=\"-0.30\" dy=\"0.35\">1</text>\n",
       "      </g>\n",
       "    </defs>\n",
       "    <g font-size=\"0.50\" font-family=\"sans-serif\">\n",
       "      <use xlink:href=\"#3a64119f-fefd-420a-b8bc-dd37021f17e7-1\" fill=\"#AB5CF2\"/>\n",
       "    </g>\n",
       "    <use xlink:href=\"#3a64119f-fefd-420a-b8bc-dd37021f17e7-attrs\" fill=\"black\"/>\n",
       "    <use xlink:href=\"#3a64119f-fefd-420a-b8bc-dd37021f17e7-mapping\" fill=\"#0305A7\"/>\n",
       "  </g>\n",
       "  <g id=\"f805c408-13db-4403-ac6c-667d093c22d7-molecule\">\n",
       "    <defs>\n",
       "      <g id=\"f805c408-13db-4403-ac6c-667d093c22d7-symbols\" font-size=\"0.50\" font-family=\"sans-serif\">\n",
       "        <text id=\"f805c408-13db-4403-ac6c-667d093c22d7-2\" x=\"1.40\" y=\"-0.00\" dx=\"-0.20\" dy=\"0.20\">OH</text>\n",
       "      </g>\n",
       "      <g id=\"f805c408-13db-4403-ac6c-667d093c22d7-attrs\" font-size=\"0.30\" font-family=\"monospace\">\n",
       "        <text x=\"1.40\" y=\"-0.00\" dx=\"0.05\" dy=\"-0.20\">-</text>\n",
       "      </g>\n",
       "      <g id=\"f805c408-13db-4403-ac6c-667d093c22d7-mapping\" font-size=\"0.25\" font-family=\"monospace\" text-anchor=\"end\">\n",
       "        <text x=\"1.40\" y=\"-0.00\" dx=\"-0.15\" dy=\"0.35\">2</text>\n",
       "      </g>\n",
       "    </defs>\n",
       "    <g font-size=\"0.50\" font-family=\"sans-serif\">\n",
       "      <use xlink:href=\"#f805c408-13db-4403-ac6c-667d093c22d7-2\" fill=\"#FF0D0D\"/>\n",
       "    </g>\n",
       "    <use xlink:href=\"#f805c408-13db-4403-ac6c-667d093c22d7-attrs\" fill=\"black\"/>\n",
       "    <use xlink:href=\"#f805c408-13db-4403-ac6c-667d093c22d7-mapping\" fill=\"#0305A7\"/>\n",
       "  </g>\n",
       "  <g id=\"6d2e2b5c-1646-4879-97ed-1542a4ef7e0f-molecule\">\n",
       "    <defs>\n",
       "      <g id=\"6d2e2b5c-1646-4879-97ed-1542a4ef7e0f-symbols\" font-size=\"0.50\" font-family=\"sans-serif\">\n",
       "        <text id=\"6d2e2b5c-1646-4879-97ed-1542a4ef7e0f-5\" x=\"4.18\" y=\"-0.62\" dx=\"-0.20\" dy=\"0.20\">O</text>\n",
       "        <text id=\"6d2e2b5c-1646-4879-97ed-1542a4ef7e0f-6\" x=\"2.75\" y=\"-0.62\" dx=\"-0.20\" dy=\"0.20\">O</text>\n",
       "      </g>\n",
       "      <g id=\"6d2e2b5c-1646-4879-97ed-1542a4ef7e0f-mapping\" font-size=\"0.25\" font-family=\"monospace\" text-anchor=\"end\">\n",
       "        <text x=\"4.89\" y=\"-0.21\" dx=\"-0.05\" dy=\"0.20\">7</text>\n",
       "        <text x=\"4.18\" y=\"-0.62\" dx=\"-0.15\" dy=\"0.35\">5</text>\n",
       "        <text x=\"3.46\" y=\"-0.21\" dx=\"-0.05\" dy=\"0.20\">4</text>\n",
       "        <text x=\"3.46\" y=\"0.62\" dx=\"-0.05\" dy=\"0.20\">3</text>\n",
       "        <text x=\"2.75\" y=\"-0.62\" dx=\"-0.15\" dy=\"0.35\">6</text>\n",
       "      </g>\n",
       "      <mask id=\"6d2e2b5c-1646-4879-97ed-1542a4ef7e0f-mask\">\n",
       "        <rect x=\"-0.62\" y=\"-1.24\" width=\"12.32\" height=\"2.49\" fill=\"white\"/>\n",
       "        <g>\n",
       "          <circle cx=\"4.18\" cy=\"-0.62\" r=\"0.20\"/>\n",
       "          <circle cx=\"2.75\" cy=\"-0.62\" r=\"0.20\"/>\n",
       "        </g>\n",
       "        <g stroke=\"black\">\n",
       "          <use xlink:href=\"#6d2e2b5c-1646-4879-97ed-1542a4ef7e0f-symbols\" stroke-width=\"0.05\"/>\n",
       "          <use xlink:href=\"#6d2e2b5c-1646-4879-97ed-1542a4ef7e0f-mapping\" stroke-width=\"0.03\"/>\n",
       "        </g>\n",
       "      </mask>\n",
       "    </defs>\n",
       "    <g fill=\"none\" stroke=\"black\" stroke-width=\"0.04\" mask=\"url(#6d2e2b5c-1646-4879-97ed-1542a4ef7e0f-mask)\">\n",
       "      <line x1=\"4.89\" y1=\"-0.21\" x2=\"4.18\" y2=\"-0.62\"/>\n",
       "      <line x1=\"4.18\" y1=\"-0.62\" x2=\"3.46\" y2=\"-0.21\"/>\n",
       "      <line x1=\"3.46\" y1=\"-0.21\" x2=\"3.46\" y2=\"0.62\"/>\n",
       "      <line x1=\"3.43\" y1=\"-0.15\" x2=\"2.72\" y2=\"-0.57\"/>\n",
       "      <line x1=\"3.49\" y1=\"-0.26\" x2=\"2.78\" y2=\"-0.67\"/>\n",
       "    </g>\n",
       "    <g font-size=\"0.50\" font-family=\"sans-serif\">\n",
       "      <use xlink:href=\"#6d2e2b5c-1646-4879-97ed-1542a4ef7e0f-5\" fill=\"#FF0D0D\"/>\n",
       "      <use xlink:href=\"#6d2e2b5c-1646-4879-97ed-1542a4ef7e0f-6\" fill=\"#FF0D0D\"/>\n",
       "    </g>\n",
       "    <use xlink:href=\"#6d2e2b5c-1646-4879-97ed-1542a4ef7e0f-mapping\" fill=\"#0305A7\"/>\n",
       "  </g>\n",
       "  <g id=\"4dfcfc54-d8d4-436c-a4b8-087e7b3005ed-molecule\">\n",
       "    <defs>\n",
       "      <g id=\"4dfcfc54-d8d4-436c-a4b8-087e7b3005ed-symbols\" font-size=\"0.50\" font-family=\"sans-serif\">\n",
       "        <text id=\"4dfcfc54-d8d4-436c-a4b8-087e7b3005ed-8\" x=\"10.32\" y=\"-0.56\" dx=\"-0.20\" dy=\"0.20\">OH</text>\n",
       "        <text id=\"4dfcfc54-d8d4-436c-a4b8-087e7b3005ed-6\" x=\"8.89\" y=\"0.26\" dx=\"-0.20\" dy=\"0.20\">O</text>\n",
       "      </g>\n",
       "      <g id=\"4dfcfc54-d8d4-436c-a4b8-087e7b3005ed-mapping\" font-size=\"0.25\" font-family=\"monospace\" text-anchor=\"end\">\n",
       "        <text x=\"10.02\" y=\"0.56\" dx=\"-0.05\" dy=\"0.20\">3</text>\n",
       "        <text x=\"9.61\" y=\"-0.15\" dx=\"-0.05\" dy=\"0.20\">4</text>\n",
       "        <text x=\"10.32\" y=\"-0.56\" dx=\"-0.15\" dy=\"0.35\">8</text>\n",
       "        <text x=\"8.89\" y=\"0.26\" dx=\"-0.15\" dy=\"0.35\">6</text>\n",
       "      </g>\n",
       "      <mask id=\"4dfcfc54-d8d4-436c-a4b8-087e7b3005ed-mask\">\n",
       "        <rect x=\"-0.62\" y=\"-1.24\" width=\"12.32\" height=\"2.49\" fill=\"white\"/>\n",
       "        <g>\n",
       "          <circle cx=\"10.32\" cy=\"-0.56\" r=\"0.20\"/>\n",
       "          <circle cx=\"8.89\" cy=\"0.26\" r=\"0.20\"/>\n",
       "        </g>\n",
       "        <g stroke=\"black\">\n",
       "          <use xlink:href=\"#4dfcfc54-d8d4-436c-a4b8-087e7b3005ed-symbols\" stroke-width=\"0.05\"/>\n",
       "          <use xlink:href=\"#4dfcfc54-d8d4-436c-a4b8-087e7b3005ed-mapping\" stroke-width=\"0.03\"/>\n",
       "        </g>\n",
       "      </mask>\n",
       "    </defs>\n",
       "    <g fill=\"none\" stroke=\"black\" stroke-width=\"0.04\" mask=\"url(#4dfcfc54-d8d4-436c-a4b8-087e7b3005ed-mask)\">\n",
       "      <line x1=\"10.02\" y1=\"0.56\" x2=\"9.61\" y2=\"-0.15\"/>\n",
       "      <line x1=\"9.61\" y1=\"-0.15\" x2=\"10.32\" y2=\"-0.56\"/>\n",
       "      <line x1=\"9.64\" y1=\"-0.10\" x2=\"8.92\" y2=\"0.31\"/>\n",
       "      <line x1=\"9.58\" y1=\"-0.20\" x2=\"8.86\" y2=\"0.21\"/>\n",
       "    </g>\n",
       "    <g font-size=\"0.50\" font-family=\"sans-serif\">\n",
       "      <use xlink:href=\"#4dfcfc54-d8d4-436c-a4b8-087e7b3005ed-8\" fill=\"#FF0D0D\"/>\n",
       "      <use xlink:href=\"#4dfcfc54-d8d4-436c-a4b8-087e7b3005ed-6\" fill=\"#FF0D0D\"/>\n",
       "    </g>\n",
       "    <use xlink:href=\"#4dfcfc54-d8d4-436c-a4b8-087e7b3005ed-mapping\" fill=\"#0305A7\"/>\n",
       "  </g>\n",
       "</svg>"
      ],
      "text/plain": [
       "<chython.containers.reaction.ReactionContainer at 0x28e7d2e93a0>"
      ]
     },
     "execution_count": 29,
     "metadata": {},
     "output_type": "execute_result"
    }
   ],
   "source": [
    "r = smiles('[Na+:1].[OH-:2].[CH3:7][O:5][C:4]([CH3:3])=[O:6]>>[CH3:3][C:4]([OH:8])=[O:6]') # mapping required\n",
    "r.clean2d()\n",
    "r"
   ]
  },
  {
   "cell_type": "code",
   "execution_count": 30,
   "metadata": {},
   "outputs": [
    {
     "data": {
      "image/svg+xml": [
       "<svg width=\"12.12cm\" height=\"2.49cm\" viewBox=\"-0.62 -1.24 12.12 2.49\" xmlns=\"http://www.w3.org/2000/svg\" xmlns:xlink=\"http://www.w3.org/1999/xlink\" version=\"1.1\">\n",
       "  <defs>\n",
       "    <marker id=\"arrow\" markerWidth=\"10\" markerHeight=\"10\" refX=\"0\" refY=\"3\" orient=\"auto\">\n",
       "      <path d=\"M0,0 L0,6 L9,3\"/>\n",
       "    </marker>\n",
       "  </defs>\n",
       "  <line x1=\"5.69\" y1=\"0\" x2=\"7.69\" y2=\"0\" fill=\"none\" stroke=\"black\" stroke-width=\".04\" marker-end=\"url(#arrow)\"/>\n",
       "  <g fill=\"none\" stroke=\"black\" stroke-width=\".04\">\n",
       "    <line x1=\"2.69\" y1=\"0\" x2=\"2.99\" y2=\"0\"/>\n",
       "    <line x1=\"2.84\" y1=\"0.15\" x2=\"2.84\" y2=\"-0.15\"/>\n",
       "  </g>\n",
       "  <g id=\"d6f2d90b-4403-4b84-8383-23024e787877-molecule\">\n",
       "    <defs>\n",
       "      <g id=\"d6f2d90b-4403-4b84-8383-23024e787877-symbols\" font-size=\"0.50\" font-family=\"sans-serif\">\n",
       "        <text id=\"d6f2d90b-4403-4b84-8383-23024e787877-5\" x=\"1.43\" y=\"-0.62\" dx=\"-0.20\" dy=\"0.20\">O</text>\n",
       "        <text id=\"d6f2d90b-4403-4b84-8383-23024e787877-6\" x=\"0.00\" y=\"-0.62\" dx=\"-0.20\" dy=\"0.20\">O</text>\n",
       "      </g>\n",
       "      <g id=\"d6f2d90b-4403-4b84-8383-23024e787877-mapping\" font-size=\"0.25\" font-family=\"monospace\" text-anchor=\"end\">\n",
       "        <text x=\"2.14\" y=\"-0.21\" dx=\"-0.05\" dy=\"0.20\">7</text>\n",
       "        <text x=\"1.43\" y=\"-0.62\" dx=\"-0.15\" dy=\"0.35\">5</text>\n",
       "        <text x=\"0.71\" y=\"-0.21\" dx=\"-0.05\" dy=\"0.20\">4</text>\n",
       "        <text x=\"0.71\" y=\"0.62\" dx=\"-0.05\" dy=\"0.20\">3</text>\n",
       "        <text x=\"0.00\" y=\"-0.62\" dx=\"-0.15\" dy=\"0.35\">6</text>\n",
       "      </g>\n",
       "      <mask id=\"d6f2d90b-4403-4b84-8383-23024e787877-mask\">\n",
       "        <rect x=\"-0.62\" y=\"-1.24\" width=\"12.12\" height=\"2.49\" fill=\"white\"/>\n",
       "        <g>\n",
       "          <circle cx=\"1.43\" cy=\"-0.62\" r=\"0.20\"/>\n",
       "          <circle cx=\"0.00\" cy=\"-0.62\" r=\"0.20\"/>\n",
       "        </g>\n",
       "        <g stroke=\"black\">\n",
       "          <use xlink:href=\"#d6f2d90b-4403-4b84-8383-23024e787877-symbols\" stroke-width=\"0.05\"/>\n",
       "          <use xlink:href=\"#d6f2d90b-4403-4b84-8383-23024e787877-mapping\" stroke-width=\"0.03\"/>\n",
       "        </g>\n",
       "      </mask>\n",
       "    </defs>\n",
       "    <g fill=\"none\" stroke=\"black\" stroke-width=\"0.04\" mask=\"url(#d6f2d90b-4403-4b84-8383-23024e787877-mask)\">\n",
       "      <line x1=\"2.14\" y1=\"-0.21\" x2=\"1.43\" y2=\"-0.62\"/>\n",
       "      <line x1=\"1.43\" y1=\"-0.62\" x2=\"0.71\" y2=\"-0.21\"/>\n",
       "      <line x1=\"0.71\" y1=\"-0.21\" x2=\"0.71\" y2=\"0.62\"/>\n",
       "      <line x1=\"0.68\" y1=\"-0.15\" x2=\"-0.03\" y2=\"-0.57\"/>\n",
       "      <line x1=\"0.74\" y1=\"-0.26\" x2=\"0.03\" y2=\"-0.67\"/>\n",
       "    </g>\n",
       "    <g font-size=\"0.50\" font-family=\"sans-serif\">\n",
       "      <use xlink:href=\"#d6f2d90b-4403-4b84-8383-23024e787877-5\" fill=\"#FF0D0D\"/>\n",
       "      <use xlink:href=\"#d6f2d90b-4403-4b84-8383-23024e787877-6\" fill=\"#FF0D0D\"/>\n",
       "    </g>\n",
       "    <use xlink:href=\"#d6f2d90b-4403-4b84-8383-23024e787877-mapping\" fill=\"#0305A7\"/>\n",
       "  </g>\n",
       "  <g id=\"96666a7d-74cf-4b49-90a8-825cdaaed359-molecule\">\n",
       "    <defs>\n",
       "      <g id=\"96666a7d-74cf-4b49-90a8-825cdaaed359-symbols\" font-size=\"0.50\" font-family=\"sans-serif\">\n",
       "        <text id=\"96666a7d-74cf-4b49-90a8-825cdaaed359-1\" x=\"3.54\" y=\"-0.00\" dx=\"-0.35\" dy=\"0.20\">Na</text>\n",
       "        <text id=\"96666a7d-74cf-4b49-90a8-825cdaaed359-2\" x=\"4.54\" y=\"-0.00\" dx=\"-0.20\" dy=\"0.20\">OH</text>\n",
       "      </g>\n",
       "      <g id=\"96666a7d-74cf-4b49-90a8-825cdaaed359-attrs\" font-size=\"0.30\" font-family=\"monospace\">\n",
       "        <text x=\"3.54\" y=\"-0.00\" dx=\"0.05\" dy=\"-0.20\">+</text>\n",
       "        <text x=\"4.54\" y=\"-0.00\" dx=\"0.05\" dy=\"-0.20\">-</text>\n",
       "      </g>\n",
       "      <g id=\"96666a7d-74cf-4b49-90a8-825cdaaed359-mapping\" font-size=\"0.25\" font-family=\"monospace\" text-anchor=\"end\">\n",
       "        <text x=\"3.54\" y=\"-0.00\" dx=\"-0.30\" dy=\"0.35\">1</text>\n",
       "        <text x=\"4.54\" y=\"-0.00\" dx=\"-0.15\" dy=\"0.35\">2</text>\n",
       "      </g>\n",
       "    </defs>\n",
       "    <g font-size=\"0.50\" font-family=\"sans-serif\">\n",
       "      <use xlink:href=\"#96666a7d-74cf-4b49-90a8-825cdaaed359-1\" fill=\"#AB5CF2\"/>\n",
       "      <use xlink:href=\"#96666a7d-74cf-4b49-90a8-825cdaaed359-2\" fill=\"#FF0D0D\"/>\n",
       "    </g>\n",
       "    <use xlink:href=\"#96666a7d-74cf-4b49-90a8-825cdaaed359-attrs\" fill=\"black\"/>\n",
       "    <use xlink:href=\"#96666a7d-74cf-4b49-90a8-825cdaaed359-mapping\" fill=\"#0305A7\"/>\n",
       "  </g>\n",
       "  <g id=\"fc67af86-7392-4ada-be6e-b176c9780606-molecule\">\n",
       "    <defs>\n",
       "      <g id=\"fc67af86-7392-4ada-be6e-b176c9780606-symbols\" font-size=\"0.50\" font-family=\"sans-serif\">\n",
       "        <text id=\"fc67af86-7392-4ada-be6e-b176c9780606-8\" x=\"10.12\" y=\"-0.56\" dx=\"-0.20\" dy=\"0.20\">OH</text>\n",
       "        <text id=\"fc67af86-7392-4ada-be6e-b176c9780606-6\" x=\"8.69\" y=\"0.26\" dx=\"-0.20\" dy=\"0.20\">O</text>\n",
       "      </g>\n",
       "      <g id=\"fc67af86-7392-4ada-be6e-b176c9780606-mapping\" font-size=\"0.25\" font-family=\"monospace\" text-anchor=\"end\">\n",
       "        <text x=\"9.82\" y=\"0.56\" dx=\"-0.05\" dy=\"0.20\">3</text>\n",
       "        <text x=\"9.41\" y=\"-0.15\" dx=\"-0.05\" dy=\"0.20\">4</text>\n",
       "        <text x=\"10.12\" y=\"-0.56\" dx=\"-0.15\" dy=\"0.35\">8</text>\n",
       "        <text x=\"8.69\" y=\"0.26\" dx=\"-0.15\" dy=\"0.35\">6</text>\n",
       "      </g>\n",
       "      <mask id=\"fc67af86-7392-4ada-be6e-b176c9780606-mask\">\n",
       "        <rect x=\"-0.62\" y=\"-1.24\" width=\"12.12\" height=\"2.49\" fill=\"white\"/>\n",
       "        <g>\n",
       "          <circle cx=\"10.12\" cy=\"-0.56\" r=\"0.20\"/>\n",
       "          <circle cx=\"8.69\" cy=\"0.26\" r=\"0.20\"/>\n",
       "        </g>\n",
       "        <g stroke=\"black\">\n",
       "          <use xlink:href=\"#fc67af86-7392-4ada-be6e-b176c9780606-symbols\" stroke-width=\"0.05\"/>\n",
       "          <use xlink:href=\"#fc67af86-7392-4ada-be6e-b176c9780606-mapping\" stroke-width=\"0.03\"/>\n",
       "        </g>\n",
       "      </mask>\n",
       "    </defs>\n",
       "    <g fill=\"none\" stroke=\"black\" stroke-width=\"0.04\" mask=\"url(#fc67af86-7392-4ada-be6e-b176c9780606-mask)\">\n",
       "      <line x1=\"9.82\" y1=\"0.56\" x2=\"9.41\" y2=\"-0.15\"/>\n",
       "      <line x1=\"9.41\" y1=\"-0.15\" x2=\"10.12\" y2=\"-0.56\"/>\n",
       "      <line x1=\"9.44\" y1=\"-0.10\" x2=\"8.72\" y2=\"0.31\"/>\n",
       "      <line x1=\"9.38\" y1=\"-0.20\" x2=\"8.66\" y2=\"0.21\"/>\n",
       "    </g>\n",
       "    <g font-size=\"0.50\" font-family=\"sans-serif\">\n",
       "      <use xlink:href=\"#fc67af86-7392-4ada-be6e-b176c9780606-8\" fill=\"#FF0D0D\"/>\n",
       "      <use xlink:href=\"#fc67af86-7392-4ada-be6e-b176c9780606-6\" fill=\"#FF0D0D\"/>\n",
       "    </g>\n",
       "    <use xlink:href=\"#fc67af86-7392-4ada-be6e-b176c9780606-mapping\" fill=\"#0305A7\"/>\n",
       "  </g>\n",
       "</svg>"
      ],
      "text/plain": [
       "<chython.containers.reaction.ReactionContainer at 0x28e7d2e93a0>"
      ]
     },
     "execution_count": 30,
     "metadata": {},
     "output_type": "execute_result"
    }
   ],
   "source": [
    "r.contract_ions()\n",
    "r"
   ]
  },
  {
   "cell_type": "code",
   "execution_count": 31,
   "metadata": {},
   "outputs": [
    {
     "data": {
      "image/svg+xml": [
       "<svg width=\"9.57cm\" height=\"2.49cm\" viewBox=\"-0.62 -1.24 9.57 2.49\" xmlns=\"http://www.w3.org/2000/svg\" xmlns:xlink=\"http://www.w3.org/1999/xlink\" version=\"1.1\">\n",
       "  <defs>\n",
       "    <marker id=\"arrow\" markerWidth=\"10\" markerHeight=\"10\" refX=\"0\" refY=\"3\" orient=\"auto\">\n",
       "      <path d=\"M0,0 L0,6 L9,3\"/>\n",
       "    </marker>\n",
       "  </defs>\n",
       "  <line x1=\"3.14\" y1=\"0\" x2=\"5.14\" y2=\"0\" fill=\"none\" stroke=\"black\" stroke-width=\".04\" marker-end=\"url(#arrow)\"/>\n",
       "  <g id=\"50090f81-b196-453f-9f3c-cd0776481eed-molecule\">\n",
       "    <defs>\n",
       "      <g id=\"50090f81-b196-453f-9f3c-cd0776481eed-symbols\" font-size=\"0.50\" font-family=\"sans-serif\">\n",
       "        <text id=\"50090f81-b196-453f-9f3c-cd0776481eed-5\" x=\"1.43\" y=\"-0.62\" dx=\"-0.20\" dy=\"0.20\">O</text>\n",
       "        <text id=\"50090f81-b196-453f-9f3c-cd0776481eed-6\" x=\"0.00\" y=\"-0.62\" dx=\"-0.20\" dy=\"0.20\">O</text>\n",
       "      </g>\n",
       "      <g id=\"50090f81-b196-453f-9f3c-cd0776481eed-mapping\" font-size=\"0.25\" font-family=\"monospace\" text-anchor=\"end\">\n",
       "        <text x=\"2.14\" y=\"-0.21\" dx=\"-0.05\" dy=\"0.20\">7</text>\n",
       "        <text x=\"1.43\" y=\"-0.62\" dx=\"-0.15\" dy=\"0.35\">5</text>\n",
       "        <text x=\"0.71\" y=\"-0.21\" dx=\"-0.05\" dy=\"0.20\">4</text>\n",
       "        <text x=\"0.71\" y=\"0.62\" dx=\"-0.05\" dy=\"0.20\">3</text>\n",
       "        <text x=\"0.00\" y=\"-0.62\" dx=\"-0.15\" dy=\"0.35\">6</text>\n",
       "      </g>\n",
       "      <mask id=\"50090f81-b196-453f-9f3c-cd0776481eed-mask\">\n",
       "        <rect x=\"-0.62\" y=\"-1.24\" width=\"9.57\" height=\"2.49\" fill=\"white\"/>\n",
       "        <g>\n",
       "          <circle cx=\"1.43\" cy=\"-0.62\" r=\"0.20\"/>\n",
       "          <circle cx=\"0.00\" cy=\"-0.62\" r=\"0.20\"/>\n",
       "        </g>\n",
       "        <g stroke=\"black\">\n",
       "          <use xlink:href=\"#50090f81-b196-453f-9f3c-cd0776481eed-symbols\" stroke-width=\"0.05\"/>\n",
       "          <use xlink:href=\"#50090f81-b196-453f-9f3c-cd0776481eed-mapping\" stroke-width=\"0.03\"/>\n",
       "        </g>\n",
       "      </mask>\n",
       "    </defs>\n",
       "    <g fill=\"none\" stroke=\"black\" stroke-width=\"0.04\" mask=\"url(#50090f81-b196-453f-9f3c-cd0776481eed-mask)\">\n",
       "      <line x1=\"2.14\" y1=\"-0.21\" x2=\"1.43\" y2=\"-0.62\"/>\n",
       "      <line x1=\"1.43\" y1=\"-0.62\" x2=\"0.71\" y2=\"-0.21\"/>\n",
       "      <line x1=\"0.71\" y1=\"-0.21\" x2=\"0.71\" y2=\"0.62\"/>\n",
       "      <line x1=\"0.68\" y1=\"-0.15\" x2=\"-0.03\" y2=\"-0.57\"/>\n",
       "      <line x1=\"0.74\" y1=\"-0.26\" x2=\"0.03\" y2=\"-0.67\"/>\n",
       "    </g>\n",
       "    <g font-size=\"0.50\" font-family=\"sans-serif\">\n",
       "      <use xlink:href=\"#50090f81-b196-453f-9f3c-cd0776481eed-5\" fill=\"#FF0D0D\"/>\n",
       "      <use xlink:href=\"#50090f81-b196-453f-9f3c-cd0776481eed-6\" fill=\"#FF0D0D\"/>\n",
       "    </g>\n",
       "    <use xlink:href=\"#50090f81-b196-453f-9f3c-cd0776481eed-mapping\" fill=\"#0305A7\"/>\n",
       "  </g>\n",
       "  <g id=\"667139d1-0ee1-4279-b155-f6aff21b6a36-molecule\">\n",
       "    <defs>\n",
       "      <g id=\"667139d1-0ee1-4279-b155-f6aff21b6a36-symbols\" font-size=\"0.50\" font-family=\"sans-serif\">\n",
       "        <text id=\"667139d1-0ee1-4279-b155-f6aff21b6a36-1\" x=\"3.54\" y=\"-0.50\" dx=\"-0.35\" dy=\"0.20\">Na</text>\n",
       "        <text id=\"667139d1-0ee1-4279-b155-f6aff21b6a36-2\" x=\"4.54\" y=\"-0.50\" dx=\"-0.20\" dy=\"0.20\">OH</text>\n",
       "      </g>\n",
       "      <g id=\"667139d1-0ee1-4279-b155-f6aff21b6a36-attrs\" font-size=\"0.30\" font-family=\"monospace\">\n",
       "        <text x=\"3.54\" y=\"-0.50\" dx=\"0.05\" dy=\"-0.20\">+</text>\n",
       "        <text x=\"4.54\" y=\"-0.50\" dx=\"0.05\" dy=\"-0.20\">-</text>\n",
       "      </g>\n",
       "      <g id=\"667139d1-0ee1-4279-b155-f6aff21b6a36-mapping\" font-size=\"0.25\" font-family=\"monospace\" text-anchor=\"end\">\n",
       "        <text x=\"3.54\" y=\"-0.50\" dx=\"-0.30\" dy=\"0.35\">1</text>\n",
       "        <text x=\"4.54\" y=\"-0.50\" dx=\"-0.15\" dy=\"0.35\">2</text>\n",
       "      </g>\n",
       "    </defs>\n",
       "    <g font-size=\"0.50\" font-family=\"sans-serif\">\n",
       "      <use xlink:href=\"#667139d1-0ee1-4279-b155-f6aff21b6a36-1\" fill=\"#AB5CF2\"/>\n",
       "      <use xlink:href=\"#667139d1-0ee1-4279-b155-f6aff21b6a36-2\" fill=\"#FF0D0D\"/>\n",
       "    </g>\n",
       "    <use xlink:href=\"#667139d1-0ee1-4279-b155-f6aff21b6a36-attrs\" fill=\"black\"/>\n",
       "    <use xlink:href=\"#667139d1-0ee1-4279-b155-f6aff21b6a36-mapping\" fill=\"#0305A7\"/>\n",
       "  </g>\n",
       "  <g id=\"58bdfb02-a06b-4914-a68d-46cc2bad45d6-molecule\">\n",
       "    <defs>\n",
       "      <g id=\"58bdfb02-a06b-4914-a68d-46cc2bad45d6-symbols\" font-size=\"0.50\" font-family=\"sans-serif\">\n",
       "        <text id=\"58bdfb02-a06b-4914-a68d-46cc2bad45d6-8\" x=\"7.57\" y=\"-0.56\" dx=\"-0.20\" dy=\"0.20\">OH</text>\n",
       "        <text id=\"58bdfb02-a06b-4914-a68d-46cc2bad45d6-6\" x=\"6.14\" y=\"0.26\" dx=\"-0.20\" dy=\"0.20\">O</text>\n",
       "      </g>\n",
       "      <g id=\"58bdfb02-a06b-4914-a68d-46cc2bad45d6-mapping\" font-size=\"0.25\" font-family=\"monospace\" text-anchor=\"end\">\n",
       "        <text x=\"7.27\" y=\"0.56\" dx=\"-0.05\" dy=\"0.20\">3</text>\n",
       "        <text x=\"6.86\" y=\"-0.15\" dx=\"-0.05\" dy=\"0.20\">4</text>\n",
       "        <text x=\"7.57\" y=\"-0.56\" dx=\"-0.15\" dy=\"0.35\">8</text>\n",
       "        <text x=\"6.14\" y=\"0.26\" dx=\"-0.15\" dy=\"0.35\">6</text>\n",
       "      </g>\n",
       "      <mask id=\"58bdfb02-a06b-4914-a68d-46cc2bad45d6-mask\">\n",
       "        <rect x=\"-0.62\" y=\"-1.24\" width=\"9.57\" height=\"2.49\" fill=\"white\"/>\n",
       "        <g>\n",
       "          <circle cx=\"7.57\" cy=\"-0.56\" r=\"0.20\"/>\n",
       "          <circle cx=\"6.14\" cy=\"0.26\" r=\"0.20\"/>\n",
       "        </g>\n",
       "        <g stroke=\"black\">\n",
       "          <use xlink:href=\"#58bdfb02-a06b-4914-a68d-46cc2bad45d6-symbols\" stroke-width=\"0.05\"/>\n",
       "          <use xlink:href=\"#58bdfb02-a06b-4914-a68d-46cc2bad45d6-mapping\" stroke-width=\"0.03\"/>\n",
       "        </g>\n",
       "      </mask>\n",
       "    </defs>\n",
       "    <g fill=\"none\" stroke=\"black\" stroke-width=\"0.04\" mask=\"url(#58bdfb02-a06b-4914-a68d-46cc2bad45d6-mask)\">\n",
       "      <line x1=\"7.27\" y1=\"0.56\" x2=\"6.86\" y2=\"-0.15\"/>\n",
       "      <line x1=\"6.86\" y1=\"-0.15\" x2=\"7.57\" y2=\"-0.56\"/>\n",
       "      <line x1=\"6.89\" y1=\"-0.10\" x2=\"6.17\" y2=\"0.31\"/>\n",
       "      <line x1=\"6.83\" y1=\"-0.20\" x2=\"6.11\" y2=\"0.21\"/>\n",
       "    </g>\n",
       "    <g font-size=\"0.50\" font-family=\"sans-serif\">\n",
       "      <use xlink:href=\"#58bdfb02-a06b-4914-a68d-46cc2bad45d6-8\" fill=\"#FF0D0D\"/>\n",
       "      <use xlink:href=\"#58bdfb02-a06b-4914-a68d-46cc2bad45d6-6\" fill=\"#FF0D0D\"/>\n",
       "    </g>\n",
       "    <use xlink:href=\"#58bdfb02-a06b-4914-a68d-46cc2bad45d6-mapping\" fill=\"#0305A7\"/>\n",
       "  </g>\n",
       "</svg>"
      ],
      "text/plain": [
       "<chython.containers.reaction.ReactionContainer at 0x28e7d2e93a0>"
      ]
     },
     "execution_count": 31,
     "metadata": {},
     "output_type": "execute_result"
    }
   ],
   "source": [
    "r.remove_reagents(keep_reagents=True)\n",
    "r"
   ]
  },
  {
   "cell_type": "code",
   "execution_count": 32,
   "metadata": {},
   "outputs": [
    {
     "data": {
      "image/svg+xml": [
       "<svg width=\"12.87cm\" height=\"3.50cm\" viewBox=\"-0.62 -1.75 12.87 3.50\" xmlns=\"http://www.w3.org/2000/svg\" xmlns:xlink=\"http://www.w3.org/1999/xlink\" version=\"1.1\">\n",
       "  <defs>\n",
       "    <marker id=\"arrow\" markerWidth=\"10\" markerHeight=\"10\" refX=\"0\" refY=\"3\" orient=\"auto\">\n",
       "      <path d=\"M0,0 L0,6 L9,3\"/>\n",
       "    </marker>\n",
       "  </defs>\n",
       "  <line x1=\"4.60\" y1=\"0\" x2=\"7.02\" y2=\"0\" fill=\"none\" stroke=\"black\" stroke-width=\".04\" marker-end=\"url(#arrow)\"/>\n",
       "  <g id=\"1bd0f779-1dae-44d6-b578-5c28b1af1c56-molecule\">\n",
       "    <defs>\n",
       "      <g id=\"1bd0f779-1dae-44d6-b578-5c28b1af1c56-symbols\" font-size=\"0.50\" font-family=\"sans-serif\">\n",
       "        <text id=\"1bd0f779-1dae-44d6-b578-5c28b1af1c56-5\" x=\"2.06\" y=\"0.41\" dx=\"-0.20\" dy=\"0.20\">O</text>\n",
       "        <text id=\"1bd0f779-1dae-44d6-b578-5c28b1af1c56-6\" x=\"2.06\" y=\"-1.02\" dx=\"-0.20\" dy=\"0.20\">O</text>\n",
       "        <text id=\"1bd0f779-1dae-44d6-b578-5c28b1af1c56-9\" x=\"3.30\" y=\"1.13\" dx=\"-0.20\" dy=\"0.20\">H</text>\n",
       "        <text id=\"1bd0f779-1dae-44d6-b578-5c28b1af1c56-10\" x=\"2.89\" y=\"-0.41\" dx=\"-0.20\" dy=\"0.20\">H</text>\n",
       "        <text id=\"1bd0f779-1dae-44d6-b578-5c28b1af1c56-11\" x=\"3.60\" y=\"0.00\" dx=\"-0.20\" dy=\"0.20\">H</text>\n",
       "        <text id=\"1bd0f779-1dae-44d6-b578-5c28b1af1c56-12\" x=\"0.82\" y=\"0.52\" dx=\"-0.20\" dy=\"0.20\">H</text>\n",
       "        <text id=\"1bd0f779-1dae-44d6-b578-5c28b1af1c56-13\" x=\"0.00\" y=\"-0.30\" dx=\"-0.20\" dy=\"0.20\">H</text>\n",
       "        <text id=\"1bd0f779-1dae-44d6-b578-5c28b1af1c56-14\" x=\"0.83\" y=\"-1.13\" dx=\"-0.20\" dy=\"0.20\">H</text>\n",
       "      </g>\n",
       "      <g id=\"1bd0f779-1dae-44d6-b578-5c28b1af1c56-mapping\" font-size=\"0.25\" font-family=\"monospace\" text-anchor=\"end\">\n",
       "        <text x=\"2.89\" y=\"0.41\" dx=\"-0.05\" dy=\"0.20\">7</text>\n",
       "        <text x=\"2.06\" y=\"0.41\" dx=\"-0.15\" dy=\"0.35\">5</text>\n",
       "        <text x=\"1.65\" y=\"-0.30\" dx=\"-0.05\" dy=\"0.20\">4</text>\n",
       "        <text x=\"0.82\" y=\"-0.30\" dx=\"-0.05\" dy=\"0.20\">3</text>\n",
       "        <text x=\"2.06\" y=\"-1.02\" dx=\"-0.15\" dy=\"0.35\">6</text>\n",
       "        <text x=\"3.30\" y=\"1.13\" dx=\"-0.15\" dy=\"0.35\">9</text>\n",
       "        <text x=\"2.89\" y=\"-0.41\" dx=\"-0.15\" dy=\"0.35\">10</text>\n",
       "        <text x=\"3.60\" y=\"0.00\" dx=\"-0.15\" dy=\"0.35\">11</text>\n",
       "        <text x=\"0.82\" y=\"0.52\" dx=\"-0.15\" dy=\"0.35\">12</text>\n",
       "        <text x=\"0.00\" y=\"-0.30\" dx=\"-0.15\" dy=\"0.35\">13</text>\n",
       "        <text x=\"0.83\" y=\"-1.13\" dx=\"-0.15\" dy=\"0.35\">14</text>\n",
       "      </g>\n",
       "      <mask id=\"1bd0f779-1dae-44d6-b578-5c28b1af1c56-mask\">\n",
       "        <rect x=\"-0.62\" y=\"-1.75\" width=\"12.87\" height=\"3.50\" fill=\"white\"/>\n",
       "        <g>\n",
       "          <circle cx=\"2.06\" cy=\"0.41\" r=\"0.20\"/>\n",
       "          <circle cx=\"2.06\" cy=\"-1.02\" r=\"0.20\"/>\n",
       "          <circle cx=\"3.30\" cy=\"1.13\" r=\"0.20\"/>\n",
       "          <circle cx=\"2.89\" cy=\"-0.41\" r=\"0.20\"/>\n",
       "          <circle cx=\"3.60\" cy=\"0.00\" r=\"0.20\"/>\n",
       "          <circle cx=\"0.82\" cy=\"0.52\" r=\"0.20\"/>\n",
       "          <circle cx=\"0.00\" cy=\"-0.30\" r=\"0.20\"/>\n",
       "          <circle cx=\"0.83\" cy=\"-1.13\" r=\"0.20\"/>\n",
       "        </g>\n",
       "        <g stroke=\"black\">\n",
       "          <use xlink:href=\"#1bd0f779-1dae-44d6-b578-5c28b1af1c56-symbols\" stroke-width=\"0.05\"/>\n",
       "          <use xlink:href=\"#1bd0f779-1dae-44d6-b578-5c28b1af1c56-mapping\" stroke-width=\"0.03\"/>\n",
       "        </g>\n",
       "      </mask>\n",
       "    </defs>\n",
       "    <g fill=\"none\" stroke=\"black\" stroke-width=\"0.04\" mask=\"url(#1bd0f779-1dae-44d6-b578-5c28b1af1c56-mask)\">\n",
       "      <line x1=\"2.89\" y1=\"0.41\" x2=\"2.06\" y2=\"0.41\"/>\n",
       "      <line x1=\"2.89\" y1=\"0.41\" x2=\"3.30\" y2=\"1.13\"/>\n",
       "      <line x1=\"2.89\" y1=\"0.41\" x2=\"2.89\" y2=\"-0.41\"/>\n",
       "      <line x1=\"2.89\" y1=\"0.41\" x2=\"3.60\" y2=\"0.00\"/>\n",
       "      <line x1=\"2.06\" y1=\"0.41\" x2=\"1.65\" y2=\"-0.30\"/>\n",
       "      <line x1=\"1.65\" y1=\"-0.30\" x2=\"0.82\" y2=\"-0.30\"/>\n",
       "      <line x1=\"1.60\" y1=\"-0.33\" x2=\"2.01\" y2=\"-1.05\"/>\n",
       "      <line x1=\"1.70\" y1=\"-0.27\" x2=\"2.11\" y2=\"-0.99\"/>\n",
       "      <line x1=\"0.82\" y1=\"-0.30\" x2=\"0.82\" y2=\"0.52\"/>\n",
       "      <line x1=\"0.82\" y1=\"-0.30\" x2=\"0.00\" y2=\"-0.30\"/>\n",
       "      <line x1=\"0.82\" y1=\"-0.30\" x2=\"0.83\" y2=\"-1.13\"/>\n",
       "    </g>\n",
       "    <g font-size=\"0.50\" font-family=\"sans-serif\">\n",
       "      <use xlink:href=\"#1bd0f779-1dae-44d6-b578-5c28b1af1c56-5\" fill=\"#FF0D0D\"/>\n",
       "      <use xlink:href=\"#1bd0f779-1dae-44d6-b578-5c28b1af1c56-6\" fill=\"#FF0D0D\"/>\n",
       "      <use xlink:href=\"#1bd0f779-1dae-44d6-b578-5c28b1af1c56-9\" fill=\"#909090\"/>\n",
       "      <use xlink:href=\"#1bd0f779-1dae-44d6-b578-5c28b1af1c56-10\" fill=\"#909090\"/>\n",
       "      <use xlink:href=\"#1bd0f779-1dae-44d6-b578-5c28b1af1c56-11\" fill=\"#909090\"/>\n",
       "      <use xlink:href=\"#1bd0f779-1dae-44d6-b578-5c28b1af1c56-12\" fill=\"#909090\"/>\n",
       "      <use xlink:href=\"#1bd0f779-1dae-44d6-b578-5c28b1af1c56-13\" fill=\"#909090\"/>\n",
       "      <use xlink:href=\"#1bd0f779-1dae-44d6-b578-5c28b1af1c56-14\" fill=\"#909090\"/>\n",
       "    </g>\n",
       "    <use xlink:href=\"#1bd0f779-1dae-44d6-b578-5c28b1af1c56-mapping\" fill=\"#0305A7\"/>\n",
       "  </g>\n",
       "  <g id=\"49eda541-ceca-4514-a2b7-b0c64ef504cd-molecule\">\n",
       "    <defs>\n",
       "      <g id=\"49eda541-ceca-4514-a2b7-b0c64ef504cd-symbols\" font-size=\"0.50\" font-family=\"sans-serif\">\n",
       "        <text id=\"49eda541-ceca-4514-a2b7-b0c64ef504cd-1\" x=\"5.00\" y=\"-0.71\" dx=\"-0.35\" dy=\"0.20\">Na</text>\n",
       "        <text id=\"49eda541-ceca-4514-a2b7-b0c64ef504cd-2\" x=\"6.62\" y=\"-0.91\" dx=\"-0.20\" dy=\"0.20\">O</text>\n",
       "        <text id=\"49eda541-ceca-4514-a2b7-b0c64ef504cd-15\" x=\"5.90\" y=\"-0.50\" dx=\"-0.20\" dy=\"0.20\">H</text>\n",
       "      </g>\n",
       "      <g id=\"49eda541-ceca-4514-a2b7-b0c64ef504cd-attrs\" font-size=\"0.30\" font-family=\"monospace\">\n",
       "        <text x=\"5.00\" y=\"-0.71\" dx=\"0.05\" dy=\"-0.20\">+</text>\n",
       "        <text x=\"6.62\" y=\"-0.91\" dx=\"0.05\" dy=\"-0.20\">-</text>\n",
       "      </g>\n",
       "      <g id=\"49eda541-ceca-4514-a2b7-b0c64ef504cd-mapping\" font-size=\"0.25\" font-family=\"monospace\" text-anchor=\"end\">\n",
       "        <text x=\"5.00\" y=\"-0.71\" dx=\"-0.30\" dy=\"0.35\">1</text>\n",
       "        <text x=\"6.62\" y=\"-0.91\" dx=\"-0.15\" dy=\"0.35\">2</text>\n",
       "        <text x=\"5.90\" y=\"-0.50\" dx=\"-0.15\" dy=\"0.35\">15</text>\n",
       "      </g>\n",
       "      <mask id=\"49eda541-ceca-4514-a2b7-b0c64ef504cd-mask\">\n",
       "        <rect x=\"-0.62\" y=\"-1.75\" width=\"12.87\" height=\"3.50\" fill=\"white\"/>\n",
       "        <g>\n",
       "          <ellipse cx=\"4.93\" cy=\"-0.71\" rx=\"0.35\" ry=\"0.2\"/>\n",
       "          <circle cx=\"6.62\" cy=\"-0.91\" r=\"0.20\"/>\n",
       "          <circle cx=\"5.90\" cy=\"-0.50\" r=\"0.20\"/>\n",
       "        </g>\n",
       "        <g stroke=\"black\">\n",
       "          <use xlink:href=\"#49eda541-ceca-4514-a2b7-b0c64ef504cd-symbols\" stroke-width=\"0.05\"/>\n",
       "          <use xlink:href=\"#49eda541-ceca-4514-a2b7-b0c64ef504cd-attrs\" stroke-width=\"0.03\"/>\n",
       "          <use xlink:href=\"#49eda541-ceca-4514-a2b7-b0c64ef504cd-mapping\" stroke-width=\"0.03\"/>\n",
       "        </g>\n",
       "      </mask>\n",
       "    </defs>\n",
       "    <g fill=\"none\" stroke=\"black\" stroke-width=\"0.04\" mask=\"url(#49eda541-ceca-4514-a2b7-b0c64ef504cd-mask)\">\n",
       "      <line x1=\"-0.62\" y1=\"-1.75\" x2=\"12.25\" y2=\"-1.75\" stroke=\"none\"/>\n",
       "      <line x1=\"6.62\" y1=\"-0.91\" x2=\"5.90\" y2=\"-0.50\"/>\n",
       "    </g>\n",
       "    <g font-size=\"0.50\" font-family=\"sans-serif\">\n",
       "      <use xlink:href=\"#49eda541-ceca-4514-a2b7-b0c64ef504cd-1\" fill=\"#AB5CF2\"/>\n",
       "      <use xlink:href=\"#49eda541-ceca-4514-a2b7-b0c64ef504cd-2\" fill=\"#FF0D0D\"/>\n",
       "      <use xlink:href=\"#49eda541-ceca-4514-a2b7-b0c64ef504cd-15\" fill=\"#909090\"/>\n",
       "    </g>\n",
       "    <use xlink:href=\"#49eda541-ceca-4514-a2b7-b0c64ef504cd-attrs\" fill=\"black\"/>\n",
       "    <use xlink:href=\"#49eda541-ceca-4514-a2b7-b0c64ef504cd-mapping\" fill=\"#0305A7\"/>\n",
       "  </g>\n",
       "  <g id=\"32d11ab3-3efd-44c8-abd2-a65774c12706-molecule\">\n",
       "    <defs>\n",
       "      <g id=\"32d11ab3-3efd-44c8-abd2-a65774c12706-symbols\" font-size=\"0.50\" font-family=\"sans-serif\">\n",
       "        <text id=\"32d11ab3-3efd-44c8-abd2-a65774c12706-8\" x=\"8.73\" y=\"0.26\" dx=\"-0.20\" dy=\"0.20\">O</text>\n",
       "        <text id=\"32d11ab3-3efd-44c8-abd2-a65774c12706-6\" x=\"9.45\" y=\"-0.98\" dx=\"-0.20\" dy=\"0.20\">O</text>\n",
       "        <text id=\"32d11ab3-3efd-44c8-abd2-a65774c12706-14\" x=\"9.75\" y=\"0.98\" dx=\"-0.20\" dy=\"0.20\">H</text>\n",
       "        <text id=\"32d11ab3-3efd-44c8-abd2-a65774c12706-13\" x=\"10.57\" y=\"-0.45\" dx=\"-0.20\" dy=\"0.20\">H</text>\n",
       "        <text id=\"32d11ab3-3efd-44c8-abd2-a65774c12706-12\" x=\"10.87\" y=\"0.67\" dx=\"-0.20\" dy=\"0.20\">H</text>\n",
       "        <text id=\"32d11ab3-3efd-44c8-abd2-a65774c12706-16\" x=\"8.02\" y=\"-0.15\" dx=\"-0.20\" dy=\"0.20\">H</text>\n",
       "      </g>\n",
       "      <g id=\"32d11ab3-3efd-44c8-abd2-a65774c12706-mapping\" font-size=\"0.25\" font-family=\"monospace\" text-anchor=\"end\">\n",
       "        <text x=\"10.16\" y=\"0.26\" dx=\"-0.05\" dy=\"0.20\">3</text>\n",
       "        <text x=\"9.45\" y=\"-0.15\" dx=\"-0.05\" dy=\"0.20\">4</text>\n",
       "        <text x=\"8.73\" y=\"0.26\" dx=\"-0.15\" dy=\"0.35\">8</text>\n",
       "        <text x=\"9.45\" y=\"-0.98\" dx=\"-0.15\" dy=\"0.35\">6</text>\n",
       "        <text x=\"9.75\" y=\"0.98\" dx=\"-0.15\" dy=\"0.35\">14</text>\n",
       "        <text x=\"10.57\" y=\"-0.45\" dx=\"-0.15\" dy=\"0.35\">13</text>\n",
       "        <text x=\"10.87\" y=\"0.67\" dx=\"-0.15\" dy=\"0.35\">12</text>\n",
       "        <text x=\"8.02\" y=\"-0.15\" dx=\"-0.15\" dy=\"0.35\">16</text>\n",
       "      </g>\n",
       "      <mask id=\"32d11ab3-3efd-44c8-abd2-a65774c12706-mask\">\n",
       "        <rect x=\"-0.62\" y=\"-1.75\" width=\"12.87\" height=\"3.50\" fill=\"white\"/>\n",
       "        <g>\n",
       "          <circle cx=\"8.73\" cy=\"0.26\" r=\"0.20\"/>\n",
       "          <circle cx=\"9.45\" cy=\"-0.98\" r=\"0.20\"/>\n",
       "          <circle cx=\"9.75\" cy=\"0.98\" r=\"0.20\"/>\n",
       "          <circle cx=\"10.57\" cy=\"-0.45\" r=\"0.20\"/>\n",
       "          <circle cx=\"10.87\" cy=\"0.67\" r=\"0.20\"/>\n",
       "          <circle cx=\"8.02\" cy=\"-0.15\" r=\"0.20\"/>\n",
       "        </g>\n",
       "        <g stroke=\"black\">\n",
       "          <use xlink:href=\"#32d11ab3-3efd-44c8-abd2-a65774c12706-symbols\" stroke-width=\"0.05\"/>\n",
       "          <use xlink:href=\"#32d11ab3-3efd-44c8-abd2-a65774c12706-mapping\" stroke-width=\"0.03\"/>\n",
       "        </g>\n",
       "      </mask>\n",
       "    </defs>\n",
       "    <g fill=\"none\" stroke=\"black\" stroke-width=\"0.04\" mask=\"url(#32d11ab3-3efd-44c8-abd2-a65774c12706-mask)\">\n",
       "      <line x1=\"10.16\" y1=\"0.26\" x2=\"9.45\" y2=\"-0.15\"/>\n",
       "      <line x1=\"10.16\" y1=\"0.26\" x2=\"9.75\" y2=\"0.98\"/>\n",
       "      <line x1=\"10.16\" y1=\"0.26\" x2=\"10.57\" y2=\"-0.45\"/>\n",
       "      <line x1=\"10.16\" y1=\"0.26\" x2=\"10.87\" y2=\"0.67\"/>\n",
       "      <line x1=\"9.45\" y1=\"-0.15\" x2=\"8.73\" y2=\"0.26\"/>\n",
       "      <line x1=\"9.39\" y1=\"-0.15\" x2=\"9.39\" y2=\"-0.98\"/>\n",
       "      <line x1=\"9.51\" y1=\"-0.15\" x2=\"9.51\" y2=\"-0.98\"/>\n",
       "      <line x1=\"8.73\" y1=\"0.26\" x2=\"8.02\" y2=\"-0.15\"/>\n",
       "    </g>\n",
       "    <g font-size=\"0.50\" font-family=\"sans-serif\">\n",
       "      <use xlink:href=\"#32d11ab3-3efd-44c8-abd2-a65774c12706-8\" fill=\"#FF0D0D\"/>\n",
       "      <use xlink:href=\"#32d11ab3-3efd-44c8-abd2-a65774c12706-6\" fill=\"#FF0D0D\"/>\n",
       "      <use xlink:href=\"#32d11ab3-3efd-44c8-abd2-a65774c12706-14\" fill=\"#909090\"/>\n",
       "      <use xlink:href=\"#32d11ab3-3efd-44c8-abd2-a65774c12706-13\" fill=\"#909090\"/>\n",
       "      <use xlink:href=\"#32d11ab3-3efd-44c8-abd2-a65774c12706-12\" fill=\"#909090\"/>\n",
       "      <use xlink:href=\"#32d11ab3-3efd-44c8-abd2-a65774c12706-16\" fill=\"#909090\"/>\n",
       "    </g>\n",
       "    <use xlink:href=\"#32d11ab3-3efd-44c8-abd2-a65774c12706-mapping\" fill=\"#0305A7\"/>\n",
       "  </g>\n",
       "</svg>"
      ],
      "text/plain": [
       "<chython.containers.reaction.ReactionContainer at 0x28e7d2e93a0>"
      ]
     },
     "execution_count": 32,
     "metadata": {},
     "output_type": "execute_result"
    }
   ],
   "source": [
    "r.explicify_hydrogens()\n",
    "r.clean2d()\n",
    "r"
   ]
  },
  {
   "cell_type": "markdown",
   "metadata": {
    "pycharm": {
     "name": "#%% md\n"
    }
   },
   "source": [
    "# 4. Isomorphism\n",
    "\n",
    "## 4.1. Molecules Isomorphism\n",
    "\n",
    "Chython has simple substructure/structure isomorphism API.\n",
    "\n",
    "Note, that atoms are matched in subgraph isomorphism only if they have same charge/multiplicity and isotope options."
   ]
  },
  {
   "cell_type": "code",
   "execution_count": 33,
   "metadata": {
    "pycharm": {
     "name": "#%%\n"
    }
   },
   "outputs": [
    {
     "name": "stdout",
     "output_type": "stream",
     "text": [
      "True\n",
      "False\n",
      "True\n",
      "False\n",
      "False\n",
      "True\n"
     ]
    }
   ],
   "source": [
    "benzene = smiles('c1ccccc1')\n",
    "toluene = smiles('c1ccccc1C')\n",
    "# isomorphism operations\n",
    "print(benzene < toluene)  # benzene is substructure of toluene\n",
    "print(benzene > toluene)  # benzene is not superstructure of toluene\n",
    "print(benzene <= toluene) # benzene is substructure/or same structure of toluene\n",
    "print(benzene >= toluene) # benzene is not superstructure/or same structure of toluene\n",
    "print(benzene < benzene) # benzene is not substructure of benzene. it's equal\n",
    "print(benzene <= benzene)"
   ]
  },
  {
   "cell_type": "markdown",
   "metadata": {
    "pycharm": {
     "name": "#%% md\n"
    }
   },
   "source": [
    "Mappings of substructure or structure to structure can be returned using `substructure.get_mapping(structure)` method. Method acts as generator."
   ]
  },
  {
   "cell_type": "code",
   "execution_count": 34,
   "metadata": {
    "pycharm": {
     "name": "#%%\n"
    }
   },
   "outputs": [
    {
     "data": {
      "text/plain": [
       "{1: 6, 6: 1, 5: 2, 4: 3, 3: 4, 2: 5}"
      ]
     },
     "execution_count": 34,
     "metadata": {},
     "output_type": "execute_result"
    }
   ],
   "source": [
    "next(benzene.get_mapping(toluene))"
   ]
  },
  {
   "cell_type": "code",
   "execution_count": 35,
   "metadata": {
    "pycharm": {
     "name": "#%%\n"
    }
   },
   "outputs": [
    {
     "name": "stdout",
     "output_type": "stream",
     "text": [
      "{1: 6, 6: 1, 5: 2, 4: 3, 3: 4, 2: 5}\n",
      "{1: 6, 6: 5, 5: 4, 4: 3, 3: 2, 2: 1}\n",
      "{1: 5, 6: 6, 5: 1, 4: 2, 3: 3, 2: 4}\n",
      "{1: 5, 6: 4, 5: 3, 4: 2, 3: 1, 2: 6}\n",
      "{1: 4, 6: 5, 5: 6, 4: 1, 3: 2, 2: 3}\n",
      "{1: 4, 6: 3, 5: 2, 4: 1, 3: 6, 2: 5}\n",
      "{1: 3, 6: 4, 5: 5, 4: 6, 3: 1, 2: 2}\n",
      "{1: 3, 6: 2, 5: 1, 4: 6, 3: 5, 2: 4}\n",
      "{1: 2, 6: 3, 5: 4, 4: 5, 3: 6, 2: 1}\n",
      "{1: 2, 6: 1, 5: 6, 4: 5, 3: 4, 2: 3}\n",
      "{1: 1, 6: 6, 5: 5, 4: 4, 3: 3, 2: 2}\n",
      "{1: 1, 6: 2, 5: 3, 4: 4, 3: 5, 2: 6}\n"
     ]
    }
   ],
   "source": [
    "for m in benzene.get_mapping(toluene, automorphism_filter=False):  # iterate over all possible substructure mappings\n",
    "    print(m)"
   ]
  },
  {
   "cell_type": "markdown",
   "metadata": {
    "pycharm": {
     "name": "#%% md\n"
    }
   },
   "source": [
    "## 4.2. Queries\n",
    "\n",
    "Queries (QueryContainer) is special objects which additionally takes into account neighbors, hybridization, hydrogen count, ring size and heteroatom neighbors count state of atoms and bond in ring state.\n",
    "\n",
    "Queries can be generated from molecules by `substructure` method with as_query argument.\n",
    "\n",
    "Few special arguments for controlling atom state available."
   ]
  },
  {
   "cell_type": "code",
   "execution_count": 36,
   "metadata": {
    "pycharm": {
     "name": "#%%\n"
    }
   },
   "outputs": [
    {
     "name": "stdout",
     "output_type": "stream",
     "text": [
      "[O;D1;H0;Zd]=[C;D3;H0;Zd]-[O;D1;H1;Zs]\n"
     ]
    }
   ],
   "source": [
    "m = smiles('NCC(=O)O')\n",
    "carboxy = m.substructure([3, 4, 5], as_query=True, skip_neighbors_marks=False, skip_hybridizations_marks=False, skip_hydrogens_marks=False, skip_rings_sizes_marks=False)\n",
    "print(carboxy)"
   ]
  },
  {
   "cell_type": "code",
   "execution_count": 37,
   "metadata": {
    "pycharm": {
     "name": "#%%\n"
    }
   },
   "outputs": [
    {
     "data": {
      "text/plain": [
       "True"
      ]
     },
     "execution_count": 37,
     "metadata": {},
     "output_type": "execute_result"
    }
   ],
   "source": [
    "carboxy < m"
   ]
  },
  {
   "cell_type": "code",
   "execution_count": 38,
   "metadata": {
    "pycharm": {
     "name": "#%%\n"
    }
   },
   "outputs": [
    {
     "data": {
      "text/plain": [
       "False"
      ]
     },
     "execution_count": 38,
     "metadata": {},
     "output_type": "execute_result"
    }
   ],
   "source": [
    "carboxy < smiles('NCC(=O)OC') # not acid!"
   ]
  },
  {
   "cell_type": "markdown",
   "metadata": {
    "pycharm": {
     "name": "#%%\n"
    }
   },
   "source": [
    "### 4.2.1. Query building API\n",
    "\n",
    "It is possible to build query and molecule objects in programming way"
   ]
  },
  {
   "cell_type": "code",
   "execution_count": 39,
   "metadata": {},
   "outputs": [],
   "source": [
    "from chython import QueryContainer, MoleculeContainer\n",
    "from chython.containers.bonds import QueryBond\n",
    "from chython.periodictable import ListElement"
   ]
  },
  {
   "cell_type": "code",
   "execution_count": 40,
   "metadata": {},
   "outputs": [
    {
     "name": "stdout",
     "output_type": "stream",
     "text": [
      "[C;D3;H0;r0;Zd;W1]=[O,S]\n"
     ]
    }
   ],
   "source": [
    "q = QueryContainer() # create empty query\n",
    "q.add_atom('C', neighbors=3, hybridization=2, heteroatoms=1, rings_sizes=0, hydrogens=0)\n",
    "q.add_atom(ListElement(['O', 'S']), n=3) # oxygen or sulphur, with atom number 3\n",
    "q.add_bond(1, 3, 2) # atoms enumerated from 1. connect first and 3rd atom by bouble bond.\n",
    "print(q) # match only acyclic [tia] ketones"
   ]
  },
  {
   "cell_type": "code",
   "execution_count": 41,
   "metadata": {},
   "outputs": [
    {
     "data": {
      "text/plain": [
       "False"
      ]
     },
     "execution_count": 41,
     "metadata": {},
     "output_type": "execute_result"
    }
   ],
   "source": [
    "q < smiles('CC(=O)O')"
   ]
  },
  {
   "cell_type": "code",
   "execution_count": 42,
   "metadata": {},
   "outputs": [
    {
     "data": {
      "text/plain": [
       "True"
      ]
     },
     "execution_count": 42,
     "metadata": {},
     "output_type": "execute_result"
    }
   ],
   "source": [
    "q < smiles('CC(=S)C')"
   ]
  },
  {
   "cell_type": "code",
   "execution_count": 43,
   "metadata": {},
   "outputs": [
    {
     "data": {
      "text/plain": [
       "False"
      ]
     },
     "execution_count": 43,
     "metadata": {},
     "output_type": "execute_result"
    }
   ],
   "source": [
    "q < smiles('CC=O')"
   ]
  },
  {
   "cell_type": "code",
   "execution_count": 44,
   "metadata": {},
   "outputs": [
    {
     "data": {
      "text/plain": [
       "False"
      ]
     },
     "execution_count": 44,
     "metadata": {},
     "output_type": "execute_result"
    }
   ],
   "source": [
    "q < smiles('C1CC(=O)CC1')"
   ]
  },
  {
   "cell_type": "markdown",
   "metadata": {},
   "source": [
    "Molecules construction API the same, except extra query attributes"
   ]
  },
  {
   "cell_type": "code",
   "execution_count": 45,
   "metadata": {},
   "outputs": [
    {
     "data": {
      "image/svg+xml": [
       "<svg width=\"3.43cm\" height=\"1.66cm\" viewBox=\"-2.05 -1.04 3.43 1.66\" xmlns=\"http://www.w3.org/2000/svg\" xmlns:xlink=\"http://www.w3.org/1999/xlink\" version=\"1.1\">\n",
       "  <g id=\"674bdd33-ff35-4a92-b3f2-391e94d26817-molecule\">\n",
       "    <defs>\n",
       "      <g id=\"674bdd33-ff35-4a92-b3f2-391e94d26817-symbols\" font-size=\"0.50\" font-family=\"sans-serif\">\n",
       "        <text id=\"674bdd33-ff35-4a92-b3f2-391e94d26817-3\" x=\"-1.43\" y=\"-0.00\" dx=\"-0.20\" dy=\"0.20\">O</text>\n",
       "      </g>\n",
       "      <g id=\"674bdd33-ff35-4a92-b3f2-391e94d26817-mapping\" font-size=\"0.25\" font-family=\"monospace\" text-anchor=\"end\">\n",
       "        <text x=\"0.00\" y=\"-0.00\" dx=\"-0.05\" dy=\"0.20\">1</text>\n",
       "        <text x=\"-0.71\" y=\"-0.41\" dx=\"-0.05\" dy=\"0.20\">2</text>\n",
       "        <text x=\"-1.43\" y=\"-0.00\" dx=\"-0.15\" dy=\"0.35\">3</text>\n",
       "      </g>\n",
       "      <mask id=\"674bdd33-ff35-4a92-b3f2-391e94d26817-mask\">\n",
       "        <rect x=\"-2.05\" y=\"-1.04\" width=\"3.43\" height=\"1.66\" fill=\"white\"/>\n",
       "        <g>\n",
       "          <circle cx=\"-1.43\" cy=\"-0.00\" r=\"0.20\"/>\n",
       "        </g>\n",
       "        <g stroke=\"black\">\n",
       "          <use xlink:href=\"#674bdd33-ff35-4a92-b3f2-391e94d26817-symbols\" stroke-width=\"0.05\"/>\n",
       "          <use xlink:href=\"#674bdd33-ff35-4a92-b3f2-391e94d26817-mapping\" stroke-width=\"0.03\"/>\n",
       "        </g>\n",
       "      </mask>\n",
       "    </defs>\n",
       "    <g fill=\"none\" stroke=\"black\" stroke-width=\"0.04\" mask=\"url(#674bdd33-ff35-4a92-b3f2-391e94d26817-mask)\">\n",
       "      <line x1=\"0.00\" y1=\"-0.00\" x2=\"-0.71\" y2=\"-0.41\"/>\n",
       "      <line x1=\"-0.68\" y1=\"-0.36\" x2=\"-1.40\" y2=\"0.05\"/>\n",
       "      <line x1=\"-0.74\" y1=\"-0.46\" x2=\"-1.46\" y2=\"-0.05\"/>\n",
       "    </g>\n",
       "    <g font-size=\"0.50\" font-family=\"sans-serif\">\n",
       "      <use xlink:href=\"#674bdd33-ff35-4a92-b3f2-391e94d26817-3\" fill=\"#FF0D0D\"/>\n",
       "    </g>\n",
       "    <use xlink:href=\"#674bdd33-ff35-4a92-b3f2-391e94d26817-mapping\" fill=\"#0305A7\"/>\n",
       "  </g>\n",
       "</svg>"
      ],
      "text/plain": [
       "<chython.containers.molecule.MoleculeContainer at 0x28e7d18ae00>"
      ]
     },
     "execution_count": 45,
     "metadata": {},
     "output_type": "execute_result"
    }
   ],
   "source": [
    "m = MoleculeContainer()\n",
    "m.add_atom('C')\n",
    "m.add_atom('C')\n",
    "m.add_atom('O')\n",
    "m.add_bond(1, 2, 1)\n",
    "m.add_bond(2, 3, 2)\n",
    "m.clean2d()\n",
    "m"
   ]
  },
  {
   "cell_type": "markdown",
   "metadata": {},
   "source": [
    "# 5. Reactor\n",
    "\n",
    "Reactor works similar to ChemAxon Reactions enumeration.\n",
    "\n",
    "Example here presents application of it to create esters from acids and alcoholes.\n",
    "\n",
    "First we need to construct carboxy group and alcohole matcher queries. Then, ether group need to be specified. \n",
    "\n",
    "Atom numbers in query and patch should be mapped to each other. The same atoms should have same numbers."
   ]
  },
  {
   "cell_type": "code",
   "execution_count": 46,
   "metadata": {},
   "outputs": [
    {
     "name": "stdout",
     "output_type": "stream",
     "text": [
      "[O;D1]-[C]=[O]\n"
     ]
    }
   ],
   "source": [
    "acid = QueryContainer()\n",
    "acid.add_atom('C')\n",
    "acid.add_atom('O', neighbors=1)\n",
    "acid.add_atom('O')\n",
    "acid.add_bond(1, 2, 1)\n",
    "acid.add_bond(1, 3, 2)\n",
    "print(acid)"
   ]
  },
  {
   "cell_type": "code",
   "execution_count": 47,
   "metadata": {},
   "outputs": [
    {
     "name": "stdout",
     "output_type": "stream",
     "text": [
      "[C;W1]-[O;D1]\n"
     ]
    }
   ],
   "source": [
    "alco = QueryContainer()\n",
    "alco.add_atom('C', n=4, heteroatoms=1) # set atom number manually\n",
    "alco.add_atom('O', 5, neighbors=1)\n",
    "alco.add_bond(4, 5, 1)\n",
    "print(alco)"
   ]
  },
  {
   "cell_type": "code",
   "execution_count": 48,
   "metadata": {},
   "outputs": [
    {
     "name": "stdout",
     "output_type": "stream",
     "text": [
      "[C]-[O]-[C]=[O]\n"
     ]
    }
   ],
   "source": [
    "ether = QueryContainer()\n",
    "ether.add_atom('C')\n",
    "ether.add_atom('O', 3)\n",
    "ether.add_atom('C')\n",
    "ether.add_atom('O')\n",
    "ether.add_bond(1, 3, 2)\n",
    "ether.add_bond(1, 5, 1)\n",
    "ether.add_bond(4, 5, 1)\n",
    "print(ether)"
   ]
  },
  {
   "cell_type": "code",
   "execution_count": 49,
   "metadata": {},
   "outputs": [],
   "source": [
    "from chython import Reactor\n",
    "from chython.utils import grid_depict\n",
    "from ipywidgets import HTML"
   ]
  },
  {
   "cell_type": "code",
   "execution_count": 50,
   "metadata": {},
   "outputs": [],
   "source": [
    "rxn = Reactor([acid, alco], [ether], delete_atoms=True, one_shot=False)\n",
    "# delete atoms not presented in product query\n",
    "# do multiple reactions if possible"
   ]
  },
  {
   "cell_type": "code",
   "execution_count": 51,
   "metadata": {},
   "outputs": [],
   "source": [
    "alcohols = [smiles('CO'), smiles('CCO'), smiles('CC(C)O')]\n",
    "acids = [smiles('C(=O)O'), smiles('CC(=O)O'), smiles('OC(=O)C(=O)O')]\n",
    "for x in alcohols + acids:\n",
    "    x.clean2d()"
   ]
  },
  {
   "cell_type": "code",
   "execution_count": 52,
   "metadata": {},
   "outputs": [
    {
     "data": {
      "application/vnd.jupyter.widget-view+json": {
       "model_id": "96aff376da14417484191476aa633769",
       "version_major": 2,
       "version_minor": 0
      },
      "text/plain": [
       "HTML(value='<svg width=\"12.01cm\" height=\"5.81cm\" viewBox=\"-0.62 -0.62 12.01 5.81\" xmlns=\"http://www.w3.org/200…"
      ]
     },
     "metadata": {},
     "output_type": "display_data"
    }
   ],
   "source": [
    "HTML(grid_depict(alcohols + acids))"
   ]
  },
  {
   "cell_type": "code",
   "execution_count": 53,
   "metadata": {},
   "outputs": [
    {
     "data": {
      "text/plain": [
       "12"
      ]
     },
     "execution_count": 53,
     "metadata": {},
     "output_type": "execute_result"
    }
   ],
   "source": [
    "from itertools import product\n",
    "\n",
    "products = []\n",
    "for x in product(acids, alcohols):\n",
    "    for p in rxn(x): # apply transformation on given list of reactants\n",
    "        p.clean2d()\n",
    "        products.append(p)\n",
    "len(products)"
   ]
  },
  {
   "cell_type": "code",
   "execution_count": 54,
   "metadata": {},
   "outputs": [
    {
     "data": {
      "image/svg+xml": [
       "<svg width=\"11.85cm\" height=\"1.66cm\" viewBox=\"-0.62 -0.83 11.85 1.66\" xmlns=\"http://www.w3.org/2000/svg\" xmlns:xlink=\"http://www.w3.org/1999/xlink\" version=\"1.1\">\n",
       "  <defs>\n",
       "    <marker id=\"arrow\" markerWidth=\"10\" markerHeight=\"10\" refX=\"0\" refY=\"3\" orient=\"auto\">\n",
       "      <path d=\"M0,0 L0,6 L9,3\"/>\n",
       "    </marker>\n",
       "  </defs>\n",
       "  <line x1=\"4.70\" y1=\"0\" x2=\"6.70\" y2=\"0\" fill=\"none\" stroke=\"black\" stroke-width=\".04\" marker-end=\"url(#arrow)\"/>\n",
       "  <g fill=\"none\" stroke=\"black\" stroke-width=\".04\">\n",
       "    <line x1=\"1.98\" y1=\"0\" x2=\"2.28\" y2=\"0\"/>\n",
       "    <line x1=\"2.13\" y1=\"0.15\" x2=\"2.13\" y2=\"-0.15\"/>\n",
       "  </g>\n",
       "  <g id=\"9d2a9c64-5a2e-43d3-87d9-af54c1d33dec-molecule\">\n",
       "    <defs>\n",
       "      <g id=\"9d2a9c64-5a2e-43d3-87d9-af54c1d33dec-symbols\" font-size=\"0.50\" font-family=\"sans-serif\">\n",
       "        <text id=\"9d2a9c64-5a2e-43d3-87d9-af54c1d33dec-2\" x=\"0.00\" y=\"0.21\" dx=\"-0.20\" dy=\"0.20\">O</text>\n",
       "        <text id=\"9d2a9c64-5a2e-43d3-87d9-af54c1d33dec-3\" x=\"1.43\" y=\"0.21\" dx=\"-0.20\" dy=\"0.20\">OH</text>\n",
       "      </g>\n",
       "      <g id=\"9d2a9c64-5a2e-43d3-87d9-af54c1d33dec-mapping\" font-size=\"0.25\" font-family=\"monospace\" text-anchor=\"end\">\n",
       "        <text x=\"0.71\" y=\"-0.21\" dx=\"-0.05\" dy=\"0.20\">1</text>\n",
       "        <text x=\"0.00\" y=\"0.21\" dx=\"-0.15\" dy=\"0.35\">2</text>\n",
       "        <text x=\"1.43\" y=\"0.21\" dx=\"-0.15\" dy=\"0.35\">3</text>\n",
       "      </g>\n",
       "      <mask id=\"9d2a9c64-5a2e-43d3-87d9-af54c1d33dec-mask\">\n",
       "        <rect x=\"-0.62\" y=\"-0.83\" width=\"11.85\" height=\"1.66\" fill=\"white\"/>\n",
       "        <g>\n",
       "          <circle cx=\"0.00\" cy=\"0.21\" r=\"0.20\"/>\n",
       "          <circle cx=\"1.43\" cy=\"0.21\" r=\"0.20\"/>\n",
       "        </g>\n",
       "        <g stroke=\"black\">\n",
       "          <use xlink:href=\"#9d2a9c64-5a2e-43d3-87d9-af54c1d33dec-symbols\" stroke-width=\"0.05\"/>\n",
       "          <use xlink:href=\"#9d2a9c64-5a2e-43d3-87d9-af54c1d33dec-mapping\" stroke-width=\"0.03\"/>\n",
       "        </g>\n",
       "      </mask>\n",
       "    </defs>\n",
       "    <g fill=\"none\" stroke=\"black\" stroke-width=\"0.04\" mask=\"url(#9d2a9c64-5a2e-43d3-87d9-af54c1d33dec-mask)\">\n",
       "      <line x1=\"0.74\" y1=\"-0.15\" x2=\"0.03\" y2=\"0.26\"/>\n",
       "      <line x1=\"0.68\" y1=\"-0.26\" x2=\"-0.03\" y2=\"0.15\"/>\n",
       "      <line x1=\"0.71\" y1=\"-0.21\" x2=\"1.43\" y2=\"0.21\"/>\n",
       "    </g>\n",
       "    <g font-size=\"0.50\" font-family=\"sans-serif\">\n",
       "      <use xlink:href=\"#9d2a9c64-5a2e-43d3-87d9-af54c1d33dec-2\" fill=\"#FF0D0D\"/>\n",
       "      <use xlink:href=\"#9d2a9c64-5a2e-43d3-87d9-af54c1d33dec-3\" fill=\"#FF0D0D\"/>\n",
       "    </g>\n",
       "    <use xlink:href=\"#9d2a9c64-5a2e-43d3-87d9-af54c1d33dec-mapping\" fill=\"#0305A7\"/>\n",
       "  </g>\n",
       "  <g id=\"a150c71a-e3ad-414f-83d7-17f89e5e5bb8-molecule\">\n",
       "    <defs>\n",
       "      <g id=\"a150c71a-e3ad-414f-83d7-17f89e5e5bb8-symbols\" font-size=\"0.50\" font-family=\"sans-serif\">\n",
       "        <text id=\"a150c71a-e3ad-414f-83d7-17f89e5e5bb8-5\" x=\"2.63\" y=\"-0.00\" dx=\"-0.20\" dy=\"0.20\">OH</text>\n",
       "      </g>\n",
       "      <g id=\"a150c71a-e3ad-414f-83d7-17f89e5e5bb8-mapping\" font-size=\"0.25\" font-family=\"monospace\" text-anchor=\"end\">\n",
       "        <text x=\"3.45\" y=\"0.00\" dx=\"-0.05\" dy=\"0.20\">4</text>\n",
       "        <text x=\"2.63\" y=\"-0.00\" dx=\"-0.15\" dy=\"0.35\">5</text>\n",
       "      </g>\n",
       "      <mask id=\"a150c71a-e3ad-414f-83d7-17f89e5e5bb8-mask\">\n",
       "        <rect x=\"-0.62\" y=\"-0.83\" width=\"11.85\" height=\"1.66\" fill=\"white\"/>\n",
       "        <g>\n",
       "          <circle cx=\"2.63\" cy=\"-0.00\" r=\"0.20\"/>\n",
       "        </g>\n",
       "        <g stroke=\"black\">\n",
       "          <use xlink:href=\"#a150c71a-e3ad-414f-83d7-17f89e5e5bb8-symbols\" stroke-width=\"0.05\"/>\n",
       "          <use xlink:href=\"#a150c71a-e3ad-414f-83d7-17f89e5e5bb8-mapping\" stroke-width=\"0.03\"/>\n",
       "        </g>\n",
       "      </mask>\n",
       "    </defs>\n",
       "    <g fill=\"none\" stroke=\"black\" stroke-width=\"0.04\" mask=\"url(#a150c71a-e3ad-414f-83d7-17f89e5e5bb8-mask)\">\n",
       "      <line x1=\"-0.62\" y1=\"-0.83\" x2=\"11.22\" y2=\"-0.83\" stroke=\"none\"/>\n",
       "      <line x1=\"3.45\" y1=\"0.00\" x2=\"2.63\" y2=\"-0.00\"/>\n",
       "    </g>\n",
       "    <g font-size=\"0.50\" font-family=\"sans-serif\">\n",
       "      <use xlink:href=\"#a150c71a-e3ad-414f-83d7-17f89e5e5bb8-5\" fill=\"#FF0D0D\"/>\n",
       "    </g>\n",
       "    <use xlink:href=\"#a150c71a-e3ad-414f-83d7-17f89e5e5bb8-mapping\" fill=\"#0305A7\"/>\n",
       "  </g>\n",
       "  <g id=\"b6992c1f-66b8-4b52-a75e-1be4a23d6ba7-molecule\">\n",
       "    <defs>\n",
       "      <g id=\"b6992c1f-66b8-4b52-a75e-1be4a23d6ba7-symbols\" font-size=\"0.50\" font-family=\"sans-serif\">\n",
       "        <text id=\"b6992c1f-66b8-4b52-a75e-1be4a23d6ba7-2\" x=\"7.70\" y=\"-0.21\" dx=\"-0.20\" dy=\"0.20\">O</text>\n",
       "        <text id=\"b6992c1f-66b8-4b52-a75e-1be4a23d6ba7-5\" x=\"9.13\" y=\"-0.21\" dx=\"-0.20\" dy=\"0.20\">O</text>\n",
       "      </g>\n",
       "      <g id=\"b6992c1f-66b8-4b52-a75e-1be4a23d6ba7-mapping\" font-size=\"0.25\" font-family=\"monospace\" text-anchor=\"end\">\n",
       "        <text x=\"8.42\" y=\"0.21\" dx=\"-0.05\" dy=\"0.20\">1</text>\n",
       "        <text x=\"7.70\" y=\"-0.21\" dx=\"-0.15\" dy=\"0.35\">2</text>\n",
       "        <text x=\"9.85\" y=\"0.21\" dx=\"-0.05\" dy=\"0.20\">4</text>\n",
       "        <text x=\"9.13\" y=\"-0.21\" dx=\"-0.15\" dy=\"0.35\">5</text>\n",
       "      </g>\n",
       "      <mask id=\"b6992c1f-66b8-4b52-a75e-1be4a23d6ba7-mask\">\n",
       "        <rect x=\"-0.62\" y=\"-0.83\" width=\"11.85\" height=\"1.66\" fill=\"white\"/>\n",
       "        <g>\n",
       "          <circle cx=\"7.70\" cy=\"-0.21\" r=\"0.20\"/>\n",
       "          <circle cx=\"9.13\" cy=\"-0.21\" r=\"0.20\"/>\n",
       "        </g>\n",
       "        <g stroke=\"black\">\n",
       "          <use xlink:href=\"#b6992c1f-66b8-4b52-a75e-1be4a23d6ba7-symbols\" stroke-width=\"0.05\"/>\n",
       "          <use xlink:href=\"#b6992c1f-66b8-4b52-a75e-1be4a23d6ba7-mapping\" stroke-width=\"0.03\"/>\n",
       "        </g>\n",
       "      </mask>\n",
       "    </defs>\n",
       "    <g fill=\"none\" stroke=\"black\" stroke-width=\"0.04\" mask=\"url(#b6992c1f-66b8-4b52-a75e-1be4a23d6ba7-mask)\">\n",
       "      <line x1=\"8.39\" y1=\"0.26\" x2=\"7.67\" y2=\"-0.15\"/>\n",
       "      <line x1=\"8.45\" y1=\"0.15\" x2=\"7.73\" y2=\"-0.26\"/>\n",
       "      <line x1=\"8.42\" y1=\"0.21\" x2=\"9.13\" y2=\"-0.21\"/>\n",
       "      <line x1=\"9.85\" y1=\"0.21\" x2=\"9.13\" y2=\"-0.21\"/>\n",
       "    </g>\n",
       "    <g font-size=\"0.50\" font-family=\"sans-serif\">\n",
       "      <use xlink:href=\"#b6992c1f-66b8-4b52-a75e-1be4a23d6ba7-2\" fill=\"#FF0D0D\"/>\n",
       "      <use xlink:href=\"#b6992c1f-66b8-4b52-a75e-1be4a23d6ba7-5\" fill=\"#FF0D0D\"/>\n",
       "    </g>\n",
       "    <use xlink:href=\"#b6992c1f-66b8-4b52-a75e-1be4a23d6ba7-mapping\" fill=\"#0305A7\"/>\n",
       "  </g>\n",
       "</svg>"
      ],
      "text/plain": [
       "<chython.containers.reaction.ReactionContainer at 0x28e7d41e2e0>"
      ]
     },
     "execution_count": 54,
     "metadata": {},
     "output_type": "execute_result"
    }
   ],
   "source": [
    "products[0]"
   ]
  },
  {
   "cell_type": "code",
   "execution_count": 55,
   "metadata": {},
   "outputs": [
    {
     "data": {
      "image/svg+xml": [
       "<svg width=\"15.28cm\" height=\"3.31cm\" viewBox=\"-0.62 -1.66 15.28 3.31\" xmlns=\"http://www.w3.org/2000/svg\" xmlns:xlink=\"http://www.w3.org/1999/xlink\" version=\"1.1\">\n",
       "  <defs>\n",
       "    <marker id=\"arrow\" markerWidth=\"10\" markerHeight=\"10\" refX=\"0\" refY=\"3\" orient=\"auto\">\n",
       "      <path d=\"M0,0 L0,6 L9,3\"/>\n",
       "    </marker>\n",
       "  </defs>\n",
       "  <line x1=\"5.28\" y1=\"0\" x2=\"7.28\" y2=\"0\" fill=\"none\" stroke=\"black\" stroke-width=\".04\" marker-end=\"url(#arrow)\"/>\n",
       "  <g fill=\"none\" stroke=\"black\" stroke-width=\".04\">\n",
       "    <line x1=\"2.20\" y1=\"0\" x2=\"2.50\" y2=\"0\"/>\n",
       "    <line x1=\"2.35\" y1=\"0.15\" x2=\"2.35\" y2=\"-0.15\"/>\n",
       "  </g>\n",
       "  <g id=\"ce1620ed-8ce0-4ef3-9852-efe5217e229d-molecule\">\n",
       "    <defs>\n",
       "      <g id=\"ce1620ed-8ce0-4ef3-9852-efe5217e229d-symbols\" font-size=\"0.50\" font-family=\"sans-serif\">\n",
       "        <text id=\"ce1620ed-8ce0-4ef3-9852-efe5217e229d-1\" x=\"1.65\" y=\"-0.71\" dx=\"-0.20\" dy=\"0.20\">OH</text>\n",
       "        <text id=\"ce1620ed-8ce0-4ef3-9852-efe5217e229d-3\" x=\"1.65\" y=\"0.71\" dx=\"-0.20\" dy=\"0.20\">O</text>\n",
       "        <text id=\"ce1620ed-8ce0-4ef3-9852-efe5217e229d-5\" x=\"0.00\" y=\"0.71\" dx=\"-0.20\" dy=\"0.20\">O</text>\n",
       "        <text id=\"ce1620ed-8ce0-4ef3-9852-efe5217e229d-6\" x=\"0.00\" y=\"-0.71\" dx=\"-0.20\" dy=\"0.20\">OH</text>\n",
       "      </g>\n",
       "      <g id=\"ce1620ed-8ce0-4ef3-9852-efe5217e229d-mapping\" font-size=\"0.25\" font-family=\"monospace\" text-anchor=\"end\">\n",
       "        <text x=\"1.65\" y=\"-0.71\" dx=\"-0.15\" dy=\"0.35\">1</text>\n",
       "        <text x=\"1.24\" y=\"0.00\" dx=\"-0.05\" dy=\"0.20\">2</text>\n",
       "        <text x=\"1.65\" y=\"0.71\" dx=\"-0.15\" dy=\"0.35\">3</text>\n",
       "        <text x=\"0.41\" y=\"-0.00\" dx=\"-0.05\" dy=\"0.20\">4</text>\n",
       "        <text x=\"0.00\" y=\"0.71\" dx=\"-0.15\" dy=\"0.35\">5</text>\n",
       "        <text x=\"0.00\" y=\"-0.71\" dx=\"-0.15\" dy=\"0.35\">6</text>\n",
       "      </g>\n",
       "      <mask id=\"ce1620ed-8ce0-4ef3-9852-efe5217e229d-mask\">\n",
       "        <rect x=\"-0.62\" y=\"-1.66\" width=\"15.28\" height=\"3.31\" fill=\"white\"/>\n",
       "        <g>\n",
       "          <circle cx=\"1.65\" cy=\"-0.71\" r=\"0.20\"/>\n",
       "          <circle cx=\"1.65\" cy=\"0.71\" r=\"0.20\"/>\n",
       "          <circle cx=\"0.00\" cy=\"0.71\" r=\"0.20\"/>\n",
       "          <circle cx=\"0.00\" cy=\"-0.71\" r=\"0.20\"/>\n",
       "        </g>\n",
       "        <g stroke=\"black\">\n",
       "          <use xlink:href=\"#ce1620ed-8ce0-4ef3-9852-efe5217e229d-symbols\" stroke-width=\"0.05\"/>\n",
       "          <use xlink:href=\"#ce1620ed-8ce0-4ef3-9852-efe5217e229d-mapping\" stroke-width=\"0.03\"/>\n",
       "        </g>\n",
       "      </mask>\n",
       "    </defs>\n",
       "    <g fill=\"none\" stroke=\"black\" stroke-width=\"0.04\" mask=\"url(#ce1620ed-8ce0-4ef3-9852-efe5217e229d-mask)\">\n",
       "      <line x1=\"1.65\" y1=\"-0.71\" x2=\"1.24\" y2=\"0.00\"/>\n",
       "      <line x1=\"1.29\" y1=\"-0.03\" x2=\"1.70\" y2=\"0.68\"/>\n",
       "      <line x1=\"1.19\" y1=\"0.03\" x2=\"1.60\" y2=\"0.74\"/>\n",
       "      <line x1=\"1.24\" y1=\"0.00\" x2=\"0.41\" y2=\"-0.00\"/>\n",
       "      <line x1=\"0.46\" y1=\"0.03\" x2=\"0.05\" y2=\"0.74\"/>\n",
       "      <line x1=\"0.36\" y1=\"-0.03\" x2=\"-0.05\" y2=\"0.68\"/>\n",
       "      <line x1=\"0.41\" y1=\"-0.00\" x2=\"0.00\" y2=\"-0.71\"/>\n",
       "    </g>\n",
       "    <g font-size=\"0.50\" font-family=\"sans-serif\">\n",
       "      <use xlink:href=\"#ce1620ed-8ce0-4ef3-9852-efe5217e229d-1\" fill=\"#FF0D0D\"/>\n",
       "      <use xlink:href=\"#ce1620ed-8ce0-4ef3-9852-efe5217e229d-3\" fill=\"#FF0D0D\"/>\n",
       "      <use xlink:href=\"#ce1620ed-8ce0-4ef3-9852-efe5217e229d-5\" fill=\"#FF0D0D\"/>\n",
       "      <use xlink:href=\"#ce1620ed-8ce0-4ef3-9852-efe5217e229d-6\" fill=\"#FF0D0D\"/>\n",
       "    </g>\n",
       "    <use xlink:href=\"#ce1620ed-8ce0-4ef3-9852-efe5217e229d-mapping\" fill=\"#0305A7\"/>\n",
       "  </g>\n",
       "  <g id=\"ce4fd2d4-7f2f-4252-a632-58a46bd7d14f-molecule\">\n",
       "    <defs>\n",
       "      <g id=\"ce4fd2d4-7f2f-4252-a632-58a46bd7d14f-symbols\" font-size=\"0.50\" font-family=\"sans-serif\">\n",
       "        <text id=\"ce4fd2d4-7f2f-4252-a632-58a46bd7d14f-9\" x=\"4.28\" y=\"0.21\" dx=\"-0.20\" dy=\"0.20\">OH</text>\n",
       "      </g>\n",
       "      <g id=\"ce4fd2d4-7f2f-4252-a632-58a46bd7d14f-mapping\" font-size=\"0.25\" font-family=\"monospace\" text-anchor=\"end\">\n",
       "        <text x=\"2.85\" y=\"0.21\" dx=\"-0.05\" dy=\"0.20\">7</text>\n",
       "        <text x=\"3.56\" y=\"-0.21\" dx=\"-0.05\" dy=\"0.20\">8</text>\n",
       "        <text x=\"4.28\" y=\"0.21\" dx=\"-0.15\" dy=\"0.35\">9</text>\n",
       "      </g>\n",
       "      <mask id=\"ce4fd2d4-7f2f-4252-a632-58a46bd7d14f-mask\">\n",
       "        <rect x=\"-0.62\" y=\"-1.66\" width=\"15.28\" height=\"3.31\" fill=\"white\"/>\n",
       "        <g>\n",
       "          <circle cx=\"4.28\" cy=\"0.21\" r=\"0.20\"/>\n",
       "        </g>\n",
       "        <g stroke=\"black\">\n",
       "          <use xlink:href=\"#ce4fd2d4-7f2f-4252-a632-58a46bd7d14f-symbols\" stroke-width=\"0.05\"/>\n",
       "          <use xlink:href=\"#ce4fd2d4-7f2f-4252-a632-58a46bd7d14f-mapping\" stroke-width=\"0.03\"/>\n",
       "        </g>\n",
       "      </mask>\n",
       "    </defs>\n",
       "    <g fill=\"none\" stroke=\"black\" stroke-width=\"0.04\" mask=\"url(#ce4fd2d4-7f2f-4252-a632-58a46bd7d14f-mask)\">\n",
       "      <line x1=\"2.85\" y1=\"0.21\" x2=\"3.56\" y2=\"-0.21\"/>\n",
       "      <line x1=\"3.56\" y1=\"-0.21\" x2=\"4.28\" y2=\"0.21\"/>\n",
       "    </g>\n",
       "    <g font-size=\"0.50\" font-family=\"sans-serif\">\n",
       "      <use xlink:href=\"#ce4fd2d4-7f2f-4252-a632-58a46bd7d14f-9\" fill=\"#FF0D0D\"/>\n",
       "    </g>\n",
       "    <use xlink:href=\"#ce4fd2d4-7f2f-4252-a632-58a46bd7d14f-mapping\" fill=\"#0305A7\"/>\n",
       "  </g>\n",
       "  <g id=\"18d4cace-0c8c-4e64-ac7f-7cd99601e0ab-molecule\">\n",
       "    <defs>\n",
       "      <g id=\"18d4cace-0c8c-4e64-ac7f-7cd99601e0ab-symbols\" font-size=\"0.50\" font-family=\"sans-serif\">\n",
       "        <text id=\"18d4cace-0c8c-4e64-ac7f-7cd99601e0ab-3\" x=\"11.14\" y=\"-1.03\" dx=\"-0.20\" dy=\"0.20\">O</text>\n",
       "        <text id=\"18d4cace-0c8c-4e64-ac7f-7cd99601e0ab-11\" x=\"11.85\" y=\"0.21\" dx=\"-0.20\" dy=\"0.20\">O</text>\n",
       "        <text id=\"18d4cace-0c8c-4e64-ac7f-7cd99601e0ab-5\" x=\"10.42\" y=\"1.03\" dx=\"-0.20\" dy=\"0.20\">O</text>\n",
       "        <text id=\"18d4cace-0c8c-4e64-ac7f-7cd99601e0ab-9\" x=\"9.71\" y=\"-0.21\" dx=\"-0.20\" dy=\"0.20\">O</text>\n",
       "      </g>\n",
       "      <g id=\"18d4cace-0c8c-4e64-ac7f-7cd99601e0ab-mapping\" font-size=\"0.25\" font-family=\"monospace\" text-anchor=\"end\">\n",
       "        <text x=\"11.14\" y=\"-0.21\" dx=\"-0.05\" dy=\"0.20\">2</text>\n",
       "        <text x=\"11.14\" y=\"-1.03\" dx=\"-0.15\" dy=\"0.35\">3</text>\n",
       "        <text x=\"12.57\" y=\"-0.21\" dx=\"-0.05\" dy=\"0.20\">10</text>\n",
       "        <text x=\"11.85\" y=\"0.21\" dx=\"-0.15\" dy=\"0.35\">11</text>\n",
       "        <text x=\"10.42\" y=\"0.21\" dx=\"-0.05\" dy=\"0.20\">4</text>\n",
       "        <text x=\"10.42\" y=\"1.03\" dx=\"-0.15\" dy=\"0.35\">5</text>\n",
       "        <text x=\"8.99\" y=\"0.21\" dx=\"-0.05\" dy=\"0.20\">8</text>\n",
       "        <text x=\"9.71\" y=\"-0.21\" dx=\"-0.15\" dy=\"0.35\">9</text>\n",
       "        <text x=\"8.28\" y=\"-0.21\" dx=\"-0.05\" dy=\"0.20\">7</text>\n",
       "        <text x=\"13.28\" y=\"0.21\" dx=\"-0.05\" dy=\"0.20\">12</text>\n",
       "      </g>\n",
       "      <mask id=\"18d4cace-0c8c-4e64-ac7f-7cd99601e0ab-mask\">\n",
       "        <rect x=\"-0.62\" y=\"-1.66\" width=\"15.28\" height=\"3.31\" fill=\"white\"/>\n",
       "        <g>\n",
       "          <circle cx=\"11.14\" cy=\"-1.03\" r=\"0.20\"/>\n",
       "          <circle cx=\"11.85\" cy=\"0.21\" r=\"0.20\"/>\n",
       "          <circle cx=\"10.42\" cy=\"1.03\" r=\"0.20\"/>\n",
       "          <circle cx=\"9.71\" cy=\"-0.21\" r=\"0.20\"/>\n",
       "        </g>\n",
       "        <g stroke=\"black\">\n",
       "          <use xlink:href=\"#18d4cace-0c8c-4e64-ac7f-7cd99601e0ab-symbols\" stroke-width=\"0.05\"/>\n",
       "          <use xlink:href=\"#18d4cace-0c8c-4e64-ac7f-7cd99601e0ab-mapping\" stroke-width=\"0.03\"/>\n",
       "        </g>\n",
       "      </mask>\n",
       "    </defs>\n",
       "    <g fill=\"none\" stroke=\"black\" stroke-width=\"0.04\" mask=\"url(#18d4cace-0c8c-4e64-ac7f-7cd99601e0ab-mask)\">\n",
       "      <line x1=\"11.08\" y1=\"-0.21\" x2=\"11.08\" y2=\"-1.03\"/>\n",
       "      <line x1=\"11.20\" y1=\"-0.21\" x2=\"11.20\" y2=\"-1.03\"/>\n",
       "      <line x1=\"11.14\" y1=\"-0.21\" x2=\"11.85\" y2=\"0.21\"/>\n",
       "      <line x1=\"11.14\" y1=\"-0.21\" x2=\"10.42\" y2=\"0.21\"/>\n",
       "      <line x1=\"12.57\" y1=\"-0.21\" x2=\"11.85\" y2=\"0.21\"/>\n",
       "      <line x1=\"12.57\" y1=\"-0.21\" x2=\"13.28\" y2=\"0.21\"/>\n",
       "      <line x1=\"10.48\" y1=\"0.21\" x2=\"10.48\" y2=\"1.03\"/>\n",
       "      <line x1=\"10.36\" y1=\"0.21\" x2=\"10.36\" y2=\"1.03\"/>\n",
       "      <line x1=\"10.42\" y1=\"0.21\" x2=\"9.71\" y2=\"-0.21\"/>\n",
       "      <line x1=\"8.99\" y1=\"0.21\" x2=\"9.71\" y2=\"-0.21\"/>\n",
       "      <line x1=\"8.99\" y1=\"0.21\" x2=\"8.28\" y2=\"-0.21\"/>\n",
       "    </g>\n",
       "    <g font-size=\"0.50\" font-family=\"sans-serif\">\n",
       "      <use xlink:href=\"#18d4cace-0c8c-4e64-ac7f-7cd99601e0ab-3\" fill=\"#FF0D0D\"/>\n",
       "      <use xlink:href=\"#18d4cace-0c8c-4e64-ac7f-7cd99601e0ab-11\" fill=\"#FF0D0D\"/>\n",
       "      <use xlink:href=\"#18d4cace-0c8c-4e64-ac7f-7cd99601e0ab-5\" fill=\"#FF0D0D\"/>\n",
       "      <use xlink:href=\"#18d4cace-0c8c-4e64-ac7f-7cd99601e0ab-9\" fill=\"#FF0D0D\"/>\n",
       "    </g>\n",
       "    <use xlink:href=\"#18d4cace-0c8c-4e64-ac7f-7cd99601e0ab-mapping\" fill=\"#0305A7\"/>\n",
       "  </g>\n",
       "</svg>"
      ],
      "text/plain": [
       "<chython.containers.reaction.ReactionContainer at 0x28e7d41ec40>"
      ]
     },
     "execution_count": 55,
     "metadata": {},
     "output_type": "execute_result"
    }
   ],
   "source": [
    "products[-3]"
   ]
  },
  {
   "cell_type": "code",
   "execution_count": 56,
   "metadata": {
    "scrolled": true
   },
   "outputs": [
    {
     "data": {
      "image/svg+xml": [
       "<svg width=\"12.95cm\" height=\"3.09cm\" viewBox=\"-0.62 -1.55 12.95 3.09\" xmlns=\"http://www.w3.org/2000/svg\" xmlns:xlink=\"http://www.w3.org/1999/xlink\" version=\"1.1\">\n",
       "  <defs>\n",
       "    <marker id=\"arrow\" markerWidth=\"10\" markerHeight=\"10\" refX=\"0\" refY=\"3\" orient=\"auto\">\n",
       "      <path d=\"M0,0 L0,6 L9,3\"/>\n",
       "    </marker>\n",
       "  </defs>\n",
       "  <line x1=\"4.68\" y1=\"0\" x2=\"6.68\" y2=\"0\" fill=\"none\" stroke=\"black\" stroke-width=\".04\" marker-end=\"url(#arrow)\"/>\n",
       "  <g fill=\"none\" stroke=\"black\" stroke-width=\".04\">\n",
       "    <line x1=\"1.79\" y1=\"0\" x2=\"2.09\" y2=\"0\"/>\n",
       "    <line x1=\"1.94\" y1=\"0.15\" x2=\"1.94\" y2=\"-0.15\"/>\n",
       "  </g>\n",
       "  <g id=\"9e8dd97b-30b1-4a90-8093-98c0854803f3-molecule\">\n",
       "    <defs>\n",
       "      <g id=\"9e8dd97b-30b1-4a90-8093-98c0854803f3-symbols\" font-size=\"0.50\" font-family=\"sans-serif\">\n",
       "        <text id=\"9e8dd97b-30b1-4a90-8093-98c0854803f3-1\" x=\"0.00\" y=\"0.71\" dx=\"-0.20\" dy=\"0.20\">OH</text>\n",
       "        <text id=\"9e8dd97b-30b1-4a90-8093-98c0854803f3-3\" x=\"0.00\" y=\"-0.71\" dx=\"-0.20\" dy=\"0.20\">O</text>\n",
       "        <text id=\"9e8dd97b-30b1-4a90-8093-98c0854803f3-5\" x=\"1.24\" y=\"0.82\" dx=\"-0.20\" dy=\"0.20\">O</text>\n",
       "        <text id=\"9e8dd97b-30b1-4a90-8093-98c0854803f3-6\" x=\"1.24\" y=\"-0.82\" dx=\"-0.20\" dy=\"0.20\">OH</text>\n",
       "      </g>\n",
       "      <g id=\"9e8dd97b-30b1-4a90-8093-98c0854803f3-mapping\" font-size=\"0.25\" font-family=\"monospace\" text-anchor=\"end\">\n",
       "        <text x=\"0.00\" y=\"0.71\" dx=\"-0.15\" dy=\"0.35\">1</text>\n",
       "        <text x=\"0.41\" y=\"-0.00\" dx=\"-0.05\" dy=\"0.20\">2</text>\n",
       "        <text x=\"0.00\" y=\"-0.71\" dx=\"-0.15\" dy=\"0.35\">3</text>\n",
       "        <text x=\"1.24\" y=\"-0.00\" dx=\"-0.05\" dy=\"0.20\">4</text>\n",
       "        <text x=\"1.24\" y=\"0.82\" dx=\"-0.15\" dy=\"0.35\">5</text>\n",
       "        <text x=\"1.24\" y=\"-0.82\" dx=\"-0.15\" dy=\"0.35\">6</text>\n",
       "      </g>\n",
       "      <mask id=\"9e8dd97b-30b1-4a90-8093-98c0854803f3-mask\">\n",
       "        <rect x=\"-0.62\" y=\"-1.55\" width=\"12.95\" height=\"3.09\" fill=\"white\"/>\n",
       "        <g>\n",
       "          <circle cx=\"0.00\" cy=\"0.71\" r=\"0.20\"/>\n",
       "          <circle cx=\"0.00\" cy=\"-0.71\" r=\"0.20\"/>\n",
       "          <circle cx=\"1.24\" cy=\"0.82\" r=\"0.20\"/>\n",
       "          <circle cx=\"1.24\" cy=\"-0.82\" r=\"0.20\"/>\n",
       "        </g>\n",
       "        <g stroke=\"black\">\n",
       "          <use xlink:href=\"#9e8dd97b-30b1-4a90-8093-98c0854803f3-symbols\" stroke-width=\"0.05\"/>\n",
       "          <use xlink:href=\"#9e8dd97b-30b1-4a90-8093-98c0854803f3-mapping\" stroke-width=\"0.03\"/>\n",
       "        </g>\n",
       "      </mask>\n",
       "    </defs>\n",
       "    <g fill=\"none\" stroke=\"black\" stroke-width=\"0.04\" mask=\"url(#9e8dd97b-30b1-4a90-8093-98c0854803f3-mask)\">\n",
       "      <line x1=\"0.00\" y1=\"0.71\" x2=\"0.41\" y2=\"-0.00\"/>\n",
       "      <line x1=\"0.36\" y1=\"0.03\" x2=\"-0.05\" y2=\"-0.68\"/>\n",
       "      <line x1=\"0.46\" y1=\"-0.03\" x2=\"0.05\" y2=\"-0.74\"/>\n",
       "      <line x1=\"0.41\" y1=\"-0.00\" x2=\"1.24\" y2=\"-0.00\"/>\n",
       "      <line x1=\"1.30\" y1=\"0.00\" x2=\"1.30\" y2=\"0.83\"/>\n",
       "      <line x1=\"1.18\" y1=\"-0.00\" x2=\"1.18\" y2=\"0.82\"/>\n",
       "      <line x1=\"1.24\" y1=\"-0.00\" x2=\"1.24\" y2=\"-0.82\"/>\n",
       "    </g>\n",
       "    <g font-size=\"0.50\" font-family=\"sans-serif\">\n",
       "      <use xlink:href=\"#9e8dd97b-30b1-4a90-8093-98c0854803f3-1\" fill=\"#FF0D0D\"/>\n",
       "      <use xlink:href=\"#9e8dd97b-30b1-4a90-8093-98c0854803f3-3\" fill=\"#FF0D0D\"/>\n",
       "      <use xlink:href=\"#9e8dd97b-30b1-4a90-8093-98c0854803f3-5\" fill=\"#FF0D0D\"/>\n",
       "      <use xlink:href=\"#9e8dd97b-30b1-4a90-8093-98c0854803f3-6\" fill=\"#FF0D0D\"/>\n",
       "    </g>\n",
       "    <use xlink:href=\"#9e8dd97b-30b1-4a90-8093-98c0854803f3-mapping\" fill=\"#0305A7\"/>\n",
       "  </g>\n",
       "  <g id=\"8d4926ee-0de7-4619-aa95-7a89b99d4385-molecule\">\n",
       "    <defs>\n",
       "      <g id=\"8d4926ee-0de7-4619-aa95-7a89b99d4385-symbols\" font-size=\"0.50\" font-family=\"sans-serif\">\n",
       "        <text id=\"8d4926ee-0de7-4619-aa95-7a89b99d4385-9\" x=\"2.44\" y=\"-0.36\" dx=\"-0.20\" dy=\"0.20\">OH</text>\n",
       "      </g>\n",
       "      <g id=\"8d4926ee-0de7-4619-aa95-7a89b99d4385-mapping\" font-size=\"0.25\" font-family=\"monospace\" text-anchor=\"end\">\n",
       "        <text x=\"3.68\" y=\"0.36\" dx=\"-0.05\" dy=\"0.20\">7</text>\n",
       "        <text x=\"2.85\" y=\"0.36\" dx=\"-0.05\" dy=\"0.20\">8</text>\n",
       "        <text x=\"2.44\" y=\"-0.36\" dx=\"-0.15\" dy=\"0.35\">9</text>\n",
       "      </g>\n",
       "      <mask id=\"8d4926ee-0de7-4619-aa95-7a89b99d4385-mask\">\n",
       "        <rect x=\"-0.62\" y=\"-1.55\" width=\"12.95\" height=\"3.09\" fill=\"white\"/>\n",
       "        <g>\n",
       "          <circle cx=\"2.44\" cy=\"-0.36\" r=\"0.20\"/>\n",
       "        </g>\n",
       "        <g stroke=\"black\">\n",
       "          <use xlink:href=\"#8d4926ee-0de7-4619-aa95-7a89b99d4385-symbols\" stroke-width=\"0.05\"/>\n",
       "          <use xlink:href=\"#8d4926ee-0de7-4619-aa95-7a89b99d4385-mapping\" stroke-width=\"0.03\"/>\n",
       "        </g>\n",
       "      </mask>\n",
       "    </defs>\n",
       "    <g fill=\"none\" stroke=\"black\" stroke-width=\"0.04\" mask=\"url(#8d4926ee-0de7-4619-aa95-7a89b99d4385-mask)\">\n",
       "      <line x1=\"3.68\" y1=\"0.36\" x2=\"2.85\" y2=\"0.36\"/>\n",
       "      <line x1=\"2.85\" y1=\"0.36\" x2=\"2.44\" y2=\"-0.36\"/>\n",
       "    </g>\n",
       "    <g font-size=\"0.50\" font-family=\"sans-serif\">\n",
       "      <use xlink:href=\"#8d4926ee-0de7-4619-aa95-7a89b99d4385-9\" fill=\"#FF0D0D\"/>\n",
       "    </g>\n",
       "    <use xlink:href=\"#8d4926ee-0de7-4619-aa95-7a89b99d4385-mapping\" fill=\"#0305A7\"/>\n",
       "  </g>\n",
       "  <g id=\"7b486cd5-9d13-4487-a118-129ce34fde26-molecule\">\n",
       "    <defs>\n",
       "      <g id=\"7b486cd5-9d13-4487-a118-129ce34fde26-symbols\" font-size=\"0.50\" font-family=\"sans-serif\">\n",
       "        <text id=\"7b486cd5-9d13-4487-a118-129ce34fde26-5\" x=\"9.41\" y=\"0.92\" dx=\"-0.20\" dy=\"0.20\">O</text>\n",
       "        <text id=\"7b486cd5-9d13-4487-a118-129ce34fde26-9\" x=\"9.10\" y=\"-0.21\" dx=\"-0.20\" dy=\"0.20\">O</text>\n",
       "        <text id=\"7b486cd5-9d13-4487-a118-129ce34fde26-1\" x=\"10.95\" y=\"-0.10\" dx=\"-0.20\" dy=\"0.20\">OH</text>\n",
       "        <text id=\"7b486cd5-9d13-4487-a118-129ce34fde26-3\" x=\"9.52\" y=\"-0.92\" dx=\"-0.20\" dy=\"0.20\">O</text>\n",
       "      </g>\n",
       "      <g id=\"7b486cd5-9d13-4487-a118-129ce34fde26-mapping\" font-size=\"0.25\" font-family=\"monospace\" text-anchor=\"end\">\n",
       "        <text x=\"9.82\" y=\"0.21\" dx=\"-0.05\" dy=\"0.20\">4</text>\n",
       "        <text x=\"9.41\" y=\"0.92\" dx=\"-0.15\" dy=\"0.35\">5</text>\n",
       "        <text x=\"8.39\" y=\"0.21\" dx=\"-0.05\" dy=\"0.20\">8</text>\n",
       "        <text x=\"9.10\" y=\"-0.21\" dx=\"-0.15\" dy=\"0.35\">9</text>\n",
       "        <text x=\"10.95\" y=\"-0.10\" dx=\"-0.15\" dy=\"0.35\">1</text>\n",
       "        <text x=\"10.23\" y=\"-0.51\" dx=\"-0.05\" dy=\"0.20\">2</text>\n",
       "        <text x=\"9.52\" y=\"-0.92\" dx=\"-0.15\" dy=\"0.35\">3</text>\n",
       "        <text x=\"7.68\" y=\"-0.21\" dx=\"-0.05\" dy=\"0.20\">7</text>\n",
       "      </g>\n",
       "      <mask id=\"7b486cd5-9d13-4487-a118-129ce34fde26-mask\">\n",
       "        <rect x=\"-0.62\" y=\"-1.55\" width=\"12.95\" height=\"3.09\" fill=\"white\"/>\n",
       "        <g>\n",
       "          <circle cx=\"9.41\" cy=\"0.92\" r=\"0.20\"/>\n",
       "          <circle cx=\"9.10\" cy=\"-0.21\" r=\"0.20\"/>\n",
       "          <circle cx=\"10.95\" cy=\"-0.10\" r=\"0.20\"/>\n",
       "          <circle cx=\"9.52\" cy=\"-0.92\" r=\"0.20\"/>\n",
       "        </g>\n",
       "        <g stroke=\"black\">\n",
       "          <use xlink:href=\"#7b486cd5-9d13-4487-a118-129ce34fde26-symbols\" stroke-width=\"0.05\"/>\n",
       "          <use xlink:href=\"#7b486cd5-9d13-4487-a118-129ce34fde26-mapping\" stroke-width=\"0.03\"/>\n",
       "        </g>\n",
       "      </mask>\n",
       "    </defs>\n",
       "    <g fill=\"none\" stroke=\"black\" stroke-width=\"0.04\" mask=\"url(#7b486cd5-9d13-4487-a118-129ce34fde26-mask)\">\n",
       "      <line x1=\"9.87\" y1=\"0.24\" x2=\"9.46\" y2=\"0.95\"/>\n",
       "      <line x1=\"9.77\" y1=\"0.18\" x2=\"9.35\" y2=\"0.89\"/>\n",
       "      <line x1=\"9.82\" y1=\"0.21\" x2=\"9.10\" y2=\"-0.21\"/>\n",
       "      <line x1=\"9.82\" y1=\"0.21\" x2=\"10.23\" y2=\"-0.51\"/>\n",
       "      <line x1=\"8.39\" y1=\"0.21\" x2=\"9.10\" y2=\"-0.21\"/>\n",
       "      <line x1=\"8.39\" y1=\"0.21\" x2=\"7.68\" y2=\"-0.21\"/>\n",
       "      <line x1=\"10.95\" y1=\"-0.10\" x2=\"10.23\" y2=\"-0.51\"/>\n",
       "      <line x1=\"10.20\" y1=\"-0.46\" x2=\"9.49\" y2=\"-0.87\"/>\n",
       "      <line x1=\"10.26\" y1=\"-0.56\" x2=\"9.55\" y2=\"-0.97\"/>\n",
       "    </g>\n",
       "    <g font-size=\"0.50\" font-family=\"sans-serif\">\n",
       "      <use xlink:href=\"#7b486cd5-9d13-4487-a118-129ce34fde26-5\" fill=\"#FF0D0D\"/>\n",
       "      <use xlink:href=\"#7b486cd5-9d13-4487-a118-129ce34fde26-9\" fill=\"#FF0D0D\"/>\n",
       "      <use xlink:href=\"#7b486cd5-9d13-4487-a118-129ce34fde26-1\" fill=\"#FF0D0D\"/>\n",
       "      <use xlink:href=\"#7b486cd5-9d13-4487-a118-129ce34fde26-3\" fill=\"#FF0D0D\"/>\n",
       "    </g>\n",
       "    <use xlink:href=\"#7b486cd5-9d13-4487-a118-129ce34fde26-mapping\" fill=\"#0305A7\"/>\n",
       "  </g>\n",
       "</svg>"
      ],
      "text/plain": [
       "<chython.containers.reaction.ReactionContainer at 0x28e7d41ebe0>"
      ]
     },
     "execution_count": 56,
     "metadata": {},
     "output_type": "execute_result"
    }
   ],
   "source": [
    "products[-4]"
   ]
  },
  {
   "cell_type": "markdown",
   "metadata": {},
   "source": [
    "# 6. Molecules and Reactions API\n",
    "\n",
    "There are explanation of some methods"
   ]
  },
  {
   "cell_type": "code",
   "execution_count": 57,
   "metadata": {},
   "outputs": [
    {
     "name": "stdout",
     "output_type": "stream",
     "text": [
      "[Cl-] [Na+]\n"
     ]
    },
    {
     "data": {
      "image/svg+xml": [
       "<svg width=\"3.10cm\" height=\"1.25cm\" viewBox=\"-0.43 -0.62 3.10 1.25\" xmlns=\"http://www.w3.org/2000/svg\" xmlns:xlink=\"http://www.w3.org/1999/xlink\" version=\"1.1\">\n",
       "  <g id=\"bc324d6d-2a46-44b3-ade1-2d2b9e8c8d06-molecule\">\n",
       "    <defs>\n",
       "      <g id=\"bc324d6d-2a46-44b3-ade1-2d2b9e8c8d06-symbols\" font-size=\"0.50\" font-family=\"sans-serif\">\n",
       "        <text id=\"bc324d6d-2a46-44b3-ade1-2d2b9e8c8d06-1\" x=\"0.20\" y=\"-0.00\" dx=\"-0.35\" dy=\"0.20\">Cl</text>\n",
       "        <text id=\"bc324d6d-2a46-44b3-ade1-2d2b9e8c8d06-2\" x=\"1.30\" y=\"-0.00\" dx=\"-0.35\" dy=\"0.20\">Na</text>\n",
       "      </g>\n",
       "      <g id=\"bc324d6d-2a46-44b3-ade1-2d2b9e8c8d06-attrs\" font-size=\"0.30\" font-family=\"monospace\">\n",
       "        <text x=\"0.20\" y=\"-0.00\" dx=\"0.05\" dy=\"-0.20\">-</text>\n",
       "        <text x=\"1.30\" y=\"-0.00\" dx=\"0.05\" dy=\"-0.20\">+</text>\n",
       "      </g>\n",
       "      <g id=\"bc324d6d-2a46-44b3-ade1-2d2b9e8c8d06-mapping\" font-size=\"0.25\" font-family=\"monospace\" text-anchor=\"end\">\n",
       "        <text x=\"0.20\" y=\"-0.00\" dx=\"-0.30\" dy=\"0.35\">1</text>\n",
       "        <text x=\"1.30\" y=\"-0.00\" dx=\"-0.30\" dy=\"0.35\">2</text>\n",
       "      </g>\n",
       "    </defs>\n",
       "    <g font-size=\"0.50\" font-family=\"sans-serif\">\n",
       "      <use xlink:href=\"#bc324d6d-2a46-44b3-ade1-2d2b9e8c8d06-1\" fill=\"#1FF01F\"/>\n",
       "      <use xlink:href=\"#bc324d6d-2a46-44b3-ade1-2d2b9e8c8d06-2\" fill=\"#AB5CF2\"/>\n",
       "    </g>\n",
       "    <use xlink:href=\"#bc324d6d-2a46-44b3-ade1-2d2b9e8c8d06-attrs\" fill=\"black\"/>\n",
       "    <use xlink:href=\"#bc324d6d-2a46-44b3-ade1-2d2b9e8c8d06-mapping\" fill=\"#0305A7\"/>\n",
       "  </g>\n",
       "</svg>"
      ],
      "text/plain": [
       "<chython.containers.molecule.MoleculeContainer at 0x28e7d3ef720>"
      ]
     },
     "execution_count": 57,
     "metadata": {},
     "output_type": "execute_result"
    }
   ],
   "source": [
    "anion, cation = smiles('[Cl-].[Na+]').split() # disconnected components can be split\n",
    "print(anion, cation)\n",
    "salt = anion | cation # molecules can be merged\n",
    "salt = anion.union(cation, remap=True) # fix mapping overlap\n",
    "salt.clean2d()\n",
    "salt"
   ]
  },
  {
   "cell_type": "code",
   "execution_count": 58,
   "metadata": {},
   "outputs": [
    {
     "name": "stdout",
     "output_type": "stream",
     "text": [
      "C None\n",
      "C 1\n"
     ]
    },
    {
     "data": {
      "image/svg+xml": [
       "<svg width=\"3.65cm\" height=\"2.68cm\" viewBox=\"-2.27 -1.34 3.65 2.68\" xmlns=\"http://www.w3.org/2000/svg\" xmlns:xlink=\"http://www.w3.org/1999/xlink\" version=\"1.1\">\n",
       "  <g id=\"daaca070-150b-4166-b027-4e3f57fe254d-molecule\">\n",
       "    <defs>\n",
       "      <g id=\"daaca070-150b-4166-b027-4e3f57fe254d-mapping\" font-size=\"0.25\" font-family=\"monospace\" text-anchor=\"end\">\n",
       "        <text x=\"0.00\" y=\"-0.00\" dx=\"-0.05\" dy=\"0.20\">1</text>\n",
       "        <text x=\"-0.41\" y=\"-0.71\" dx=\"-0.05\" dy=\"0.20\">2</text>\n",
       "        <text x=\"-1.24\" y=\"-0.71\" dx=\"-0.05\" dy=\"0.20\">3</text>\n",
       "        <text x=\"-1.65\" y=\"-0.00\" dx=\"-0.05\" dy=\"0.20\">4</text>\n",
       "        <text x=\"-1.24\" y=\"0.71\" dx=\"-0.05\" dy=\"0.20\">5</text>\n",
       "        <text x=\"-0.41\" y=\"0.71\" dx=\"-0.05\" dy=\"0.20\">6</text>\n",
       "      </g>\n",
       "      <mask id=\"daaca070-150b-4166-b027-4e3f57fe254d-mask\">\n",
       "        <rect x=\"-2.27\" y=\"-1.34\" width=\"3.65\" height=\"2.68\" fill=\"white\"/>\n",
       "        <g stroke=\"black\">\n",
       "          <use xlink:href=\"#daaca070-150b-4166-b027-4e3f57fe254d-mapping\" stroke-width=\"0.03\"/>\n",
       "        </g>\n",
       "      </mask>\n",
       "    </defs>\n",
       "    <g fill=\"none\" stroke=\"black\" stroke-width=\"0.04\" mask=\"url(#daaca070-150b-4166-b027-4e3f57fe254d-mask)\">\n",
       "      <line x1=\"0.00\" y1=\"-0.00\" x2=\"-0.41\" y2=\"-0.71\"/>\n",
       "      <line x1=\"0.00\" y1=\"-0.00\" x2=\"-0.41\" y2=\"0.71\"/>\n",
       "      <line x1=\"-0.41\" y1=\"-0.71\" x2=\"-1.24\" y2=\"-0.71\"/>\n",
       "      <line x1=\"-1.24\" y1=\"-0.71\" x2=\"-1.65\" y2=\"-0.00\"/>\n",
       "      <line x1=\"-1.65\" y1=\"-0.00\" x2=\"-1.24\" y2=\"0.71\"/>\n",
       "      <line x1=\"-1.24\" y1=\"0.71\" x2=\"-0.41\" y2=\"0.71\"/>\n",
       "      <line x1=\"-0.16\" y1=\"-0.00\" x2=\"-0.49\" y2=\"-0.57\" stroke-dasharray=\"0.15 0.05\"/>\n",
       "      <line x1=\"-0.49\" y1=\"-0.57\" x2=\"-1.16\" y2=\"-0.57\" stroke-dasharray=\"0.15 0.05\"/>\n",
       "      <line x1=\"-1.16\" y1=\"-0.57\" x2=\"-1.49\" y2=\"-0.00\" stroke-dasharray=\"0.15 0.05\"/>\n",
       "      <line x1=\"-1.49\" y1=\"-0.00\" x2=\"-1.16\" y2=\"0.57\" stroke-dasharray=\"0.15 0.05\"/>\n",
       "      <line x1=\"-1.16\" y1=\"0.57\" x2=\"-0.49\" y2=\"0.57\" stroke-dasharray=\"0.15 0.05\"/>\n",
       "      <line x1=\"-0.49\" y1=\"0.57\" x2=\"-0.16\" y2=\"-0.00\" stroke-dasharray=\"0.15 0.05\"/>\n",
       "    </g>\n",
       "    <use xlink:href=\"#daaca070-150b-4166-b027-4e3f57fe254d-mapping\" fill=\"#0305A7\"/>\n",
       "  </g>\n",
       "</svg>"
      ],
      "text/plain": [
       "<chython.containers.molecule.MoleculeContainer at 0x28e7d44cc20>"
      ]
     },
     "execution_count": 58,
     "metadata": {},
     "output_type": "execute_result"
    }
   ],
   "source": [
    "m = toluene.substructure([1, 2, 3, 4, 5, 6]) # extraction of substructure\n",
    "# set recalculate_hydrogens=False to save hydrogen count info. useful for full component extraction.\n",
    "m.clean2d()\n",
    "print(m.atom(1).atomic_symbol, m.atom(1).implicit_hydrogens) # aromatic structures require kekule>thiele procedure to fix hydrogens count\n",
    "m.kekule() and m.thiele()\n",
    "print(m.atom(1).atomic_symbol, m.atom(1).implicit_hydrogens)\n",
    "m"
   ]
  },
  {
   "cell_type": "code",
   "execution_count": 59,
   "metadata": {},
   "outputs": [
    {
     "data": {
      "image/svg+xml": [
       "<svg width=\"3.65cm\" height=\"2.68cm\" viewBox=\"-2.27 -1.34 3.65 2.68\" xmlns=\"http://www.w3.org/2000/svg\" xmlns:xlink=\"http://www.w3.org/1999/xlink\" version=\"1.1\">\n",
       "  <g id=\"fb281b38-2c73-4035-919e-74074c86a405-molecule\">\n",
       "    <defs>\n",
       "      <g id=\"fb281b38-2c73-4035-919e-74074c86a405-mapping\" font-size=\"0.25\" font-family=\"monospace\" text-anchor=\"end\">\n",
       "        <text x=\"0.00\" y=\"-0.00\" dx=\"-0.05\" dy=\"0.20\">7</text>\n",
       "        <text x=\"-0.41\" y=\"-0.71\" dx=\"-0.05\" dy=\"0.20\">2</text>\n",
       "        <text x=\"-1.24\" y=\"-0.71\" dx=\"-0.05\" dy=\"0.20\">3</text>\n",
       "        <text x=\"-1.65\" y=\"-0.00\" dx=\"-0.05\" dy=\"0.20\">4</text>\n",
       "        <text x=\"-1.24\" y=\"0.71\" dx=\"-0.05\" dy=\"0.20\">5</text>\n",
       "        <text x=\"-0.41\" y=\"0.71\" dx=\"-0.05\" dy=\"0.20\">6</text>\n",
       "      </g>\n",
       "      <mask id=\"fb281b38-2c73-4035-919e-74074c86a405-mask\">\n",
       "        <rect x=\"-2.27\" y=\"-1.34\" width=\"3.65\" height=\"2.68\" fill=\"white\"/>\n",
       "        <g stroke=\"black\">\n",
       "          <use xlink:href=\"#fb281b38-2c73-4035-919e-74074c86a405-mapping\" stroke-width=\"0.03\"/>\n",
       "        </g>\n",
       "      </mask>\n",
       "    </defs>\n",
       "    <g fill=\"none\" stroke=\"black\" stroke-width=\"0.04\" mask=\"url(#fb281b38-2c73-4035-919e-74074c86a405-mask)\">\n",
       "      <line x1=\"0.00\" y1=\"-0.00\" x2=\"-0.41\" y2=\"-0.71\"/>\n",
       "      <line x1=\"0.00\" y1=\"-0.00\" x2=\"-0.41\" y2=\"0.71\"/>\n",
       "      <line x1=\"-0.41\" y1=\"-0.71\" x2=\"-1.24\" y2=\"-0.71\"/>\n",
       "      <line x1=\"-1.24\" y1=\"-0.71\" x2=\"-1.65\" y2=\"-0.00\"/>\n",
       "      <line x1=\"-1.65\" y1=\"-0.00\" x2=\"-1.24\" y2=\"0.71\"/>\n",
       "      <line x1=\"-1.24\" y1=\"0.71\" x2=\"-0.41\" y2=\"0.71\"/>\n",
       "      <line x1=\"-0.49\" y1=\"-0.57\" x2=\"-1.16\" y2=\"-0.57\" stroke-dasharray=\"0.15 0.05\"/>\n",
       "      <line x1=\"-1.16\" y1=\"-0.57\" x2=\"-1.49\" y2=\"-0.00\" stroke-dasharray=\"0.15 0.05\"/>\n",
       "      <line x1=\"-1.49\" y1=\"-0.00\" x2=\"-1.16\" y2=\"0.57\" stroke-dasharray=\"0.15 0.05\"/>\n",
       "      <line x1=\"-1.16\" y1=\"0.57\" x2=\"-0.49\" y2=\"0.57\" stroke-dasharray=\"0.15 0.05\"/>\n",
       "      <line x1=\"-0.49\" y1=\"0.57\" x2=\"-0.16\" y2=\"-0.00\" stroke-dasharray=\"0.15 0.05\"/>\n",
       "      <line x1=\"-0.16\" y1=\"-0.00\" x2=\"-0.49\" y2=\"-0.57\" stroke-dasharray=\"0.15 0.05\"/>\n",
       "    </g>\n",
       "    <use xlink:href=\"#fb281b38-2c73-4035-919e-74074c86a405-mapping\" fill=\"#0305A7\"/>\n",
       "  </g>\n",
       "</svg>"
      ],
      "text/plain": [
       "<chython.containers.molecule.MoleculeContainer at 0x28e7d3efcc0>"
      ]
     },
     "execution_count": 59,
     "metadata": {},
     "output_type": "execute_result"
    }
   ],
   "source": [
    "remapped = m.remap({1: 7}, copy=True) # change atom numbers\n",
    "remapped"
   ]
  }
 ],
 "metadata": {
  "kernelspec": {
   "display_name": "Python 3 (ipykernel)",
   "language": "python",
   "name": "python3"
  },
  "language_info": {
   "codemirror_mode": {
    "name": "ipython",
    "version": 3
   },
   "file_extension": ".py",
   "mimetype": "text/x-python",
   "name": "python",
   "nbconvert_exporter": "python",
   "pygments_lexer": "ipython3",
   "version": "3.8.10"
  }
 },
 "nbformat": 4,
 "nbformat_minor": 2
}